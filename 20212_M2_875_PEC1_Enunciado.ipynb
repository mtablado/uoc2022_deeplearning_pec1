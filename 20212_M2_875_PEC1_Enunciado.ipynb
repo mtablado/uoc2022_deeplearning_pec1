{
  "cells": [
    {
      "cell_type": "markdown",
      "metadata": {
        "id": "YO1mZRrP4FT2"
      },
      "source": [
        "<div style=\"width: 100%; clear: both;\">\n",
        "<div style=\"float: left; width: 50%;\">\n",
        "<img src=\"http://www.uoc.edu/portal/_resources/common/imatges/marca_UOC/UOC_Masterbrand.jpg\", align=\"left\">\n",
        "</div>\n",
        "<div style=\"float: right; width: 50%;\">\n",
        "<p style=\"margin: 0; padding-top: 22px; text-align:right;\">M2.875 · Deep Learning · PEC1</p>\n",
        "<p style=\"margin: 0; text-align:right;\">2021-2 · Máster universitario en Ciencia de datos (Data science)</p>\n",
        "<p style=\"margin: 0; text-align:right; padding-button: 100px;\">Estudios de Informática, Multimedia y Telecomunicación</p>\n",
        "</div>\n",
        "</div>\n",
        "<div style=\"width:100%;\">&nbsp;</div>\n",
        "\n",
        "\n",
        "# PEC 1: Redes neuronales artificiales\n",
        "\n",
        "En esta práctica implementaremos redes neuronales artificiales para resolver problemas de:\n",
        "\n",
        "   - Clasificación\n",
        "   - Regresión   \n",
        "\n",
        "\n",
        "**Importante: La entrega debe hacerse en formato notebook y en formato html donde se vea el código y los resultados y comentarios de cada ejercicio. Para exportar el notebook a html puede hacerse desde el menú File $\\to$ Download as $\\to$ HTML.**"
      ]
    },
    {
      "cell_type": "markdown",
      "metadata": {
        "id": "M35X9fQv4dUv"
      },
      "source": [
        "## 0. Contexto y carga de librerías"
      ]
    },
    {
      "cell_type": "markdown",
      "metadata": {
        "id": "GtU00Tcg-KHd"
      },
      "source": [
        "El siguiente código carga los paquetes necesarios para la práctica y lee el fichero de datos que usaremos."
      ]
    },
    {
      "cell_type": "markdown",
      "metadata": {
        "id": "m9pjq3hFA5Yg"
      },
      "source": [
        "Los datos contienen información sobre coches de segunda mano, sus características y el precio de re-venta en euros. En un primer ejercicio diseñaremos un modelo que nos permita clasificar los coches en tres grupos según su gama de precio. En el segundo ejercicio diseñaremos un modelo de regresión para predecir el precio de re-venta."
      ]
    },
    {
      "cell_type": "code",
      "execution_count": 100,
      "metadata": {
        "id": "19ixS6Vp-KHd"
      },
      "outputs": [],
      "source": [
        "import pandas as pd\n",
        "import numpy as np\n",
        "\n",
        "import matplotlib.pyplot as plt\n",
        "import seaborn as sns\n",
        "import timeit\n",
        "\n",
        "import keras\n",
        "from keras.models import Sequential, Model\n",
        "from keras.layers import Dense\n",
        "from tensorflow.keras.optimizers import Adam, SGD, Adadelta, Adagrad\n",
        "\n",
        "from sklearn.model_selection import train_test_split\n",
        "from sklearn.metrics import confusion_matrix, mean_squared_error, classification_report, ConfusionMatrixDisplay\n",
        "from sklearn.preprocessing import OneHotEncoder, StandardScaler"
      ]
    },
    {
      "cell_type": "code",
      "execution_count": 2,
      "metadata": {
        "id": "vmCg_5zXItWM",
        "colab": {
          "base_uri": "https://localhost:8080/"
        },
        "outputId": "4381316a-4fe0-4afa-f2e8-9f2881c31d95"
      },
      "outputs": [
        {
          "output_type": "stream",
          "name": "stdout",
          "text": [
            "Mounted at /content/drive\n"
          ]
        }
      ],
      "source": [
        "##To read directly from Drive in Google Colab use:\n",
        "from google.colab import drive\n",
        "drive.mount('/content/drive')\n",
        "#input path: \"./drive/MyDrive/CarPricesData.pkl\"\n",
        "\n",
        "##To read in Kaggle, upload file in Kaggle \n",
        "##input path: \"/kaggle/input/botnetdl/botnet_dataset_DL.csv\""
      ]
    },
    {
      "cell_type": "code",
      "execution_count": 3,
      "metadata": {
        "id": "oAEbN2Xc-KHe"
      },
      "outputs": [],
      "source": [
        "df = pd.read_csv(\"/content/drive/My Drive/dataset.csv\") #change path if needed"
      ]
    },
    {
      "cell_type": "code",
      "execution_count": 4,
      "metadata": {
        "id": "g8gJfmpY-r2p",
        "colab": {
          "base_uri": "https://localhost:8080/",
          "height": 206
        },
        "outputId": "05bbf26b-b312-4b77-ff83-83322cf1109f"
      },
      "outputs": [
        {
          "output_type": "execute_result",
          "data": {
            "text/plain": [
              "   months_old      km fuel_type  horsepower  metcolor  automatic  size_engine  \\\n",
              "0          73   97494    Petrol         110         1          0         1600   \n",
              "1          48   89049    Petrol          97         1          0         1400   \n",
              "2          40  161000    Diesel          69         1          0         1900   \n",
              "3          37   38812    Petrol          97         0          0         1400   \n",
              "4          55   33230    Petrol         110         0          0         1600   \n",
              "\n",
              "   doors_num  weight  price  \n",
              "0          5    1085  10950  \n",
              "1          5    1060  13500  \n",
              "2          3    1105  13950  \n",
              "3          3    1025  13450  \n",
              "4          3    1050  13500  "
            ],
            "text/html": [
              "\n",
              "  <div id=\"df-877db65e-126a-4639-8f6e-44dd4dbf5273\">\n",
              "    <div class=\"colab-df-container\">\n",
              "      <div>\n",
              "<style scoped>\n",
              "    .dataframe tbody tr th:only-of-type {\n",
              "        vertical-align: middle;\n",
              "    }\n",
              "\n",
              "    .dataframe tbody tr th {\n",
              "        vertical-align: top;\n",
              "    }\n",
              "\n",
              "    .dataframe thead th {\n",
              "        text-align: right;\n",
              "    }\n",
              "</style>\n",
              "<table border=\"1\" class=\"dataframe\">\n",
              "  <thead>\n",
              "    <tr style=\"text-align: right;\">\n",
              "      <th></th>\n",
              "      <th>months_old</th>\n",
              "      <th>km</th>\n",
              "      <th>fuel_type</th>\n",
              "      <th>horsepower</th>\n",
              "      <th>metcolor</th>\n",
              "      <th>automatic</th>\n",
              "      <th>size_engine</th>\n",
              "      <th>doors_num</th>\n",
              "      <th>weight</th>\n",
              "      <th>price</th>\n",
              "    </tr>\n",
              "  </thead>\n",
              "  <tbody>\n",
              "    <tr>\n",
              "      <th>0</th>\n",
              "      <td>73</td>\n",
              "      <td>97494</td>\n",
              "      <td>Petrol</td>\n",
              "      <td>110</td>\n",
              "      <td>1</td>\n",
              "      <td>0</td>\n",
              "      <td>1600</td>\n",
              "      <td>5</td>\n",
              "      <td>1085</td>\n",
              "      <td>10950</td>\n",
              "    </tr>\n",
              "    <tr>\n",
              "      <th>1</th>\n",
              "      <td>48</td>\n",
              "      <td>89049</td>\n",
              "      <td>Petrol</td>\n",
              "      <td>97</td>\n",
              "      <td>1</td>\n",
              "      <td>0</td>\n",
              "      <td>1400</td>\n",
              "      <td>5</td>\n",
              "      <td>1060</td>\n",
              "      <td>13500</td>\n",
              "    </tr>\n",
              "    <tr>\n",
              "      <th>2</th>\n",
              "      <td>40</td>\n",
              "      <td>161000</td>\n",
              "      <td>Diesel</td>\n",
              "      <td>69</td>\n",
              "      <td>1</td>\n",
              "      <td>0</td>\n",
              "      <td>1900</td>\n",
              "      <td>3</td>\n",
              "      <td>1105</td>\n",
              "      <td>13950</td>\n",
              "    </tr>\n",
              "    <tr>\n",
              "      <th>3</th>\n",
              "      <td>37</td>\n",
              "      <td>38812</td>\n",
              "      <td>Petrol</td>\n",
              "      <td>97</td>\n",
              "      <td>0</td>\n",
              "      <td>0</td>\n",
              "      <td>1400</td>\n",
              "      <td>3</td>\n",
              "      <td>1025</td>\n",
              "      <td>13450</td>\n",
              "    </tr>\n",
              "    <tr>\n",
              "      <th>4</th>\n",
              "      <td>55</td>\n",
              "      <td>33230</td>\n",
              "      <td>Petrol</td>\n",
              "      <td>110</td>\n",
              "      <td>0</td>\n",
              "      <td>0</td>\n",
              "      <td>1600</td>\n",
              "      <td>3</td>\n",
              "      <td>1050</td>\n",
              "      <td>13500</td>\n",
              "    </tr>\n",
              "  </tbody>\n",
              "</table>\n",
              "</div>\n",
              "      <button class=\"colab-df-convert\" onclick=\"convertToInteractive('df-877db65e-126a-4639-8f6e-44dd4dbf5273')\"\n",
              "              title=\"Convert this dataframe to an interactive table.\"\n",
              "              style=\"display:none;\">\n",
              "        \n",
              "  <svg xmlns=\"http://www.w3.org/2000/svg\" height=\"24px\"viewBox=\"0 0 24 24\"\n",
              "       width=\"24px\">\n",
              "    <path d=\"M0 0h24v24H0V0z\" fill=\"none\"/>\n",
              "    <path d=\"M18.56 5.44l.94 2.06.94-2.06 2.06-.94-2.06-.94-.94-2.06-.94 2.06-2.06.94zm-11 1L8.5 8.5l.94-2.06 2.06-.94-2.06-.94L8.5 2.5l-.94 2.06-2.06.94zm10 10l.94 2.06.94-2.06 2.06-.94-2.06-.94-.94-2.06-.94 2.06-2.06.94z\"/><path d=\"M17.41 7.96l-1.37-1.37c-.4-.4-.92-.59-1.43-.59-.52 0-1.04.2-1.43.59L10.3 9.45l-7.72 7.72c-.78.78-.78 2.05 0 2.83L4 21.41c.39.39.9.59 1.41.59.51 0 1.02-.2 1.41-.59l7.78-7.78 2.81-2.81c.8-.78.8-2.07 0-2.86zM5.41 20L4 18.59l7.72-7.72 1.47 1.35L5.41 20z\"/>\n",
              "  </svg>\n",
              "      </button>\n",
              "      \n",
              "  <style>\n",
              "    .colab-df-container {\n",
              "      display:flex;\n",
              "      flex-wrap:wrap;\n",
              "      gap: 12px;\n",
              "    }\n",
              "\n",
              "    .colab-df-convert {\n",
              "      background-color: #E8F0FE;\n",
              "      border: none;\n",
              "      border-radius: 50%;\n",
              "      cursor: pointer;\n",
              "      display: none;\n",
              "      fill: #1967D2;\n",
              "      height: 32px;\n",
              "      padding: 0 0 0 0;\n",
              "      width: 32px;\n",
              "    }\n",
              "\n",
              "    .colab-df-convert:hover {\n",
              "      background-color: #E2EBFA;\n",
              "      box-shadow: 0px 1px 2px rgba(60, 64, 67, 0.3), 0px 1px 3px 1px rgba(60, 64, 67, 0.15);\n",
              "      fill: #174EA6;\n",
              "    }\n",
              "\n",
              "    [theme=dark] .colab-df-convert {\n",
              "      background-color: #3B4455;\n",
              "      fill: #D2E3FC;\n",
              "    }\n",
              "\n",
              "    [theme=dark] .colab-df-convert:hover {\n",
              "      background-color: #434B5C;\n",
              "      box-shadow: 0px 1px 3px 1px rgba(0, 0, 0, 0.15);\n",
              "      filter: drop-shadow(0px 1px 2px rgba(0, 0, 0, 0.3));\n",
              "      fill: #FFFFFF;\n",
              "    }\n",
              "  </style>\n",
              "\n",
              "      <script>\n",
              "        const buttonEl =\n",
              "          document.querySelector('#df-877db65e-126a-4639-8f6e-44dd4dbf5273 button.colab-df-convert');\n",
              "        buttonEl.style.display =\n",
              "          google.colab.kernel.accessAllowed ? 'block' : 'none';\n",
              "\n",
              "        async function convertToInteractive(key) {\n",
              "          const element = document.querySelector('#df-877db65e-126a-4639-8f6e-44dd4dbf5273');\n",
              "          const dataTable =\n",
              "            await google.colab.kernel.invokeFunction('convertToInteractive',\n",
              "                                                     [key], {});\n",
              "          if (!dataTable) return;\n",
              "\n",
              "          const docLinkHtml = 'Like what you see? Visit the ' +\n",
              "            '<a target=\"_blank\" href=https://colab.research.google.com/notebooks/data_table.ipynb>data table notebook</a>'\n",
              "            + ' to learn more about interactive tables.';\n",
              "          element.innerHTML = '';\n",
              "          dataTable['output_type'] = 'display_data';\n",
              "          await google.colab.output.renderOutput(dataTable, element);\n",
              "          const docLink = document.createElement('div');\n",
              "          docLink.innerHTML = docLinkHtml;\n",
              "          element.appendChild(docLink);\n",
              "        }\n",
              "      </script>\n",
              "    </div>\n",
              "  </div>\n",
              "  "
            ]
          },
          "metadata": {},
          "execution_count": 4
        }
      ],
      "source": [
        "df.head(5)"
      ]
    },
    {
      "cell_type": "markdown",
      "metadata": {
        "id": "v4uy3S_l4uMK"
      },
      "source": [
        "## 1. Exploración (1 punto)\n",
        "\n"
      ]
    },
    {
      "cell_type": "markdown",
      "metadata": {
        "id": "-OTrT_SvJoYF"
      },
      "source": [
        "En primer lugar exploraremos el conjunto de datos. "
      ]
    },
    {
      "cell_type": "markdown",
      "metadata": {
        "id": "WArt2HG7n1qY"
      },
      "source": [
        "<div style=\"background-color: #EDF7FF; border-color: #7C9DBF; border-left: 5px solid #7C9DBF; padding: 0.5em;\">\n",
        "<strong>Ejercicio (1 punto):</strong> Explora los datos: \n",
        "\n",
        "<ul>\n",
        "        \n",
        "<li> Indica el tamaño del dataset y el número de variables categóricas y continuas del conjunto de datos</li> \n",
        "<li>   Grafica las distribuciones de las variables categóricas y de las continuas</li>\n",
        "<li>    Genera una tabla de correlaciones de todas las variables usando la librería <code>seaborn</code>, mostrando en cada casilla el valor de la correlación</li>\n",
        "<li>    Genera una tabla (usando la librería <code>seaborn</code>) que muestre únicamente las correlaciones entre el precio y el resto de variables, ordenada de mayor a menor según los valores de correlación</li>\n",
        "<li>  Comenta los resultados de la exploración de datos</li>\n",
        "</ul>\n",
        "\n",
        "</div>"
      ]
    },
    {
      "cell_type": "markdown",
      "metadata": {
        "id": "V10fH2QxP_vg"
      },
      "source": [
        "\n",
        "\n",
        "*   **Variables**\n",
        "\n"
      ]
    },
    {
      "cell_type": "code",
      "execution_count": 5,
      "metadata": {
        "id": "N3TOQ_ko_COF",
        "colab": {
          "base_uri": "https://localhost:8080/"
        },
        "outputId": "dc439eba-1d1e-42a5-b56d-84440d166082"
      },
      "outputs": [
        {
          "output_type": "execute_result",
          "data": {
            "text/plain": [
              "<bound method NDFrame.describe of       months_old      km fuel_type  horsepower  metcolor  automatic  \\\n",
              "0             73   97494    Petrol         110         1          0   \n",
              "1             48   89049    Petrol          97         1          0   \n",
              "2             40  161000    Diesel          69         1          0   \n",
              "3             37   38812    Petrol          97         0          0   \n",
              "4             55   33230    Petrol         110         0          0   \n",
              "...          ...     ...       ...         ...       ...        ...   \n",
              "1431          48   78600    Petrol         110         1          0   \n",
              "1432          80   86109    Petrol         110         1          0   \n",
              "1433          77   82103    Petrol          86         1          0   \n",
              "1434          40   38653    Petrol         110         1          0   \n",
              "1435          59   43818    Petrol         110         0          0   \n",
              "\n",
              "      size_engine  doors_num  weight  price  \n",
              "0            1600          5    1085  10950  \n",
              "1            1400          5    1060  13500  \n",
              "2            1900          3    1105  13950  \n",
              "3            1400          3    1025  13450  \n",
              "4            1600          3    1050  13500  \n",
              "...           ...        ...     ...    ...  \n",
              "1431         1600          5    1075  11750  \n",
              "1432         1600          3    1055   8750  \n",
              "1433         1300          3    1015   8950  \n",
              "1434         1600          5    1080  14950  \n",
              "1435         1600          5    1070  11950  \n",
              "\n",
              "[1436 rows x 10 columns]>"
            ]
          },
          "metadata": {},
          "execution_count": 5
        }
      ],
      "source": [
        "#Dataset size\n",
        "df.describe"
      ]
    },
    {
      "cell_type": "code",
      "execution_count": 6,
      "metadata": {
        "id": "i8-SrElyJFy3"
      },
      "outputs": [],
      "source": [
        "#Number of categorical and continuous variables\n",
        "num_categorical_variables = 4\n",
        "num_continuous_variables = 6"
      ]
    },
    {
      "cell_type": "markdown",
      "metadata": {
        "id": "bJvw7JwmQFss"
      },
      "source": [
        "*   **Distribuciones**\n",
        "\n",
        "\n",
        "\n"
      ]
    },
    {
      "cell_type": "code",
      "execution_count": 7,
      "metadata": {
        "id": "Oks_R5EhN5om",
        "colab": {
          "base_uri": "https://localhost:8080/",
          "height": 312
        },
        "outputId": "dcaeff47-5546-4b04-eb19-84b98e0a477e"
      },
      "outputs": [
        {
          "output_type": "display_data",
          "data": {
            "text/plain": [
              "<Figure size 1800x288 with 4 Axes>"
            ],
            "image/png": "[encoded data removed]"
          },
          "metadata": {
            "needs_background": "light"
          }
        }
      ],
      "source": [
        "#Distributions of categorical variables\n",
        "fig, ax = plt.subplots(nrows=1, ncols=num_categorical_variables, figsize=(25,4))\n",
        "\n",
        "feats_to_explore = ['fuel_type', 'metcolor', 'automatic', 'doors_num']\n",
        "for i in range(len(feats_to_explore)):\n",
        "    df[feats_to_explore[i]].value_counts().plot.bar(ax=ax[i])\n",
        "    ax[i].set_title(feats_to_explore[i])\n",
        "    \n",
        "plt.suptitle('Distributions of categorical variables', weight='bold', size=16)\n",
        "fig.subplots_adjust(top=0.8)\n",
        "plt.show()\n"
      ]
    },
    {
      "cell_type": "code",
      "execution_count": 8,
      "metadata": {
        "id": "tv7CULUcPiTc",
        "colab": {
          "base_uri": "https://localhost:8080/",
          "height": 292
        },
        "outputId": "70e2ebcb-620c-41c8-8273-b87541e7c1c1"
      },
      "outputs": [
        {
          "output_type": "display_data",
          "data": {
            "text/plain": [
              "<Figure size 1800x288 with 6 Axes>"
            ],
            "image/png": "[encoded data removed]"
          },
          "metadata": {
            "needs_background": "light"
          }
        }
      ],
      "source": [
        "#Distributions continuous variables\n",
        "fig, ax = plt.subplots(nrows=1, ncols=num_continuous_variables, figsize=(25,4))\n",
        "\n",
        "feats_to_explore = ['months_old', 'km', 'horsepower', 'size_engine', 'weight', 'price']\n",
        "for i in range(len(feats_to_explore)):\n",
        "    df.hist(alpha=0.5, column=feats_to_explore[i], ax=ax[i])\n",
        "    \n",
        "plt.suptitle('Coninuous Variables Distributions', weight='bold', size=16)\n",
        "fig.subplots_adjust(top=0.8)\n",
        "plt.show()"
      ]
    },
    {
      "cell_type": "markdown",
      "metadata": {
        "id": "YPbtmbqRASsM"
      },
      "source": [
        "*   **Correlaciones**\n",
        "\n",
        "\n"
      ]
    },
    {
      "cell_type": "code",
      "execution_count": 9,
      "metadata": {
        "id": "LvO4C7ymANXf",
        "colab": {
          "base_uri": "https://localhost:8080/",
          "height": 318
        },
        "outputId": "7c94b7e1-aafc-4b79-8b73-7a2d1d12f410"
      },
      "outputs": [
        {
          "output_type": "display_data",
          "data": {
            "text/plain": [
              "<Figure size 432x288 with 2 Axes>"
            ],
            "image/png": "[encoded data removed]"
          },
          "metadata": {
            "needs_background": "light"
          }
        }
      ],
      "source": [
        "#All variables correlations\n",
        "corr = df.corr()\n",
        "ax = sns.heatmap(corr, cmap=\"Blues\", annot=True, linewidths=.5)"
      ]
    },
    {
      "cell_type": "code",
      "execution_count": 10,
      "metadata": {
        "id": "RSJWiWThAQj5",
        "colab": {
          "base_uri": "https://localhost:8080/",
          "height": 269
        },
        "outputId": "65c4b3e1-86a3-4b27-a2b5-d67671d55bf9"
      },
      "outputs": [
        {
          "output_type": "display_data",
          "data": {
            "text/plain": [
              "<Figure size 432x288 with 2 Axes>"
            ],
            "image/png": "[encoded data removed]"
          },
          "metadata": {
            "needs_background": "light"
          }
        }
      ],
      "source": [
        "#Features correlating with Price\n",
        "corr = df.corr()['price'][:]\n",
        "corr = corr.sort_values(ascending=False)\n",
        "corr = corr.to_numpy()\n",
        "ax = sns.heatmap(corr[:, np.newaxis], cmap=\"Blues\", annot=True, linewidths=.5)"
      ]
    },
    {
      "cell_type": "markdown",
      "metadata": {
        "id": "n1GaD4JqQhsJ"
      },
      "source": [
        "\n",
        "\n",
        "*   **Comentarios resultado exploración**\n",
        "\n"
      ]
    },
    {
      "cell_type": "code",
      "execution_count": 11,
      "metadata": {
        "id": "N_8tQfTTQm9Z"
      },
      "outputs": [],
      "source": [
        "#Comments\n"
      ]
    },
    {
      "cell_type": "markdown",
      "metadata": {
        "id": "kdn0ZNWI5HFE"
      },
      "source": [
        "## 2. Red neuronal artificial: Clasificación (4.5 puntos)\n"
      ]
    },
    {
      "cell_type": "markdown",
      "metadata": {
        "id": "3Li5TkOu7tGR"
      },
      "source": [
        "En este apartado entrenaremos un modelo que intente clasificar los coches según su gama de precio. Para ello crearemos una nueva variable como indicador de calidad del coche (gama baja, media o alta), siguiendo las siguientes condiciones:\n",
        "\n",
        "\n",
        "\n",
        "*   _low-end_: precio menor que 11000 euros\n",
        "*   _medium-end_: precio mayor o igual que 11000 euros y menor que 13000\n",
        "*   _high-end_: precio mayor o igual que 13000\n",
        "\n"
      ]
    },
    {
      "cell_type": "markdown",
      "metadata": {
        "id": "zkZrkOkb5QWL"
      },
      "source": [
        "### Pre-procesado\n"
      ]
    },
    {
      "cell_type": "markdown",
      "metadata": {
        "id": "v0z5hx64pNhv"
      },
      "source": [
        "<div style=\"background-color: #EDF7FF; border-color: #7C9DBF; border-left: 5px solid #7C9DBF; padding: 0.5em;\">\n",
        "<strong>Ejercicio (0.75 puntos):</strong> Pre-procesa los datos: \n",
        "\n",
        "<ul>\n",
        "        \n",
        "<li>   Crea una nueva variable <code>quality</code> que incluya la gama del coche, con las condiciones indicadas</li>\n",
        "<li>   Muestra el histograma de la nueva variable <code>quality</code></li>\n",
        "<li>   Crea los vectores de variables dependientes (<i>features</i>) y de la variable independiente (<i>labels</i>)</li>\n",
        "<li>   Normaliza debidamente los datos y binariza el vector de etiquetas (<i>labels</i>) </li>\n",
        "<li>   Divide el conjunto de datos en 80% para entrenamiento y 20% para test, usando la función <code>train_test_split</code></li>\n",
        "<li>   Muestra las dimensiones de los conjuntos de entrenamiento y test</li>\n",
        "</ul>\n",
        "</div>"
      ]
    },
    {
      "cell_type": "code",
      "execution_count": 12,
      "metadata": {
        "id": "GfltZ361AC89",
        "colab": {
          "base_uri": "https://localhost:8080/"
        },
        "outputId": "229b631e-67da-44b7-ce66-64bde5738912"
      },
      "outputs": [
        {
          "output_type": "execute_result",
          "data": {
            "text/plain": [
              "0          low-end\n",
              "1         high-end\n",
              "2         high-end\n",
              "3         high-end\n",
              "4         high-end\n",
              "           ...    \n",
              "1431    medium-end\n",
              "1432       low-end\n",
              "1433       low-end\n",
              "1434      high-end\n",
              "1435    medium-end\n",
              "Name: quality, Length: 1436, dtype: category\n",
              "Categories (3, object): ['low-end' < 'medium-end' < 'high-end']"
            ]
          },
          "metadata": {},
          "execution_count": 12
        }
      ],
      "source": [
        "#Create new variable: quality\n",
        "df['quality'] = pd.cut(df['price'], bins=[0, 11001, 13001, float('Inf')], labels=['low-end', 'medium-end', 'high-end'])\n",
        "df['quality']"
      ]
    },
    {
      "cell_type": "code",
      "execution_count": 13,
      "metadata": {
        "id": "LLcPtn18BlQs",
        "colab": {
          "base_uri": "https://localhost:8080/",
          "height": 352
        },
        "outputId": "2b82063d-ac8b-40ed-8c92-4ed5c3197a60"
      },
      "outputs": [
        {
          "output_type": "execute_result",
          "data": {
            "text/plain": [
              "Text(0.5, 1.0, 'quality')"
            ]
          },
          "metadata": {},
          "execution_count": 13
        },
        {
          "output_type": "display_data",
          "data": {
            "text/plain": [
              "<Figure size 432x288 with 1 Axes>"
            ],
            "image/png": "[encoded data removed]"
          },
          "metadata": {
            "needs_background": "light"
          }
        }
      ],
      "source": [
        "#Histogram car quality\n",
        "ax = df['quality'].value_counts().plot.bar()\n",
        "ax.set_title('quality')"
      ]
    },
    {
      "cell_type": "code",
      "execution_count": 14,
      "metadata": {
        "colab": {
          "base_uri": "https://localhost:8080/"
        },
        "id": "sRH6ZfT-ICPi",
        "outputId": "e4c676e0-8952-4902-d30b-22f7489e9e4c"
      },
      "outputs": [
        {
          "output_type": "execute_result",
          "data": {
            "text/plain": [
              "<bound method NDFrame.describe of       months_old      km fuel_type  horsepower  metcolor  automatic  \\\n",
              "0             73   97494    Petrol         110         1          0   \n",
              "1             48   89049    Petrol          97         1          0   \n",
              "2             40  161000    Diesel          69         1          0   \n",
              "3             37   38812    Petrol          97         0          0   \n",
              "4             55   33230    Petrol         110         0          0   \n",
              "...          ...     ...       ...         ...       ...        ...   \n",
              "1431          48   78600    Petrol         110         1          0   \n",
              "1432          80   86109    Petrol         110         1          0   \n",
              "1433          77   82103    Petrol          86         1          0   \n",
              "1434          40   38653    Petrol         110         1          0   \n",
              "1435          59   43818    Petrol         110         0          0   \n",
              "\n",
              "      size_engine  doors_num  weight  price     quality  \n",
              "0            1600          5    1085  10950     low-end  \n",
              "1            1400          5    1060  13500    high-end  \n",
              "2            1900          3    1105  13950    high-end  \n",
              "3            1400          3    1025  13450    high-end  \n",
              "4            1600          3    1050  13500    high-end  \n",
              "...           ...        ...     ...    ...         ...  \n",
              "1431         1600          5    1075  11750  medium-end  \n",
              "1432         1600          3    1055   8750     low-end  \n",
              "1433         1300          3    1015   8950     low-end  \n",
              "1434         1600          5    1080  14950    high-end  \n",
              "1435         1600          5    1070  11950  medium-end  \n",
              "\n",
              "[1436 rows x 11 columns]>"
            ]
          },
          "metadata": {},
          "execution_count": 14
        }
      ],
      "source": [
        "df.describe"
      ]
    },
    {
      "cell_type": "code",
      "execution_count": 15,
      "metadata": {
        "id": "whqYSqQEBqjM"
      },
      "outputs": [],
      "source": [
        "#Create features and labels vectors\n",
        "features = df.drop(columns = ['quality', 'price'])\n",
        "labels = df['quality']"
      ]
    },
    {
      "cell_type": "code",
      "source": [
        "features['fuel_type'] = features['fuel_type'].astype('category').cat.codes\n",
        "features['fuel_type']\n",
        "scaler = StandardScaler()\n",
        "scaled_features = scaler.fit_transform(features)\n",
        "scaled_features"
      ],
      "metadata": {
        "colab": {
          "base_uri": "https://localhost:8080/"
        },
        "id": "KApEp7pQ7Gt-",
        "outputId": "29875bef-a2cc-4a3f-8b99-99e7936bb344"
      },
      "execution_count": 16,
      "outputs": [
        {
          "output_type": "execute_result",
          "data": {
            "text/plain": [
              "array([[ 0.91525566,  0.77242262,  0.3591837 , ...,  0.17461144,\n",
              "         1.014941  ,  0.23427743],\n",
              "       [-0.43109461,  0.5471829 ,  0.3591837 , ..., -0.89385359,\n",
              "         1.014941  , -0.23947685],\n",
              "       [-0.86192669,  2.46621463, -2.3132919 , ...,  1.777309  ,\n",
              "        -1.08513865,  0.61328086],\n",
              "       ...,\n",
              "       [ 1.13067171,  0.36192356,  0.3591837 , ..., -1.42808611,\n",
              "        -1.08513865, -1.09223456],\n",
              "       [-0.86192669, -0.79694746,  0.3591837 , ...,  0.17461144,\n",
              "         1.014941  ,  0.13952657],\n",
              "       [ 0.16129951, -0.65918983,  0.3591837 , ...,  0.17461144,\n",
              "         1.014941  , -0.04997514]])"
            ]
          },
          "metadata": {},
          "execution_count": 16
        }
      ]
    },
    {
      "cell_type": "code",
      "execution_count": 18,
      "metadata": {
        "colab": {
          "base_uri": "https://localhost:8080/",
          "height": 319
        },
        "id": "ItVvu7JjICPk",
        "outputId": "5350bc56-d35e-431d-b824-e5dfd0dc1aa8"
      },
      "outputs": [
        {
          "output_type": "display_data",
          "data": {
            "text/plain": [
              "<Figure size 432x288 with 1 Axes>"
            ],
            "image/png": "[encoded data removed]"
          },
          "metadata": {
            "needs_background": "light"
          }
        }
      ],
      "source": [
        "# Check labels distribution\n",
        "ax = labels.value_counts().plot.bar()"
      ]
    },
    {
      "cell_type": "code",
      "execution_count": 19,
      "metadata": {
        "id": "OkVVv7yrBxhc",
        "scrolled": true,
        "colab": {
          "base_uri": "https://localhost:8080/",
          "height": 308
        },
        "outputId": "292c30fb-30cc-4e92-f478-a331048946d3"
      },
      "outputs": [
        {
          "output_type": "display_data",
          "data": {
            "text/plain": [
              "<Figure size 432x288 with 1 Axes>"
            ],
            "image/png": "[encoded data removed]"
          },
          "metadata": {
            "needs_background": "light"
          }
        }
      ],
      "source": [
        "#Binarize the labels\n",
        "binary_labels = pd.get_dummies(labels)\n",
        "# Check labels distribution\n",
        "ax = binary_labels.value_counts().plot.bar()"
      ]
    },
    {
      "cell_type": "code",
      "execution_count": 125,
      "metadata": {
        "id": "JqDRRy2mAgUV"
      },
      "outputs": [],
      "source": [
        "#Train-test split\n",
        "myseed= 38\n",
        "\n",
        "X_train, X_test, y_train, y_test = train_test_split(\n",
        "    scaled_features, binary_labels, test_size=0.2, random_state=myseed)"
      ]
    },
    {
      "cell_type": "code",
      "execution_count": 126,
      "metadata": {
        "id": "j7FJc1POAii4",
        "colab": {
          "base_uri": "https://localhost:8080/"
        },
        "outputId": "aeb9c9df-4f1a-4435-812e-8fe8657137eb"
      },
      "outputs": [
        {
          "output_type": "execute_result",
          "data": {
            "text/plain": [
              "((1148, 9), (288, 9), (1148, 3), (288, 3))"
            ]
          },
          "metadata": {},
          "execution_count": 126
        }
      ],
      "source": [
        "#Shapes\n",
        "X_train.shape, X_test.shape, y_train.shape, y_test.shape "
      ]
    },
    {
      "cell_type": "markdown",
      "metadata": {
        "id": "y6YSHMONICPm"
      },
      "source": [
        "|        | X_train   | X_test    | y_train  | y_test   |\n",
        "|--------|-----------|-----------|----------|----------|\n",
        "| Shapes | (1148, 9) | (288, 9)  | (1148, 3)| (288, 3) |"
      ]
    },
    {
      "cell_type": "markdown",
      "metadata": {
        "id": "Z60Pf12T5bjF"
      },
      "source": [
        "### Modelo base\n"
      ]
    },
    {
      "cell_type": "markdown",
      "metadata": {
        "id": "w9Dm_WN5rzGt"
      },
      "source": [
        "Empezaremos diseñando un modelo base con 4 capas ocultas.\n",
        " \n",
        "Nota: Para el ajuste del modelo usaremos los datos de test como conjunto de validación."
      ]
    },
    {
      "cell_type": "markdown",
      "metadata": {
        "id": "X-9gUgcQrGk1"
      },
      "source": [
        "<div style=\"background-color: #EDF7FF; border-color: #7C9DBF; border-left: 5px solid #7C9DBF; padding: 0.5em;\">\n",
        "<strong>Ejercicio (1.25 puntos):</strong> Implementa el modelo de red neuronal artificial:\n",
        "<ul>\n",
        "<li>   Diseña la arquitectura para el modelo de clasificación con la función de activación adecuada para la capa de salida y con las siguientes características:</li>\n",
        "   <ul>\n",
        "   <li> 4 capas ocultas con 64, 32, 10, 8 neuronas sucesivamente</li>\n",
        "   <li> Función de activación de las capas intermedias: ReLU</li>\n",
        "   </ul>\n",
        "\n",
        "<li>   Compila el modelo con la función de pérdida más adecuada, el optimizador Adam, una velocidad de aprendizaje de 0.1, y la métrica Accuracy.</li>\n",
        "\n",
        "<li>   Ajusta el modelo con 20 épocas y un tamaño del batch de 64</li>\n",
        "\n",
        "<li>   Muestra las gráficas de accuracy y loss. En cada gráfica debe visualizarse la curva de entrenamiento y la de validación</li>\n",
        "</ul>\n",
        "</div>"
      ]
    },
    {
      "cell_type": "code",
      "execution_count": 127,
      "metadata": {
        "id": "55FNYaQnB8iS"
      },
      "outputs": [],
      "source": [
        "#Create ANN model\n",
        "model = Sequential()\n",
        "\n",
        "# Input layer\n",
        "model.add(keras.Input(shape=(9,)))\n",
        "\n",
        "# Hidden layers\n",
        "model.add(Dense(64, activation=\"relu\"))\n",
        "model.add(Dense(32, activation=\"relu\"))\n",
        "model.add(Dense(10, activation=\"relu\"))\n",
        "model.add(Dense(8, activation=\"relu\"))\n",
        "\n",
        "# Output layer\n",
        "model.add(Dense(3, activation=\"softmax\"))\n",
        "\n",
        "model.build()"
      ]
    },
    {
      "cell_type": "code",
      "execution_count": 128,
      "metadata": {
        "colab": {
          "base_uri": "https://localhost:8080/"
        },
        "id": "eQkxQqCdICPp",
        "outputId": "ea03a4e4-22ae-4642-c0cb-4f4222a2351c"
      },
      "outputs": [
        {
          "output_type": "stream",
          "name": "stdout",
          "text": [
            "Model: \"sequential_18\"\n",
            "_________________________________________________________________\n",
            " Layer (type)                Output Shape              Param #   \n",
            "=================================================================\n",
            " dense_90 (Dense)            (None, 64)                640       \n",
            "                                                                 \n",
            " dense_91 (Dense)            (None, 32)                2080      \n",
            "                                                                 \n",
            " dense_92 (Dense)            (None, 10)                330       \n",
            "                                                                 \n",
            " dense_93 (Dense)            (None, 8)                 88        \n",
            "                                                                 \n",
            " dense_94 (Dense)            (None, 3)                 27        \n",
            "                                                                 \n",
            "=================================================================\n",
            "Total params: 3,165\n",
            "Trainable params: 3,165\n",
            "Non-trainable params: 0\n",
            "_________________________________________________________________\n"
          ]
        }
      ],
      "source": [
        "model.summary()"
      ]
    },
    {
      "cell_type": "code",
      "execution_count": 129,
      "metadata": {
        "id": "4uZBJAsGqJau"
      },
      "outputs": [],
      "source": [
        "#Compile\n",
        "# Compila el modelo con la función de pérdida más adecuada, \n",
        "  #el optimizador Adam, una velocidad de aprendizaje de 0.1, y la métrica Accuracy.\n",
        "model.compile(Adam(learning_rate=0.1), \"categorical_crossentropy\", metrics=[\"accuracy\"])"
      ]
    },
    {
      "cell_type": "code",
      "execution_count": 130,
      "metadata": {
        "id": "H-k_iYxBqLQK",
        "colab": {
          "base_uri": "https://localhost:8080/"
        },
        "outputId": "00ea8576-eb01-4595-a299-722a1ce93bf1"
      },
      "outputs": [
        {
          "output_type": "stream",
          "name": "stdout",
          "text": [
            "Epoch 1/20\n",
            "18/18 [==============================] - 1s 3ms/step - loss: 0.8355 - accuracy: 0.6054\n",
            "Epoch 2/20\n",
            "18/18 [==============================] - 0s 2ms/step - loss: 0.6217 - accuracy: 0.7395\n",
            "Epoch 3/20\n",
            "18/18 [==============================] - 0s 2ms/step - loss: 0.5432 - accuracy: 0.7683\n",
            "Epoch 4/20\n",
            "18/18 [==============================] - 0s 2ms/step - loss: 0.5447 - accuracy: 0.7683\n",
            "Epoch 5/20\n",
            "18/18 [==============================] - 0s 2ms/step - loss: 0.5410 - accuracy: 0.7770\n",
            "Epoch 6/20\n",
            "18/18 [==============================] - 0s 2ms/step - loss: 0.5083 - accuracy: 0.7848\n",
            "Epoch 7/20\n",
            "18/18 [==============================] - 0s 2ms/step - loss: 0.5291 - accuracy: 0.7761\n",
            "Epoch 8/20\n",
            "18/18 [==============================] - 0s 2ms/step - loss: 0.5331 - accuracy: 0.7761\n",
            "Epoch 9/20\n",
            "18/18 [==============================] - 0s 2ms/step - loss: 0.5518 - accuracy: 0.7613\n",
            "Epoch 10/20\n",
            "18/18 [==============================] - 0s 2ms/step - loss: 0.5102 - accuracy: 0.7901\n",
            "Epoch 11/20\n",
            "18/18 [==============================] - 0s 2ms/step - loss: 0.5077 - accuracy: 0.7936\n",
            "Epoch 12/20\n",
            "18/18 [==============================] - 0s 2ms/step - loss: 0.4865 - accuracy: 0.7953\n",
            "Epoch 13/20\n",
            "18/18 [==============================] - 0s 2ms/step - loss: 0.5001 - accuracy: 0.7875\n",
            "Epoch 14/20\n",
            "18/18 [==============================] - 0s 2ms/step - loss: 0.5038 - accuracy: 0.7857\n",
            "Epoch 15/20\n",
            "18/18 [==============================] - 0s 2ms/step - loss: 0.4910 - accuracy: 0.7840\n",
            "Epoch 16/20\n",
            "18/18 [==============================] - 0s 2ms/step - loss: 0.5421 - accuracy: 0.7796\n",
            "Epoch 17/20\n",
            "18/18 [==============================] - 0s 2ms/step - loss: 0.6039 - accuracy: 0.7491\n",
            "Epoch 18/20\n",
            "18/18 [==============================] - 0s 2ms/step - loss: 0.5623 - accuracy: 0.7596\n",
            "Epoch 19/20\n",
            "18/18 [==============================] - 0s 2ms/step - loss: 0.5478 - accuracy: 0.7683\n",
            "Epoch 20/20\n",
            "18/18 [==============================] - 0s 2ms/step - loss: 0.5154 - accuracy: 0.7735\n"
          ]
        }
      ],
      "source": [
        "#Fit\n",
        "\n",
        "# Encode features\n",
        "history = model.fit(X_train, y_train, epochs=20, batch_size=64)"
      ]
    },
    {
      "cell_type": "code",
      "execution_count": 132,
      "metadata": {
        "id": "Id4u4igDBHtK",
        "colab": {
          "base_uri": "https://localhost:8080/",
          "height": 295
        },
        "outputId": "b0f44927-ec6b-4826-e854-e886473664d9"
      },
      "outputs": [
        {
          "output_type": "display_data",
          "data": {
            "text/plain": [
              "<Figure size 432x288 with 1 Axes>"
            ],
            "image/png": "[encoded data removed]"
          },
          "metadata": {
            "needs_background": "light"
          }
        }
      ],
      "source": [
        "#Plots \n",
        "loss = history.history['loss']\n",
        "accuracy = history.history['accuracy']\n",
        "epochs = range(0,20)\n",
        "\n",
        "plt.plot(epochs, loss, 'g', label='Loss')\n",
        "plt.plot(epochs, accuracy, 'b', label='Accuracy')\n",
        "plt.title('Training Loss and Accuracy')\n",
        "plt.xticks(epochs)\n",
        "plt.xlabel('Epochs')\n",
        "plt.ylabel('Total')\n",
        "plt.legend()\n",
        "plt.show()"
      ]
    },
    {
      "cell_type": "markdown",
      "metadata": {
        "id": "epfveZ6I5rzR"
      },
      "source": [
        "### Influencia velocidad aprendizaje y optimizador"
      ]
    },
    {
      "cell_type": "markdown",
      "metadata": {
        "id": "Pvt1o-bzDgQs"
      },
      "source": [
        "Una vez tenemos el modelo base, analizaremos la influencia que pueden tener la velocidad de aprendizaje y el tipo de optimizador en la mejora del rendimiento."
      ]
    },
    {
      "cell_type": "markdown",
      "metadata": {
        "id": "k4MKwGwYtBML"
      },
      "source": [
        "<div style=\"background-color: #EDF7FF; border-color: #7C9DBF; border-left: 5px solid #7C9DBF; padding: 0.5em;\">\n",
        "<strong>Ejercicio (1.5 puntos):</strong> Implementa una función para entrenar la arquitectura del ejercicio anterior para 4 optimizadores diferentes: Adam, SGD, Adadelta, Adagrad, y 4 velocidades de aprendizaje: 0.001, 0.01, 0.05, 0.1. \n",
        "Entrena los modelos, y representa dos gráficas:\n",
        " <ul>\n",
        "     <li> Tiempo de entrenamiento vs Velocidad de aprendizaje</li>\n",
        "     <li>  <i>Accuracy</i> vs Velocidad de aprendizaje</li>\n",
        "</ul>   \n",
        "    \n",
        "Cada gráfica debe incluir la evolución obtenida por los cuatro optimizadores para poderlos comparar mejor.\n",
        "    \n",
        "-----------------------------------------------------------------------------------------------------------\n",
        "<b>Importante</b>: para la entrega de la PEC, fijar el parámetro <code>verbose = 0</code> en el entrenamiento de los modelos. La solución únicamente debe mostrar las gráficas resultantes.\n",
        "</div>"
      ]
    },
    {
      "cell_type": "code",
      "execution_count": 133,
      "metadata": {
        "id": "yt72wL7_CauO"
      },
      "outputs": [],
      "source": [
        "#Function to compute several models changing Optimizers and learning rate\n",
        "def compute(model):\n",
        "  rates = [0.001, 0.01, 0.05, 0.1]\n",
        "  optimizers = []\n",
        "  result = []\n",
        "  for r in range(len(rates)):\n",
        "    optimizers.append([SGD(learning_rate=rates[r]), \"SGD\", rates[r]])\n",
        "    optimizers.append([Adadelta(learning_rate=rates[r]), \"Adadelta\", rates[r]])\n",
        "    optimizers.append([Adagrad(learning_rate=rates[r]), \"Adagrad\", rates[r]])\n",
        "    optimizers.append([Adam(learning_rate=rates[r]), \"Adam\", rates[r]])\n",
        " \n",
        "  for i in range(len(optimizers)):\n",
        "    optimizer = optimizers[i]\n",
        "    # Not sure if this helps reseting the model\n",
        "    model.build()\n",
        "    model.compile(optimizer[0], \"categorical_crossentropy\", metrics=[\"accuracy\"])\n",
        "    t0 = timeit.default_timer()\n",
        "    history = model.fit(X_train, y_train, epochs=20, batch_size=64, verbose=0,\n",
        "                        validation_data=(X_test, y_test))\n",
        "    training_time = timeit.default_timer() - t0\n",
        "    avg_accuracy = np.mean(history.history['accuracy'])\n",
        "    msg = (\"Optimizer {model} with learning rate {rate} results:\\n\\t\" \\\n",
        "          \"{accuracy:.2f}% accuracy and {time:.2f}s training time\").format(\n",
        "        model=optimizer[1], rate=optimizer[2], time=training_time, accuracy=avg_accuracy)\n",
        "    print(msg)\n",
        "    result.append([optimizer[1], optimizer[2], training_time, avg_accuracy])\n",
        "  return result"
      ]
    },
    {
      "cell_type": "code",
      "execution_count": 134,
      "metadata": {
        "id": "PF9BZo4WCdX6",
        "colab": {
          "base_uri": "https://localhost:8080/"
        },
        "outputId": "2ecd7b08-9ab8-457b-e921-9e07f511feec"
      },
      "outputs": [
        {
          "output_type": "stream",
          "name": "stdout",
          "text": [
            "Optimizer SGD with learning rate 0.001 results:\n",
            "\t0.80% accuracy and 2.99s training time\n",
            "Optimizer Adadelta with learning rate 0.001 results:\n",
            "\t0.80% accuracy and 1.77s training time\n",
            "Optimizer Adagrad with learning rate 0.001 results:\n",
            "\t0.80% accuracy and 2.98s training time\n",
            "Optimizer Adam with learning rate 0.001 results:\n",
            "\t0.80% accuracy and 3.05s training time\n",
            "Optimizer SGD with learning rate 0.01 results:\n",
            "\t0.81% accuracy and 1.69s training time\n",
            "Optimizer Adadelta with learning rate 0.01 results:\n",
            "\t0.81% accuracy and 1.73s training time\n",
            "Optimizer Adagrad with learning rate 0.01 results:\n",
            "\t0.81% accuracy and 1.65s training time\n",
            "Optimizer Adam with learning rate 0.01 results:\n",
            "\t0.81% accuracy and 3.05s training time\n",
            "Optimizer SGD with learning rate 0.05 results:\n",
            "\t0.82% accuracy and 1.97s training time\n",
            "Optimizer Adadelta with learning rate 0.05 results:\n",
            "\t0.82% accuracy and 1.77s training time\n",
            "Optimizer Adagrad with learning rate 0.05 results:\n",
            "\t0.82% accuracy and 1.76s training time\n",
            "Optimizer Adam with learning rate 0.05 results:\n",
            "\t0.79% accuracy and 1.80s training time\n",
            "Optimizer SGD with learning rate 0.1 results:\n",
            "\t0.81% accuracy and 1.69s training time\n",
            "Optimizer Adadelta with learning rate 0.1 results:\n",
            "\t0.82% accuracy and 1.71s training time\n",
            "Optimizer Adagrad with learning rate 0.1 results:\n",
            "\t0.82% accuracy and 2.99s training time\n",
            "Optimizer Adam with learning rate 0.1 results:\n",
            "\t0.77% accuracy and 1.84s training time\n"
          ]
        }
      ],
      "source": [
        "#Compute models\n",
        "c = compute(model)\n"
      ]
    },
    {
      "cell_type": "code",
      "execution_count": 135,
      "metadata": {
        "id": "KALAyx3bCgBm",
        "colab": {
          "base_uri": "https://localhost:8080/",
          "height": 513
        },
        "outputId": "79a747e1-789d-450b-9079-65fe3bae3e29"
      },
      "outputs": [
        {
          "output_type": "display_data",
          "data": {
            "text/plain": [
              "<Figure size 1080x576 with 2 Axes>"
            ],
            "image/png": "[encoded data removed]"
          },
          "metadata": {
            "needs_background": "light"
          }
        }
      ],
      "source": [
        "#Plots\n",
        "\n",
        "# distribuir el resultado en variables más legibles\n",
        "opts = []\n",
        "times = []\n",
        "rates = []\n",
        "acc = []\n",
        "for i in range(len(c)):\n",
        "  m = c[i]\n",
        "  opts.append(m[0])\n",
        "  rates.append(m[1])\n",
        "  times.append(m[2]) \n",
        "  acc.append(m[3])\n",
        "\n",
        "# Variables para las coordenadas de las lineas\n",
        "adam_rates = []\n",
        "adam_accuracy = []\n",
        "adam_times = []\n",
        "sgd_rates = []\n",
        "sgd_accuracy = []\n",
        "sgd_times = []\n",
        "adagrad_rates = []\n",
        "adagrad_accuracy = []\n",
        "adagrad_times = []\n",
        "adadelta_rates = []\n",
        "adadelta_accuracy = []\n",
        "adadelta_times = []\n",
        "\n",
        "# Transformacion de variables\n",
        "for i in range(len(times)):\n",
        "  if opts[i] == 'Adam':\n",
        "    adam_rates.append(rates[i])\n",
        "    adam_times.append(times[i])\n",
        "    adam_accuracy.append(acc[i])\n",
        "  elif opts[i] == 'SGD':\n",
        "    sgd_rates.append(rates[i])\n",
        "    sgd_times.append(times[i])\n",
        "    sgd_accuracy.append(acc[i])\n",
        "  elif opts[i] == 'Adagrad':\n",
        "    adagrad_rates.append(rates[i])\n",
        "    adagrad_times.append(times[i])\n",
        "    adagrad_accuracy.append(acc[i])\n",
        "  elif opts[i] == 'Adadelta':\n",
        "    adadelta_rates.append(rates[i])\n",
        "    adadelta_times.append(times[i]) \n",
        "    adadelta_accuracy.append(acc[i])\n",
        "\n",
        "fig, ax = plt.subplots(1,2, figsize=(15,8))\n",
        "\n",
        "ax[0].plot(adam_rates, adam_times, linestyle='--', marker='o', color='g', label='Adam')\n",
        "ax[0].plot(sgd_rates, sgd_times, linestyle='--', marker='o', color='y', label='SGD')\n",
        "ax[0].plot(adagrad_rates, adagrad_times, linestyle='--', marker='o', color='b', label='Adagrad')\n",
        "ax[0].plot(adadelta_rates, adadelta_times, linestyle='--', marker='o', color='r', label='Adadelta')\n",
        "ax[0].set_title('Training Time vs Learning Rates')\n",
        "ax[0].set_xlabel('Learning Rates')\n",
        "ax[0].set_ylabel('Training Time')\n",
        "\n",
        "ax[1].plot(adam_rates, adam_accuracy, linestyle='--', marker='o', color='g', label='Adam')\n",
        "ax[1].plot(sgd_rates, sgd_accuracy, linestyle='--', marker='o', color='y', label='SGD')\n",
        "ax[1].plot(adagrad_rates, adagrad_accuracy, linestyle='--', marker='o', color='b', label='Adagrad')\n",
        "ax[1].plot(adadelta_rates, adadelta_accuracy, linestyle='--', marker='o', color='r', label='Adadelta')\n",
        "ax[1].set_title('Accuracy vs Learning Rates')\n",
        "ax[1].set_xlabel('Learning Rates')\n",
        "ax[1].set_ylabel('Accuracy')\n",
        "plt.legend()\n",
        "plt.show()"
      ]
    },
    {
      "cell_type": "markdown",
      "metadata": {
        "id": "3FFT0HcW5yzD"
      },
      "source": [
        "### Elección del mejor modelo"
      ]
    },
    {
      "cell_type": "markdown",
      "metadata": {
        "id": "nxM_49dxuC1L"
      },
      "source": [
        "<div style=\"background-color: #EDF7FF; border-color: #7C9DBF; border-left: 5px solid #7C9DBF; padding: 0.5em;\">\n",
        "<strong>Ejercicio (1 punto):</strong> Identifica el valor de la velocidad de aprendizaje y del optimizador que mejor rendimiento dan al modelo, según los resultados del ejercicio anterior:\n",
        "<ul>\n",
        "    \n",
        "<li>   Justifica la elección</li>\n",
        "<li>   Compila y entrena el modelo elegido</li>\n",
        "<li>   Muestra las correspondientes gráficas de <i>Accuracy</i> y <i>Loss</i> de los conjuntos de entrenamiento y validación, e indica el <i>Accuracy</i> del modelo </li>\n",
        "<li>   Muestra la matriz de confusión multi-clase con las etiquetas originales de <code>quality</code> (<i>low-end</i>, <i>medium-end</i>, <i>high-end</i>)</li>\n",
        "<li>   Muestra la precisión, recall y F1-score resultantes para cada etiqueta</li>\n",
        "<li>   Comenta los resultados obtenidos</li>\n",
        "</ul>\n",
        "</div>"
      ]
    },
    {
      "cell_type": "code",
      "execution_count": null,
      "metadata": {
        "id": "4oiJyrGL6Ntb"
      },
      "outputs": [],
      "source": [
        "#Best model justification"
      ]
    },
    {
      "cell_type": "markdown",
      "source": [
        "En las múltiples ejecuciones del proceso he obtenido varios resultados donde unas veces un modelo y otras otros eran ligeramente mejores al resto.\n",
        "\n",
        "En general, Adagrad y SGD se han comportado mejor en cuanto a precisión en velocidades de aprendizaje de 0.01 y 0.05, con precisiones alrededor del 84% y tiempos de entrenamiento cercanos al medio segundo.\n",
        "\n",
        "Mi elección para **el mejor modelo es Adagrad con velocidad de 0.05** dado que, el coste adicional de entranemiento es despreciable frente a casi un 1% más de precisión.\n",
        "\n",
        "![Screenshot from 2022-03-14 18-37-47.png](data:image/png;base64,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)\n",
        "\n",
        "En la imagen, se muestra la ejecución que justifica los comentarios."
      ],
      "metadata": {
        "id": "VxOkTHvtch6g"
      }
    },
    {
      "cell_type": "code",
      "execution_count": 136,
      "metadata": {
        "id": "8Dwvn_0JCt9A",
        "colab": {
          "base_uri": "https://localhost:8080/"
        },
        "outputId": "e86522fc-6deb-4b3c-d863-fc9c6369d6b1"
      },
      "outputs": [
        {
          "output_type": "stream",
          "name": "stdout",
          "text": [
            "Epoch 1/20\n",
            "18/18 [==============================] - 1s 12ms/step - loss: 1.0560 - accuracy: 0.4486 - val_loss: 0.9517 - val_accuracy: 0.5938\n",
            "Epoch 2/20\n",
            "18/18 [==============================] - 0s 4ms/step - loss: 0.8566 - accuracy: 0.6411 - val_loss: 0.7081 - val_accuracy: 0.6736\n",
            "Epoch 3/20\n",
            "18/18 [==============================] - 0s 4ms/step - loss: 0.6371 - accuracy: 0.7256 - val_loss: 0.5691 - val_accuracy: 0.7431\n",
            "Epoch 4/20\n",
            "18/18 [==============================] - 0s 3ms/step - loss: 0.5501 - accuracy: 0.7570 - val_loss: 0.5342 - val_accuracy: 0.7361\n",
            "Epoch 5/20\n",
            "18/18 [==============================] - 0s 4ms/step - loss: 0.5198 - accuracy: 0.7674 - val_loss: 0.5154 - val_accuracy: 0.7778\n",
            "Epoch 6/20\n",
            "18/18 [==============================] - 0s 3ms/step - loss: 0.5013 - accuracy: 0.7901 - val_loss: 0.5142 - val_accuracy: 0.7604\n",
            "Epoch 7/20\n",
            "18/18 [==============================] - 0s 4ms/step - loss: 0.5022 - accuracy: 0.7814 - val_loss: 0.5068 - val_accuracy: 0.7743\n",
            "Epoch 8/20\n",
            "18/18 [==============================] - 0s 4ms/step - loss: 0.4887 - accuracy: 0.7840 - val_loss: 0.5091 - val_accuracy: 0.7569\n",
            "Epoch 9/20\n",
            "18/18 [==============================] - 0s 3ms/step - loss: 0.4866 - accuracy: 0.7892 - val_loss: 0.5022 - val_accuracy: 0.7778\n",
            "Epoch 10/20\n",
            "18/18 [==============================] - 0s 3ms/step - loss: 0.4853 - accuracy: 0.7848 - val_loss: 0.5035 - val_accuracy: 0.7639\n",
            "Epoch 11/20\n",
            "18/18 [==============================] - 0s 3ms/step - loss: 0.4764 - accuracy: 0.7909 - val_loss: 0.5070 - val_accuracy: 0.7812\n",
            "Epoch 12/20\n",
            "18/18 [==============================] - 0s 3ms/step - loss: 0.4743 - accuracy: 0.7831 - val_loss: 0.5394 - val_accuracy: 0.7604\n",
            "Epoch 13/20\n",
            "18/18 [==============================] - 0s 3ms/step - loss: 0.4731 - accuracy: 0.7970 - val_loss: 0.5066 - val_accuracy: 0.7778\n",
            "Epoch 14/20\n",
            "18/18 [==============================] - 0s 3ms/step - loss: 0.4697 - accuracy: 0.7901 - val_loss: 0.5021 - val_accuracy: 0.7674\n",
            "Epoch 15/20\n",
            "18/18 [==============================] - 0s 3ms/step - loss: 0.4652 - accuracy: 0.7979 - val_loss: 0.5017 - val_accuracy: 0.7604\n",
            "Epoch 16/20\n",
            "18/18 [==============================] - 0s 4ms/step - loss: 0.4627 - accuracy: 0.8040 - val_loss: 0.5073 - val_accuracy: 0.7812\n",
            "Epoch 17/20\n",
            "18/18 [==============================] - 0s 3ms/step - loss: 0.4631 - accuracy: 0.8040 - val_loss: 0.4969 - val_accuracy: 0.7674\n",
            "Epoch 18/20\n",
            "18/18 [==============================] - 0s 3ms/step - loss: 0.4613 - accuracy: 0.8014 - val_loss: 0.5029 - val_accuracy: 0.7604\n",
            "Epoch 19/20\n",
            "18/18 [==============================] - 0s 4ms/step - loss: 0.4558 - accuracy: 0.8005 - val_loss: 0.5020 - val_accuracy: 0.7604\n",
            "Epoch 20/20\n",
            "18/18 [==============================] - 0s 4ms/step - loss: 0.4596 - accuracy: 0.8066 - val_loss: 0.5110 - val_accuracy: 0.7743\n",
            "5/5 [==============================] - 0s 2ms/step - loss: 0.5110 - accuracy: 0.7743\n"
          ]
        }
      ],
      "source": [
        "#Create, compile and fit ANN BEST model\n",
        "#Create ANN model\n",
        "model = Sequential()\n",
        "\n",
        "# Input layer\n",
        "model.add(keras.Input(shape=(9,)))\n",
        "\n",
        "# Hidden layers\n",
        "model.add(Dense(64, activation=\"relu\"))\n",
        "model.add(Dense(32, activation=\"relu\"))\n",
        "model.add(Dense(10, activation=\"relu\"))\n",
        "model.add(Dense(8, activation=\"relu\"))\n",
        "\n",
        "# Output layer\n",
        "model.add(Dense(3, activation=\"softmax\"))\n",
        "\n",
        "model.build()\n",
        "model.compile(Adagrad(learning_rate=0.05), \"categorical_crossentropy\", metrics=[\"accuracy\"])\n",
        "history_train = model.fit(X_train, y_train, epochs=20, batch_size=64, verbose=1,\n",
        "                          validation_data=(X_test, y_test))\n",
        "results = model.evaluate(X_test, y_test, batch_size=64, verbose=1)"
      ]
    },
    {
      "cell_type": "code",
      "execution_count": null,
      "metadata": {
        "id": "7KvpGJi4C1fD"
      },
      "outputs": [],
      "source": [
        "#Plots\n"
      ]
    },
    {
      "cell_type": "code",
      "execution_count": 137,
      "metadata": {
        "id": "rgUdskZ7Fz4n",
        "colab": {
          "base_uri": "https://localhost:8080/",
          "height": 279
        },
        "outputId": "5c8c3d45-47f4-436f-97e1-30949c6184bf"
      },
      "outputs": [
        {
          "output_type": "display_data",
          "data": {
            "text/plain": [
              "<Figure size 432x288 with 2 Axes>"
            ],
            "image/png": "[encoded data removed]"
          },
          "metadata": {
            "needs_background": "light"
          }
        }
      ],
      "source": [
        "#Confusion matrix\n",
        "y_pred = model.predict(X_test)\n",
        "y_pred = (y_pred > 0.5)\n",
        "\n",
        "targets = ['low-end', 'medium-end', 'high-end']\n",
        "cm = confusion_matrix(y_test.values.argmax(axis=1), y_pred.argmax(axis=1))\n",
        "disp = ConfusionMatrixDisplay(confusion_matrix=cm, display_labels=targets)\n",
        "disp.plot()\n",
        "plt.show()\n",
        "\n"
      ]
    },
    {
      "cell_type": "code",
      "execution_count": 138,
      "metadata": {
        "id": "qWMB7Sq1hHdy",
        "colab": {
          "base_uri": "https://localhost:8080/"
        },
        "outputId": "a4560b89-5c0f-411e-af1b-29c18ba4c4b0"
      },
      "outputs": [
        {
          "output_type": "stream",
          "name": "stdout",
          "text": [
            "Accuracy: 77.43%\n"
          ]
        }
      ],
      "source": [
        "#Accuracy\n",
        "print((\"Accuracy: {acc:.2f}%\").format(acc=results[1] * 100))"
      ]
    },
    {
      "cell_type": "code",
      "execution_count": 139,
      "metadata": {
        "id": "FyVOsMOJISLp",
        "colab": {
          "base_uri": "https://localhost:8080/"
        },
        "outputId": "29d5354b-5767-4b60-df20-11261562f59a"
      },
      "outputs": [
        {
          "output_type": "stream",
          "name": "stdout",
          "text": [
            "              precision    recall  f1-score   support\n",
            "\n",
            "     low-end       0.77      0.84      0.81       129\n",
            "  medium-end       0.62      0.56      0.59        84\n",
            "    high-end       0.89      0.84      0.86        75\n",
            "\n",
            "    accuracy                           0.76       288\n",
            "   macro avg       0.76      0.75      0.75       288\n",
            "weighted avg       0.76      0.76      0.76       288\n",
            "\n"
          ]
        }
      ],
      "source": [
        "#Precision, Recall and F1-score for each label\n",
        "# Classification Report\n",
        "targets = ['low-end', 'medium-end', 'high-end']\n",
        "print(classification_report(y_test.values.argmax(axis=1), y_pred.argmax(axis=1), target_names = targets))"
      ]
    },
    {
      "cell_type": "code",
      "execution_count": null,
      "metadata": {
        "id": "GlmpoPbzE5k0"
      },
      "outputs": [],
      "source": [
        "#Comment results\n"
      ]
    },
    {
      "cell_type": "markdown",
      "metadata": {
        "id": "LY6fFoV955e3"
      },
      "source": [
        "## 3. Red neuronal artificial: Regresión (4.5 puntos)"
      ]
    },
    {
      "cell_type": "markdown",
      "metadata": {
        "id": "vMTilNAuwN4X"
      },
      "source": [
        "En este apartado resolveremos un problema de regresión intentando predecir el precio de re-venta según las características de los coches. Partiremos del conjunto de datos original."
      ]
    },
    {
      "cell_type": "markdown",
      "metadata": {
        "id": "tKTYsFI45_rW"
      },
      "source": [
        "### Pre-procesado\n",
        "\n",
        "\n"
      ]
    },
    {
      "cell_type": "markdown",
      "metadata": {
        "id": "eSp_nZX3wQDT"
      },
      "source": [
        "<div style=\"background-color: #EDF7FF; border-color: #7C9DBF; border-left: 5px solid #7C9DBF; padding: 0.5em;\">\n",
        "<strong>Ejercicio (0.5 puntos):</strong> Pre-procesa los datos: \n",
        "<ul>\n",
        "<li>   Crea los vectores de variables dependientes (<i>features</i>) y de la variable independiente (<i>target</i>)</li>\n",
        "<li>   Normaliza debidamente los datos</li>\n",
        "<li>   Divide el conjunto de datos en 70% para entrenamiento y 30% para test, usando la función <code>train_test_split</code></li>\n",
        "<li>   Muestra las dimensiones de los conjuntos de entrenamiento y test</li>\n",
        "</ul>\n",
        "</div>"
      ]
    },
    {
      "cell_type": "code",
      "execution_count": 121,
      "metadata": {
        "id": "2ZFhPX92wqB7",
        "colab": {
          "base_uri": "https://localhost:8080/",
          "height": 424
        },
        "outputId": "d34c146d-8703-4cf8-97b8-596bd15343d6"
      },
      "outputs": [
        {
          "output_type": "execute_result",
          "data": {
            "text/plain": [
              "      months_old      km fuel_type  horsepower  metcolor  automatic  \\\n",
              "0             73   97494    Petrol         110         1          0   \n",
              "1             48   89049    Petrol          97         1          0   \n",
              "2             40  161000    Diesel          69         1          0   \n",
              "3             37   38812    Petrol          97         0          0   \n",
              "4             55   33230    Petrol         110         0          0   \n",
              "...          ...     ...       ...         ...       ...        ...   \n",
              "1431          48   78600    Petrol         110         1          0   \n",
              "1432          80   86109    Petrol         110         1          0   \n",
              "1433          77   82103    Petrol          86         1          0   \n",
              "1434          40   38653    Petrol         110         1          0   \n",
              "1435          59   43818    Petrol         110         0          0   \n",
              "\n",
              "      size_engine  doors_num  weight  \n",
              "0            1600          5    1085  \n",
              "1            1400          5    1060  \n",
              "2            1900          3    1105  \n",
              "3            1400          3    1025  \n",
              "4            1600          3    1050  \n",
              "...           ...        ...     ...  \n",
              "1431         1600          5    1075  \n",
              "1432         1600          3    1055  \n",
              "1433         1300          3    1015  \n",
              "1434         1600          5    1080  \n",
              "1435         1600          5    1070  \n",
              "\n",
              "[1436 rows x 9 columns]"
            ],
            "text/html": [
              "\n",
              "  <div id=\"df-ddcb273a-f9b7-4a62-976d-5b02d9871aee\">\n",
              "    <div class=\"colab-df-container\">\n",
              "      <div>\n",
              "<style scoped>\n",
              "    .dataframe tbody tr th:only-of-type {\n",
              "        vertical-align: middle;\n",
              "    }\n",
              "\n",
              "    .dataframe tbody tr th {\n",
              "        vertical-align: top;\n",
              "    }\n",
              "\n",
              "    .dataframe thead th {\n",
              "        text-align: right;\n",
              "    }\n",
              "</style>\n",
              "<table border=\"1\" class=\"dataframe\">\n",
              "  <thead>\n",
              "    <tr style=\"text-align: right;\">\n",
              "      <th></th>\n",
              "      <th>months_old</th>\n",
              "      <th>km</th>\n",
              "      <th>fuel_type</th>\n",
              "      <th>horsepower</th>\n",
              "      <th>metcolor</th>\n",
              "      <th>automatic</th>\n",
              "      <th>size_engine</th>\n",
              "      <th>doors_num</th>\n",
              "      <th>weight</th>\n",
              "    </tr>\n",
              "  </thead>\n",
              "  <tbody>\n",
              "    <tr>\n",
              "      <th>0</th>\n",
              "      <td>73</td>\n",
              "      <td>97494</td>\n",
              "      <td>Petrol</td>\n",
              "      <td>110</td>\n",
              "      <td>1</td>\n",
              "      <td>0</td>\n",
              "      <td>1600</td>\n",
              "      <td>5</td>\n",
              "      <td>1085</td>\n",
              "    </tr>\n",
              "    <tr>\n",
              "      <th>1</th>\n",
              "      <td>48</td>\n",
              "      <td>89049</td>\n",
              "      <td>Petrol</td>\n",
              "      <td>97</td>\n",
              "      <td>1</td>\n",
              "      <td>0</td>\n",
              "      <td>1400</td>\n",
              "      <td>5</td>\n",
              "      <td>1060</td>\n",
              "    </tr>\n",
              "    <tr>\n",
              "      <th>2</th>\n",
              "      <td>40</td>\n",
              "      <td>161000</td>\n",
              "      <td>Diesel</td>\n",
              "      <td>69</td>\n",
              "      <td>1</td>\n",
              "      <td>0</td>\n",
              "      <td>1900</td>\n",
              "      <td>3</td>\n",
              "      <td>1105</td>\n",
              "    </tr>\n",
              "    <tr>\n",
              "      <th>3</th>\n",
              "      <td>37</td>\n",
              "      <td>38812</td>\n",
              "      <td>Petrol</td>\n",
              "      <td>97</td>\n",
              "      <td>0</td>\n",
              "      <td>0</td>\n",
              "      <td>1400</td>\n",
              "      <td>3</td>\n",
              "      <td>1025</td>\n",
              "    </tr>\n",
              "    <tr>\n",
              "      <th>4</th>\n",
              "      <td>55</td>\n",
              "      <td>33230</td>\n",
              "      <td>Petrol</td>\n",
              "      <td>110</td>\n",
              "      <td>0</td>\n",
              "      <td>0</td>\n",
              "      <td>1600</td>\n",
              "      <td>3</td>\n",
              "      <td>1050</td>\n",
              "    </tr>\n",
              "    <tr>\n",
              "      <th>...</th>\n",
              "      <td>...</td>\n",
              "      <td>...</td>\n",
              "      <td>...</td>\n",
              "      <td>...</td>\n",
              "      <td>...</td>\n",
              "      <td>...</td>\n",
              "      <td>...</td>\n",
              "      <td>...</td>\n",
              "      <td>...</td>\n",
              "    </tr>\n",
              "    <tr>\n",
              "      <th>1431</th>\n",
              "      <td>48</td>\n",
              "      <td>78600</td>\n",
              "      <td>Petrol</td>\n",
              "      <td>110</td>\n",
              "      <td>1</td>\n",
              "      <td>0</td>\n",
              "      <td>1600</td>\n",
              "      <td>5</td>\n",
              "      <td>1075</td>\n",
              "    </tr>\n",
              "    <tr>\n",
              "      <th>1432</th>\n",
              "      <td>80</td>\n",
              "      <td>86109</td>\n",
              "      <td>Petrol</td>\n",
              "      <td>110</td>\n",
              "      <td>1</td>\n",
              "      <td>0</td>\n",
              "      <td>1600</td>\n",
              "      <td>3</td>\n",
              "      <td>1055</td>\n",
              "    </tr>\n",
              "    <tr>\n",
              "      <th>1433</th>\n",
              "      <td>77</td>\n",
              "      <td>82103</td>\n",
              "      <td>Petrol</td>\n",
              "      <td>86</td>\n",
              "      <td>1</td>\n",
              "      <td>0</td>\n",
              "      <td>1300</td>\n",
              "      <td>3</td>\n",
              "      <td>1015</td>\n",
              "    </tr>\n",
              "    <tr>\n",
              "      <th>1434</th>\n",
              "      <td>40</td>\n",
              "      <td>38653</td>\n",
              "      <td>Petrol</td>\n",
              "      <td>110</td>\n",
              "      <td>1</td>\n",
              "      <td>0</td>\n",
              "      <td>1600</td>\n",
              "      <td>5</td>\n",
              "      <td>1080</td>\n",
              "    </tr>\n",
              "    <tr>\n",
              "      <th>1435</th>\n",
              "      <td>59</td>\n",
              "      <td>43818</td>\n",
              "      <td>Petrol</td>\n",
              "      <td>110</td>\n",
              "      <td>0</td>\n",
              "      <td>0</td>\n",
              "      <td>1600</td>\n",
              "      <td>5</td>\n",
              "      <td>1070</td>\n",
              "    </tr>\n",
              "  </tbody>\n",
              "</table>\n",
              "<p>1436 rows × 9 columns</p>\n",
              "</div>\n",
              "      <button class=\"colab-df-convert\" onclick=\"convertToInteractive('df-ddcb273a-f9b7-4a62-976d-5b02d9871aee')\"\n",
              "              title=\"Convert this dataframe to an interactive table.\"\n",
              "              style=\"display:none;\">\n",
              "        \n",
              "  <svg xmlns=\"http://www.w3.org/2000/svg\" height=\"24px\"viewBox=\"0 0 24 24\"\n",
              "       width=\"24px\">\n",
              "    <path d=\"M0 0h24v24H0V0z\" fill=\"none\"/>\n",
              "    <path d=\"M18.56 5.44l.94 2.06.94-2.06 2.06-.94-2.06-.94-.94-2.06-.94 2.06-2.06.94zm-11 1L8.5 8.5l.94-2.06 2.06-.94-2.06-.94L8.5 2.5l-.94 2.06-2.06.94zm10 10l.94 2.06.94-2.06 2.06-.94-2.06-.94-.94-2.06-.94 2.06-2.06.94z\"/><path d=\"M17.41 7.96l-1.37-1.37c-.4-.4-.92-.59-1.43-.59-.52 0-1.04.2-1.43.59L10.3 9.45l-7.72 7.72c-.78.78-.78 2.05 0 2.83L4 21.41c.39.39.9.59 1.41.59.51 0 1.02-.2 1.41-.59l7.78-7.78 2.81-2.81c.8-.78.8-2.07 0-2.86zM5.41 20L4 18.59l7.72-7.72 1.47 1.35L5.41 20z\"/>\n",
              "  </svg>\n",
              "      </button>\n",
              "      \n",
              "  <style>\n",
              "    .colab-df-container {\n",
              "      display:flex;\n",
              "      flex-wrap:wrap;\n",
              "      gap: 12px;\n",
              "    }\n",
              "\n",
              "    .colab-df-convert {\n",
              "      background-color: #E8F0FE;\n",
              "      border: none;\n",
              "      border-radius: 50%;\n",
              "      cursor: pointer;\n",
              "      display: none;\n",
              "      fill: #1967D2;\n",
              "      height: 32px;\n",
              "      padding: 0 0 0 0;\n",
              "      width: 32px;\n",
              "    }\n",
              "\n",
              "    .colab-df-convert:hover {\n",
              "      background-color: #E2EBFA;\n",
              "      box-shadow: 0px 1px 2px rgba(60, 64, 67, 0.3), 0px 1px 3px 1px rgba(60, 64, 67, 0.15);\n",
              "      fill: #174EA6;\n",
              "    }\n",
              "\n",
              "    [theme=dark] .colab-df-convert {\n",
              "      background-color: #3B4455;\n",
              "      fill: #D2E3FC;\n",
              "    }\n",
              "\n",
              "    [theme=dark] .colab-df-convert:hover {\n",
              "      background-color: #434B5C;\n",
              "      box-shadow: 0px 1px 3px 1px rgba(0, 0, 0, 0.15);\n",
              "      filter: drop-shadow(0px 1px 2px rgba(0, 0, 0, 0.3));\n",
              "      fill: #FFFFFF;\n",
              "    }\n",
              "  </style>\n",
              "\n",
              "      <script>\n",
              "        const buttonEl =\n",
              "          document.querySelector('#df-ddcb273a-f9b7-4a62-976d-5b02d9871aee button.colab-df-convert');\n",
              "        buttonEl.style.display =\n",
              "          google.colab.kernel.accessAllowed ? 'block' : 'none';\n",
              "\n",
              "        async function convertToInteractive(key) {\n",
              "          const element = document.querySelector('#df-ddcb273a-f9b7-4a62-976d-5b02d9871aee');\n",
              "          const dataTable =\n",
              "            await google.colab.kernel.invokeFunction('convertToInteractive',\n",
              "                                                     [key], {});\n",
              "          if (!dataTable) return;\n",
              "\n",
              "          const docLinkHtml = 'Like what you see? Visit the ' +\n",
              "            '<a target=\"_blank\" href=https://colab.research.google.com/notebooks/data_table.ipynb>data table notebook</a>'\n",
              "            + ' to learn more about interactive tables.';\n",
              "          element.innerHTML = '';\n",
              "          dataTable['output_type'] = 'display_data';\n",
              "          await google.colab.output.renderOutput(dataTable, element);\n",
              "          const docLink = document.createElement('div');\n",
              "          docLink.innerHTML = docLinkHtml;\n",
              "          element.appendChild(docLink);\n",
              "        }\n",
              "      </script>\n",
              "    </div>\n",
              "  </div>\n",
              "  "
            ]
          },
          "metadata": {},
          "execution_count": 121
        }
      ],
      "source": [
        "#Create features and target vectors\n",
        "features = df.drop(columns = ['quality', 'price'])\n",
        "target = df['price']\n",
        "features"
      ]
    },
    {
      "cell_type": "code",
      "execution_count": 122,
      "metadata": {
        "id": "hUi95MvbAa-u",
        "colab": {
          "base_uri": "https://localhost:8080/"
        },
        "outputId": "72ff2fcc-e15d-441d-bbb5-8dc37ca4c0ee"
      },
      "outputs": [
        {
          "output_type": "execute_result",
          "data": {
            "text/plain": [
              "array([[ 0.91525566,  0.77242262,  0.3591837 , ...,  0.17461144,\n",
              "         1.014941  ,  0.23427743],\n",
              "       [-0.43109461,  0.5471829 ,  0.3591837 , ..., -0.89385359,\n",
              "         1.014941  , -0.23947685],\n",
              "       [-0.86192669,  2.46621463, -2.3132919 , ...,  1.777309  ,\n",
              "        -1.08513865,  0.61328086],\n",
              "       ...,\n",
              "       [ 1.13067171,  0.36192356,  0.3591837 , ..., -1.42808611,\n",
              "        -1.08513865, -1.09223456],\n",
              "       [-0.86192669, -0.79694746,  0.3591837 , ...,  0.17461144,\n",
              "         1.014941  ,  0.13952657],\n",
              "       [ 0.16129951, -0.65918983,  0.3591837 , ...,  0.17461144,\n",
              "         1.014941  , -0.04997514]])"
            ]
          },
          "metadata": {},
          "execution_count": 122
        }
      ],
      "source": [
        "#Normalizing the data\n",
        "features['fuel_type'] = features['fuel_type'].astype('category').cat.codes\n",
        "features['fuel_type']\n",
        "scaler = StandardScaler()\n",
        "scaled_features = scaler.fit_transform(features)\n",
        "scaled_features"
      ]
    },
    {
      "cell_type": "code",
      "execution_count": 140,
      "metadata": {
        "id": "_vUVcRn_wdQx"
      },
      "outputs": [],
      "source": [
        "#Split train-test\n",
        "myseed= 38\n",
        "\n",
        "X_train, X_test, y_train, y_test = train_test_split(\n",
        "    scaled_features, target, test_size=0.3, random_state=myseed)"
      ]
    },
    {
      "cell_type": "code",
      "execution_count": 141,
      "metadata": {
        "id": "Ca_Zk7PfwkPE",
        "colab": {
          "base_uri": "https://localhost:8080/"
        },
        "outputId": "3907b503-5e80-4257-ed02-e508ece20bc6"
      },
      "outputs": [
        {
          "output_type": "execute_result",
          "data": {
            "text/plain": [
              "((1005, 9), (431, 9), (1005,), (431,))"
            ]
          },
          "metadata": {},
          "execution_count": 141
        }
      ],
      "source": [
        "#Dimensions\n",
        "X_train.shape, X_test.shape, y_train.shape, y_test.shape "
      ]
    },
    {
      "cell_type": "markdown",
      "source": [
        "|        | X_train   | X_test     | y_train | y_test  |\n",
        "|--------|-----------|------------|---------|---------|\n",
        "| Shapes | (1005, 9) | (431, 9) | (1005,) | (431,) |"
      ],
      "metadata": {
        "id": "Yird5ep0x-av"
      }
    },
    {
      "cell_type": "markdown",
      "metadata": {
        "id": "6Q7VJZn_6Eru"
      },
      "source": [
        "### Modelo base"
      ]
    },
    {
      "cell_type": "markdown",
      "metadata": {
        "id": "aI1qOtftx4J0"
      },
      "source": [
        "En primer lugar diseñaremos un modelo base con tres capas ocultas.\n",
        "\n",
        "Nota: Para el ajuste del modelo usaremos los datos de test como conjunto de validación."
      ]
    },
    {
      "cell_type": "markdown",
      "metadata": {
        "id": "0AhiMwVZw13D"
      },
      "source": [
        "<div style=\"background-color: #EDF7FF; border-color: #7C9DBF; border-left: 5px solid #7C9DBF; padding: 0.5em;\">\n",
        "<strong>Ejercicio (1 punto):</strong> Implementa el modelo de red neuronal artificial:\n",
        "<ul>\n",
        "<li>Diseña la arquitectura para el modelo de regresión con las siguientes características:</li>\n",
        "    <ul>\n",
        "   <li>1 primera capa oculta completamente conectada de 128 neuronas y activación ReLU</li>\n",
        "   <li>2 capas ocultas de 32 y 16 neuronas y activación tangencial</li>\n",
        "   <li>Todas las capas deben tener <code>kernel_initizalizer</code> en modo 'normal'</li>\n",
        "   </ul>\n",
        "<li>Compila el modelo con la función de pérdida más adecuada y el optimizador Adam</li>\n",
        "\n",
        "<li>Ajusta el modelo con 50 épocas y un tamaño del batch de 32</li>\n",
        "\n",
        "<li>Muestra la gráfica de pérdida. En la gráfica debe visualizarse la curva de entrenamiento y la de validación</li>\n",
        "</ul>\n",
        "</div>"
      ]
    },
    {
      "cell_type": "code",
      "execution_count": 142,
      "metadata": {
        "id": "KJaRnNOcAyNi"
      },
      "outputs": [],
      "source": [
        "#Create ANN model\n",
        "model = Sequential()\n",
        "\n",
        "# Input layer\n",
        "model.add(keras.Input(shape=(9,)))\n",
        "\n",
        "# Hidden layers\n",
        "model.add(Dense(128, activation=\"relu\"))\n",
        "model.add(Dense(32, activation=\"tanh\"))\n",
        "model.add(Dense(16, activation=\"tanh\"))\n",
        "\n",
        "# Output layer\n",
        "model.add(Dense(1))\n",
        "\n",
        "model.build()"
      ]
    },
    {
      "cell_type": "code",
      "execution_count": 147,
      "metadata": {
        "id": "nvu-prE3radd"
      },
      "outputs": [],
      "source": [
        "#Compiling the model\n",
        "model.compile(Adam(learning_rate=0.1), \"binary_crossentropy\", metrics=[\"accuracy\"])"
      ]
    },
    {
      "cell_type": "code",
      "execution_count": 150,
      "metadata": {
        "id": "W6zQWqGjrb54",
        "colab": {
          "base_uri": "https://localhost:8080/"
        },
        "outputId": "1277a135-dcf8-4964-c6b5-97819a8eb88c"
      },
      "outputs": [
        {
          "output_type": "stream",
          "name": "stdout",
          "text": [
            "Epoch 1/50\n",
            "32/32 [==============================] - 0s 6ms/step - loss: -195714.7344 - accuracy: 0.0000e+00 - val_loss: -190401.8594 - val_accuracy: 0.0000e+00\n",
            "Epoch 2/50\n",
            "32/32 [==============================] - 0s 6ms/step - loss: -195714.7500 - accuracy: 0.0000e+00 - val_loss: -190401.8594 - val_accuracy: 0.0000e+00\n",
            "Epoch 3/50\n",
            "32/32 [==============================] - 0s 5ms/step - loss: -195714.6875 - accuracy: 0.0000e+00 - val_loss: -190401.8594 - val_accuracy: 0.0000e+00\n",
            "Epoch 4/50\n",
            "32/32 [==============================] - 0s 6ms/step - loss: -195714.7188 - accuracy: 0.0000e+00 - val_loss: -190401.8594 - val_accuracy: 0.0000e+00\n",
            "Epoch 5/50\n",
            "32/32 [==============================] - 0s 7ms/step - loss: -195714.7031 - accuracy: 0.0000e+00 - val_loss: -190401.8594 - val_accuracy: 0.0000e+00\n",
            "Epoch 6/50\n",
            "32/32 [==============================] - 0s 9ms/step - loss: -195714.6875 - accuracy: 0.0000e+00 - val_loss: -190401.8594 - val_accuracy: 0.0000e+00\n",
            "Epoch 7/50\n",
            "32/32 [==============================] - 0s 8ms/step - loss: -195714.7188 - accuracy: 0.0000e+00 - val_loss: -190401.8594 - val_accuracy: 0.0000e+00\n",
            "Epoch 8/50\n",
            "32/32 [==============================] - 0s 7ms/step - loss: -195714.7344 - accuracy: 0.0000e+00 - val_loss: -190401.8594 - val_accuracy: 0.0000e+00\n",
            "Epoch 9/50\n",
            "32/32 [==============================] - 0s 9ms/step - loss: -195714.7344 - accuracy: 0.0000e+00 - val_loss: -190401.8594 - val_accuracy: 0.0000e+00\n",
            "Epoch 10/50\n",
            "32/32 [==============================] - 0s 7ms/step - loss: -195714.7500 - accuracy: 0.0000e+00 - val_loss: -190401.8594 - val_accuracy: 0.0000e+00\n",
            "Epoch 11/50\n",
            "32/32 [==============================] - 0s 8ms/step - loss: -195714.7344 - accuracy: 0.0000e+00 - val_loss: -190401.8594 - val_accuracy: 0.0000e+00\n",
            "Epoch 12/50\n",
            "32/32 [==============================] - 0s 8ms/step - loss: -195714.7344 - accuracy: 0.0000e+00 - val_loss: -190401.8594 - val_accuracy: 0.0000e+00\n",
            "Epoch 13/50\n",
            "32/32 [==============================] - 0s 7ms/step - loss: -195714.7344 - accuracy: 0.0000e+00 - val_loss: -190401.8594 - val_accuracy: 0.0000e+00\n",
            "Epoch 14/50\n",
            "32/32 [==============================] - 0s 8ms/step - loss: -195714.7031 - accuracy: 0.0000e+00 - val_loss: -190401.8594 - val_accuracy: 0.0000e+00\n",
            "Epoch 15/50\n",
            "32/32 [==============================] - 0s 7ms/step - loss: -195714.7031 - accuracy: 0.0000e+00 - val_loss: -190401.8594 - val_accuracy: 0.0000e+00\n",
            "Epoch 16/50\n",
            "32/32 [==============================] - 0s 7ms/step - loss: -195714.7344 - accuracy: 0.0000e+00 - val_loss: -190401.8594 - val_accuracy: 0.0000e+00\n",
            "Epoch 17/50\n",
            "32/32 [==============================] - 0s 6ms/step - loss: -195714.7188 - accuracy: 0.0000e+00 - val_loss: -190401.8594 - val_accuracy: 0.0000e+00\n",
            "Epoch 18/50\n",
            "32/32 [==============================] - 0s 7ms/step - loss: -195714.7500 - accuracy: 0.0000e+00 - val_loss: -190401.8594 - val_accuracy: 0.0000e+00\n",
            "Epoch 19/50\n",
            "32/32 [==============================] - 0s 7ms/step - loss: -195714.7188 - accuracy: 0.0000e+00 - val_loss: -190401.8594 - val_accuracy: 0.0000e+00\n",
            "Epoch 20/50\n",
            "32/32 [==============================] - 0s 6ms/step - loss: -195714.7344 - accuracy: 0.0000e+00 - val_loss: -190401.8594 - val_accuracy: 0.0000e+00\n",
            "Epoch 21/50\n",
            "32/32 [==============================] - 0s 7ms/step - loss: -195714.7344 - accuracy: 0.0000e+00 - val_loss: -190401.8594 - val_accuracy: 0.0000e+00\n",
            "Epoch 22/50\n",
            "32/32 [==============================] - 0s 8ms/step - loss: -195714.7344 - accuracy: 0.0000e+00 - val_loss: -190401.8594 - val_accuracy: 0.0000e+00\n",
            "Epoch 23/50\n",
            "32/32 [==============================] - 0s 10ms/step - loss: -195714.7344 - accuracy: 0.0000e+00 - val_loss: -190401.8594 - val_accuracy: 0.0000e+00\n",
            "Epoch 24/50\n",
            "32/32 [==============================] - 0s 10ms/step - loss: -195714.7188 - accuracy: 0.0000e+00 - val_loss: -190401.8594 - val_accuracy: 0.0000e+00\n",
            "Epoch 25/50\n",
            "32/32 [==============================] - 0s 10ms/step - loss: -195714.7188 - accuracy: 0.0000e+00 - val_loss: -190401.8594 - val_accuracy: 0.0000e+00\n",
            "Epoch 26/50\n",
            "32/32 [==============================] - 0s 6ms/step - loss: -195714.7344 - accuracy: 0.0000e+00 - val_loss: -190401.8594 - val_accuracy: 0.0000e+00\n",
            "Epoch 27/50\n",
            "32/32 [==============================] - 0s 4ms/step - loss: -195714.7500 - accuracy: 0.0000e+00 - val_loss: -190401.8594 - val_accuracy: 0.0000e+00\n",
            "Epoch 28/50\n",
            "32/32 [==============================] - 0s 3ms/step - loss: -195714.7188 - accuracy: 0.0000e+00 - val_loss: -190401.8594 - val_accuracy: 0.0000e+00\n",
            "Epoch 29/50\n",
            "32/32 [==============================] - 0s 3ms/step - loss: -195714.7188 - accuracy: 0.0000e+00 - val_loss: -190401.8594 - val_accuracy: 0.0000e+00\n",
            "Epoch 30/50\n",
            "32/32 [==============================] - 0s 3ms/step - loss: -195714.7031 - accuracy: 0.0000e+00 - val_loss: -190401.8594 - val_accuracy: 0.0000e+00\n",
            "Epoch 31/50\n",
            "32/32 [==============================] - 0s 3ms/step - loss: -195714.7344 - accuracy: 0.0000e+00 - val_loss: -190401.8594 - val_accuracy: 0.0000e+00\n",
            "Epoch 32/50\n",
            "32/32 [==============================] - 0s 3ms/step - loss: -195714.7188 - accuracy: 0.0000e+00 - val_loss: -190401.8594 - val_accuracy: 0.0000e+00\n",
            "Epoch 33/50\n",
            "32/32 [==============================] - 0s 3ms/step - loss: -195714.7500 - accuracy: 0.0000e+00 - val_loss: -190401.8594 - val_accuracy: 0.0000e+00\n",
            "Epoch 34/50\n",
            "32/32 [==============================] - 0s 3ms/step - loss: -195714.7031 - accuracy: 0.0000e+00 - val_loss: -190401.8594 - val_accuracy: 0.0000e+00\n",
            "Epoch 35/50\n",
            "32/32 [==============================] - 0s 3ms/step - loss: -195714.7500 - accuracy: 0.0000e+00 - val_loss: -190401.8594 - val_accuracy: 0.0000e+00\n",
            "Epoch 36/50\n",
            "32/32 [==============================] - 0s 3ms/step - loss: -195714.7500 - accuracy: 0.0000e+00 - val_loss: -190401.8594 - val_accuracy: 0.0000e+00\n",
            "Epoch 37/50\n",
            "32/32 [==============================] - 0s 3ms/step - loss: -195714.7188 - accuracy: 0.0000e+00 - val_loss: -190401.8594 - val_accuracy: 0.0000e+00\n",
            "Epoch 38/50\n",
            "32/32 [==============================] - 0s 3ms/step - loss: -195714.7188 - accuracy: 0.0000e+00 - val_loss: -190401.8594 - val_accuracy: 0.0000e+00\n",
            "Epoch 39/50\n",
            "32/32 [==============================] - 0s 3ms/step - loss: -195714.7500 - accuracy: 0.0000e+00 - val_loss: -190401.8594 - val_accuracy: 0.0000e+00\n",
            "Epoch 40/50\n",
            "32/32 [==============================] - 0s 3ms/step - loss: -195714.7188 - accuracy: 0.0000e+00 - val_loss: -190401.8594 - val_accuracy: 0.0000e+00\n",
            "Epoch 41/50\n",
            "32/32 [==============================] - 0s 3ms/step - loss: -195714.7188 - accuracy: 0.0000e+00 - val_loss: -190401.8594 - val_accuracy: 0.0000e+00\n",
            "Epoch 42/50\n",
            "32/32 [==============================] - 0s 3ms/step - loss: -195714.7344 - accuracy: 0.0000e+00 - val_loss: -190401.8594 - val_accuracy: 0.0000e+00\n",
            "Epoch 43/50\n",
            "32/32 [==============================] - 0s 3ms/step - loss: -195714.7188 - accuracy: 0.0000e+00 - val_loss: -190401.8594 - val_accuracy: 0.0000e+00\n",
            "Epoch 44/50\n",
            "32/32 [==============================] - 0s 3ms/step - loss: -195714.7344 - accuracy: 0.0000e+00 - val_loss: -190401.8594 - val_accuracy: 0.0000e+00\n",
            "Epoch 45/50\n",
            "32/32 [==============================] - 0s 3ms/step - loss: -195714.7344 - accuracy: 0.0000e+00 - val_loss: -190401.8594 - val_accuracy: 0.0000e+00\n",
            "Epoch 46/50\n",
            "32/32 [==============================] - 0s 3ms/step - loss: -195714.7031 - accuracy: 0.0000e+00 - val_loss: -190401.8594 - val_accuracy: 0.0000e+00\n",
            "Epoch 47/50\n",
            "32/32 [==============================] - 0s 3ms/step - loss: -195714.7188 - accuracy: 0.0000e+00 - val_loss: -190401.8594 - val_accuracy: 0.0000e+00\n",
            "Epoch 48/50\n",
            "32/32 [==============================] - 0s 3ms/step - loss: -195714.7188 - accuracy: 0.0000e+00 - val_loss: -190401.8594 - val_accuracy: 0.0000e+00\n",
            "Epoch 49/50\n",
            "32/32 [==============================] - 0s 3ms/step - loss: -195714.7188 - accuracy: 0.0000e+00 - val_loss: -190401.8594 - val_accuracy: 0.0000e+00\n",
            "Epoch 50/50\n",
            "32/32 [==============================] - 0s 3ms/step - loss: -195714.7188 - accuracy: 0.0000e+00 - val_loss: -190401.8594 - val_accuracy: 0.0000e+00\n"
          ]
        }
      ],
      "source": [
        "#Fit model\n",
        "history = model.fit(X_train, y_train, epochs=50, batch_size=32, verbose=1,\n",
        "                        validation_data=(X_test, y_test))"
      ]
    },
    {
      "cell_type": "markdown",
      "source": [
        ""
      ],
      "metadata": {
        "id": "18WBCDgB2BYF"
      }
    },
    {
      "cell_type": "code",
      "execution_count": 149,
      "metadata": {
        "id": "uJdhQfZlDlXj",
        "colab": {
          "base_uri": "https://localhost:8080/",
          "height": 295
        },
        "outputId": "800586d4-fa90-48e5-893c-9d413a96a1c3"
      },
      "outputs": [
        {
          "output_type": "display_data",
          "data": {
            "text/plain": [
              "<Figure size 432x288 with 1 Axes>"
            ],
            "image/png": "[encoded data removed]"
          },
          "metadata": {
            "needs_background": "light"
          }
        }
      ],
      "source": [
        "#Plots\n",
        "loss = history.history['loss']\n",
        "accuracy = history.history['accuracy']\n",
        "epochs = range(0,50)\n",
        "\n",
        "plt.plot(epochs, loss, 'g', label='Loss')\n",
        "plt.plot(epochs, accuracy, 'b', label='Accuracy')\n",
        "plt.title('Training Loss and Accuracy')\n",
        "plt.xticks(epochs)\n",
        "plt.xlabel('Epochs')\n",
        "plt.ylabel('Total')\n",
        "plt.legend()\n",
        "plt.show()"
      ]
    },
    {
      "cell_type": "markdown",
      "metadata": {
        "id": "3_rxKFH96Jeb"
      },
      "source": [
        "### Búsqueda hiperparámetros"
      ]
    },
    {
      "cell_type": "markdown",
      "metadata": {
        "id": "CqVgHOUoF3hN"
      },
      "source": [
        "Una vez tenemos el modelo base nos interesa buscar la configuración de hiperparámetros que nos proporcione una mejor predicción del precio de re-venta de los coches. En este apartado haremos una búsqueda de hiperparámetros, recorriendo varios valores de número de capas, número de neuronas, tamaño del batch y épocas."
      ]
    },
    {
      "cell_type": "markdown",
      "metadata": {
        "id": "DtiaTO_LyC6p"
      },
      "source": [
        "<div style=\"background-color: #EDF7FF; border-color: #7C9DBF; border-left: 5px solid #7C9DBF; padding: 0.5em;\">\n",
        "<strong>Ejercicio (1.75 puntos):</strong> Implementa una función que evalúe distintos modelos combinando las siguientes características:\n",
        "<ul>    \n",
        "   <li>Tres arquitecturas diferentes con las siguientes configuraciones de número de capas ocultas (completamente conectadas) y número de neuronas en cada capa:</li>\n",
        "        <ul>\n",
        "        <li>[128, 64, 16]</li>\n",
        "        <li>[16, 4]</li>\n",
        "        <li>[4, 4]</li>\n",
        "        </ul> \n",
        "   <li>Tamaño del batch de 16 y 32</li>\n",
        "   <li>Épocas de 20, 50 y 100</li>\n",
        "</ul>   \n",
        "    \n",
        "    \n",
        "Como en el ejercicio anterior, la primera capa oculta tendrá siempre activación ReLU y las demás activación tangencial. El inicializador de kernel estará en modo 'normal' y usaremos el optimizador Adam.\n",
        "\n",
        "    \n",
        "La función deberá proporcionar una tabla con los siguientes campos: arquitectura de la red seleccionada, épocas, tamaño del batch, tiempo de entrenamiento, y raíz del error cuadrático medio (RMSE) del modelo \n",
        "\n",
        "-----------------------------------------------------------------------------------------------------------\n",
        "<b>Importante</b>: para la entrega de la PEC, fijar el parámetro <code>verbose = 0</code> en el entrenamiento de los modelos. La solución únicamente debe mostrar la tabla resultante.\n",
        "</div>"
      ]
    },
    {
      "cell_type": "code",
      "execution_count": null,
      "metadata": {
        "id": "2KkKLxm6dyyE"
      },
      "outputs": [],
      "source": [
        "#Hiperparameter search function\n"
      ]
    },
    {
      "cell_type": "code",
      "execution_count": null,
      "metadata": {
        "id": "Mb0zgnA4eTr1"
      },
      "outputs": [],
      "source": [
        "#Compute search\n"
      ]
    },
    {
      "cell_type": "markdown",
      "metadata": {
        "id": "rqrm7yA24NnA"
      },
      "source": [
        "<div style=\"background-color: #EDF7FF; border-color: #7C9DBF; border-left: 5px solid #7C9DBF; padding: 0.5em;\">\n",
        "<strong>Ejercicio (0.25 puntos):</strong> Representa en un gráfico el RMSE vs la configuración de los modelos \n",
        "\n",
        "</div>"
      ]
    },
    {
      "cell_type": "code",
      "execution_count": null,
      "metadata": {
        "id": "o2P1ljcIzmEY"
      },
      "outputs": [],
      "source": [
        "#Plot\n"
      ]
    },
    {
      "cell_type": "markdown",
      "metadata": {
        "id": "t4N_tg0l6QKu"
      },
      "source": [
        "### Elección mejor modelo y predicción"
      ]
    },
    {
      "cell_type": "markdown",
      "metadata": {
        "id": "AEZsFSi34t-9"
      },
      "source": [
        "<div style=\"background-color: #EDF7FF; border-color: #7C9DBF; border-left: 5px solid #7C9DBF; padding: 0.5em;\">\n",
        "<strong>Ejercicio (1 punto):</strong> Identifica la configuración que proporciona mejores resultados:\n",
        "<ul> \n",
        "<li>Justifica la elección del modelo</li>\n",
        "<li>Compila y entrena el modelo elegido. Nota: para la entrega, presentar con verbose=0</li>\n",
        "<li>Muestra la correspondiente gráfica de pérdida de los conjuntos de entrenamiento y validación</li>\n",
        "<li>Calcula las predicciones del precio y muestra en una tabla el Precio original (<code>price</code>) y el Precio predicho (<code>predicted_price</code>) para las 10 primeras filas del conjunto de test</li>\n",
        "<li>Comenta los resultados obtenidos</li>\n",
        "</ul> \n",
        "</div>"
      ]
    },
    {
      "cell_type": "code",
      "execution_count": null,
      "metadata": {
        "id": "yTfD3bP25nlO"
      },
      "outputs": [],
      "source": [
        "#Best configuration justification\n"
      ]
    },
    {
      "cell_type": "code",
      "execution_count": null,
      "metadata": {
        "id": "HX-ArM1vFNhX"
      },
      "outputs": [],
      "source": [
        "#Create, compile and fit ANN best model\n"
      ]
    },
    {
      "cell_type": "code",
      "execution_count": null,
      "metadata": {
        "id": "NuBBa_vgk7Ci"
      },
      "outputs": [],
      "source": [
        "#Plot\n"
      ]
    },
    {
      "cell_type": "code",
      "execution_count": null,
      "metadata": {
        "id": "ID7eKLDdF0P4"
      },
      "outputs": [],
      "source": [
        "#Generate Predictions on testing data\n"
      ]
    },
    {
      "cell_type": "code",
      "execution_count": null,
      "metadata": {
        "id": "7gqSXyS8511-"
      },
      "outputs": [],
      "source": [
        "#Comment results\n"
      ]
    }
  ],
  "metadata": {
    "colab": {
      "collapsed_sections": [],
      "name": "20212_M2_875_PEC1_Enunciado.ipynb",
      "provenance": [],
      "toc_visible": true
    },
    "kernelspec": {
      "display_name": "Python 3 (ipykernel)",
      "language": "python",
      "name": "python3"
    },
    "language_info": {
      "codemirror_mode": {
        "name": "ipython",
        "version": 3
      },
      "file_extension": ".py",
      "mimetype": "text/x-python",
      "name": "python",
      "nbconvert_exporter": "python",
      "pygments_lexer": "ipython3",
      "version": "3.9.1"
    }
  },
  "nbformat": 4,
  "nbformat_minor": 0
}