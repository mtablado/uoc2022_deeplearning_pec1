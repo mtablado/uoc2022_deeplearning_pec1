{
 "cells": [
  {
   "cell_type": "markdown",
   "metadata": {
    "id": "YO1mZRrP4FT2"
   },
   "source": [
    "<div style=\"width: 100%; clear: both;\">\n",
    "<div style=\"float: left; width: 50%;\">\n",
    "<img src=\"http://www.uoc.edu/portal/_resources/common/imatges/marca_UOC/UOC_Masterbrand.jpg\", align=\"left\">\n",
    "</div>\n",
    "<div style=\"float: right; width: 50%;\">\n",
    "<p style=\"margin: 0; padding-top: 22px; text-align:right;\">M2.875 · Deep Learning · PEC1</p>\n",
    "<p style=\"margin: 0; text-align:right;\">2021-2 · Máster universitario en Ciencia de datos (Data science)</p>\n",
    "<p style=\"margin: 0; text-align:right; padding-button: 100px;\">Estudios de Informática, Multimedia y Telecomunicación</p>\n",
    "</div>\n",
    "</div>\n",
    "<div style=\"width:100%;\">&nbsp;</div>\n",
    "\n",
    "\n",
    "# PEC 1: Redes neuronales artificiales\n",
    "\n",
    "En esta práctica implementaremos redes neuronales artificiales para resolver problemas de:\n",
    "\n",
    "   - Clasificación\n",
    "   - Regresión   \n",
    "\n",
    "\n",
    "**Importante: La entrega debe hacerse en formato notebook y en formato html donde se vea el código y los resultados y comentarios de cada ejercicio. Para exportar el notebook a html puede hacerse desde el menú File $\\to$ Download as $\\to$ HTML.**"
   ]
  },
  {
   "cell_type": "markdown",
   "metadata": {
    "id": "M35X9fQv4dUv"
   },
   "source": [
    "## 0. Contexto y carga de librerías"
   ]
  },
  {
   "cell_type": "markdown",
   "metadata": {
    "id": "GtU00Tcg-KHd"
   },
   "source": [
    "El siguiente código carga los paquetes necesarios para la práctica y lee el fichero de datos que usaremos."
   ]
  },
  {
   "cell_type": "markdown",
   "metadata": {
    "id": "m9pjq3hFA5Yg"
   },
   "source": [
    "Los datos contienen información sobre coches de segunda mano, sus características y el precio de re-venta en euros. En un primer ejercicio diseñaremos un modelo que nos permita clasificar los coches en tres grupos según su gama de precio. En el segundo ejercicio diseñaremos un modelo de regresión para predecir el precio de re-venta."
   ]
  },
  {
   "cell_type": "code",
   "execution_count": 1,
   "metadata": {
    "id": "19ixS6Vp-KHd"
   },
   "outputs": [
    {
     "name": "stderr",
     "output_type": "stream",
     "text": [
      "2022-03-13 07:31:57.293687: W tensorflow/stream_executor/platform/default/dso_loader.cc:64] Could not load dynamic library 'libcudart.so.11.0'; dlerror: libcudart.so.11.0: cannot open shared object file: No such file or directory\n",
      "2022-03-13 07:31:57.293711: I tensorflow/stream_executor/cuda/cudart_stub.cc:29] Ignore above cudart dlerror if you do not have a GPU set up on your machine.\n"
     ]
    }
   ],
   "source": [
    "import pandas as pd\n",
    "import numpy as np\n",
    "\n",
    "import matplotlib.pyplot as plt\n",
    "import seaborn as sns\n",
    "import timeit\n",
    "\n",
    "import keras\n",
    "from keras.models import Sequential, Model\n",
    "from keras.layers import Dense\n",
    "from tensorflow.keras.optimizers import Adam, SGD, Adadelta, Adagrad\n",
    "\n",
    "from sklearn.model_selection import train_test_split\n",
    "from sklearn.metrics import confusion_matrix, mean_squared_error, classification_report\n",
    "from sklearn.preprocessing import OneHotEncoder, StandardScaler"
   ]
  },
  {
   "cell_type": "code",
   "execution_count": 142,
   "metadata": {
    "id": "vmCg_5zXItWM"
   },
   "outputs": [
    {
     "ename": "ModuleNotFoundError",
     "evalue": "No module named 'google.colab'",
     "output_type": "error",
     "traceback": [
      "\u001b[0;31m---------------------------------------------------------------------------\u001b[0m",
      "\u001b[0;31mModuleNotFoundError\u001b[0m                       Traceback (most recent call last)",
      "\u001b[0;32m/tmp/ipykernel_5217/3835029036.py\u001b[0m in \u001b[0;36m<module>\u001b[0;34m\u001b[0m\n\u001b[1;32m      1\u001b[0m \u001b[0;31m##To read directly from Drive in Google Colab use:\u001b[0m\u001b[0;34m\u001b[0m\u001b[0;34m\u001b[0m\u001b[0;34m\u001b[0m\u001b[0m\n\u001b[0;32m----> 2\u001b[0;31m \u001b[0;32mfrom\u001b[0m \u001b[0mgoogle\u001b[0m\u001b[0;34m.\u001b[0m\u001b[0mcolab\u001b[0m \u001b[0;32mimport\u001b[0m \u001b[0mdrive\u001b[0m\u001b[0;34m\u001b[0m\u001b[0;34m\u001b[0m\u001b[0m\n\u001b[0m\u001b[1;32m      3\u001b[0m \u001b[0mdrive\u001b[0m\u001b[0;34m.\u001b[0m\u001b[0mmount\u001b[0m\u001b[0;34m(\u001b[0m\u001b[0;34m'/content/drive'\u001b[0m\u001b[0;34m)\u001b[0m\u001b[0;34m\u001b[0m\u001b[0;34m\u001b[0m\u001b[0m\n\u001b[1;32m      4\u001b[0m \u001b[0;31m#input path: \"./drive/MyDrive/CarPricesData.pkl\"\u001b[0m\u001b[0;34m\u001b[0m\u001b[0;34m\u001b[0m\u001b[0;34m\u001b[0m\u001b[0m\n\u001b[1;32m      5\u001b[0m \u001b[0;34m\u001b[0m\u001b[0m\n",
      "\u001b[0;31mModuleNotFoundError\u001b[0m: No module named 'google.colab'"
     ]
    }
   ],
   "source": [
    "##To read directly from Drive in Google Colab use:\n",
    "from google.colab import drive\n",
    "drive.mount('/content/drive')\n",
    "#input path: \"./drive/MyDrive/CarPricesData.pkl\"\n",
    "\n",
    "##To read in Kaggle, upload file in Kaggle \n",
    "##input path: \"/kaggle/input/botnetdl/botnet_dataset_DL.csv\""
   ]
  },
  {
   "cell_type": "code",
   "execution_count": 2,
   "metadata": {
    "id": "oAEbN2Xc-KHe"
   },
   "outputs": [],
   "source": [
    "df = pd.read_csv(\"./dataset.csv\") #change path if needed"
   ]
  },
  {
   "cell_type": "code",
   "execution_count": 3,
   "metadata": {
    "id": "g8gJfmpY-r2p"
   },
   "outputs": [
    {
     "data": {
      "text/html": [
       "<div>\n",
       "<style scoped>\n",
       "    .dataframe tbody tr th:only-of-type {\n",
       "        vertical-align: middle;\n",
       "    }\n",
       "\n",
       "    .dataframe tbody tr th {\n",
       "        vertical-align: top;\n",
       "    }\n",
       "\n",
       "    .dataframe thead th {\n",
       "        text-align: right;\n",
       "    }\n",
       "</style>\n",
       "<table border=\"1\" class=\"dataframe\">\n",
       "  <thead>\n",
       "    <tr style=\"text-align: right;\">\n",
       "      <th></th>\n",
       "      <th>months_old</th>\n",
       "      <th>km</th>\n",
       "      <th>fuel_type</th>\n",
       "      <th>horsepower</th>\n",
       "      <th>metcolor</th>\n",
       "      <th>automatic</th>\n",
       "      <th>size_engine</th>\n",
       "      <th>doors_num</th>\n",
       "      <th>weight</th>\n",
       "      <th>price</th>\n",
       "    </tr>\n",
       "  </thead>\n",
       "  <tbody>\n",
       "    <tr>\n",
       "      <th>0</th>\n",
       "      <td>73</td>\n",
       "      <td>97494</td>\n",
       "      <td>Petrol</td>\n",
       "      <td>110</td>\n",
       "      <td>1</td>\n",
       "      <td>0</td>\n",
       "      <td>1600</td>\n",
       "      <td>5</td>\n",
       "      <td>1085</td>\n",
       "      <td>10950</td>\n",
       "    </tr>\n",
       "    <tr>\n",
       "      <th>1</th>\n",
       "      <td>48</td>\n",
       "      <td>89049</td>\n",
       "      <td>Petrol</td>\n",
       "      <td>97</td>\n",
       "      <td>1</td>\n",
       "      <td>0</td>\n",
       "      <td>1400</td>\n",
       "      <td>5</td>\n",
       "      <td>1060</td>\n",
       "      <td>13500</td>\n",
       "    </tr>\n",
       "    <tr>\n",
       "      <th>2</th>\n",
       "      <td>40</td>\n",
       "      <td>161000</td>\n",
       "      <td>Diesel</td>\n",
       "      <td>69</td>\n",
       "      <td>1</td>\n",
       "      <td>0</td>\n",
       "      <td>1900</td>\n",
       "      <td>3</td>\n",
       "      <td>1105</td>\n",
       "      <td>13950</td>\n",
       "    </tr>\n",
       "    <tr>\n",
       "      <th>3</th>\n",
       "      <td>37</td>\n",
       "      <td>38812</td>\n",
       "      <td>Petrol</td>\n",
       "      <td>97</td>\n",
       "      <td>0</td>\n",
       "      <td>0</td>\n",
       "      <td>1400</td>\n",
       "      <td>3</td>\n",
       "      <td>1025</td>\n",
       "      <td>13450</td>\n",
       "    </tr>\n",
       "    <tr>\n",
       "      <th>4</th>\n",
       "      <td>55</td>\n",
       "      <td>33230</td>\n",
       "      <td>Petrol</td>\n",
       "      <td>110</td>\n",
       "      <td>0</td>\n",
       "      <td>0</td>\n",
       "      <td>1600</td>\n",
       "      <td>3</td>\n",
       "      <td>1050</td>\n",
       "      <td>13500</td>\n",
       "    </tr>\n",
       "  </tbody>\n",
       "</table>\n",
       "</div>"
      ],
      "text/plain": [
       "   months_old      km fuel_type  horsepower  metcolor  automatic  size_engine  \\\n",
       "0          73   97494    Petrol         110         1          0         1600   \n",
       "1          48   89049    Petrol          97         1          0         1400   \n",
       "2          40  161000    Diesel          69         1          0         1900   \n",
       "3          37   38812    Petrol          97         0          0         1400   \n",
       "4          55   33230    Petrol         110         0          0         1600   \n",
       "\n",
       "   doors_num  weight  price  \n",
       "0          5    1085  10950  \n",
       "1          5    1060  13500  \n",
       "2          3    1105  13950  \n",
       "3          3    1025  13450  \n",
       "4          3    1050  13500  "
      ]
     },
     "execution_count": 3,
     "metadata": {},
     "output_type": "execute_result"
    }
   ],
   "source": [
    "df.head(5)"
   ]
  },
  {
   "cell_type": "markdown",
   "metadata": {
    "id": "v4uy3S_l4uMK"
   },
   "source": [
    "## 1. Exploración (1 punto)\n",
    "\n"
   ]
  },
  {
   "cell_type": "markdown",
   "metadata": {
    "id": "-OTrT_SvJoYF"
   },
   "source": [
    "En primer lugar exploraremos el conjunto de datos. "
   ]
  },
  {
   "cell_type": "markdown",
   "metadata": {
    "id": "WArt2HG7n1qY"
   },
   "source": [
    "<div style=\"background-color: #EDF7FF; border-color: #7C9DBF; border-left: 5px solid #7C9DBF; padding: 0.5em;\">\n",
    "<strong>Ejercicio (1 punto):</strong> Explora los datos: \n",
    "\n",
    "<ul>\n",
    "        \n",
    "<li> Indica el tamaño del dataset y el número de variables categóricas y continuas del conjunto de datos</li> \n",
    "<li>   Grafica las distribuciones de las variables categóricas y de las continuas</li>\n",
    "<li>    Genera una tabla de correlaciones de todas las variables usando la librería <code>seaborn</code>, mostrando en cada casilla el valor de la correlación</li>\n",
    "<li>    Genera una tabla (usando la librería <code>seaborn</code>) que muestre únicamente las correlaciones entre el precio y el resto de variables, ordenada de mayor a menor según los valores de correlación</li>\n",
    "<li>  Comenta los resultados de la exploración de datos</li>\n",
    "</ul>\n",
    "\n",
    "</div>"
   ]
  },
  {
   "cell_type": "markdown",
   "metadata": {
    "id": "V10fH2QxP_vg"
   },
   "source": [
    "\n",
    "\n",
    "*   **Variables**\n",
    "\n"
   ]
  },
  {
   "cell_type": "code",
   "execution_count": 4,
   "metadata": {
    "id": "N3TOQ_ko_COF"
   },
   "outputs": [
    {
     "data": {
      "text/plain": [
       "<bound method NDFrame.describe of       months_old      km fuel_type  horsepower  metcolor  automatic  \\\n",
       "0             73   97494    Petrol         110         1          0   \n",
       "1             48   89049    Petrol          97         1          0   \n",
       "2             40  161000    Diesel          69         1          0   \n",
       "3             37   38812    Petrol          97         0          0   \n",
       "4             55   33230    Petrol         110         0          0   \n",
       "...          ...     ...       ...         ...       ...        ...   \n",
       "1431          48   78600    Petrol         110         1          0   \n",
       "1432          80   86109    Petrol         110         1          0   \n",
       "1433          77   82103    Petrol          86         1          0   \n",
       "1434          40   38653    Petrol         110         1          0   \n",
       "1435          59   43818    Petrol         110         0          0   \n",
       "\n",
       "      size_engine  doors_num  weight  price  \n",
       "0            1600          5    1085  10950  \n",
       "1            1400          5    1060  13500  \n",
       "2            1900          3    1105  13950  \n",
       "3            1400          3    1025  13450  \n",
       "4            1600          3    1050  13500  \n",
       "...           ...        ...     ...    ...  \n",
       "1431         1600          5    1075  11750  \n",
       "1432         1600          3    1055   8750  \n",
       "1433         1300          3    1015   8950  \n",
       "1434         1600          5    1080  14950  \n",
       "1435         1600          5    1070  11950  \n",
       "\n",
       "[1436 rows x 10 columns]>"
      ]
     },
     "execution_count": 4,
     "metadata": {},
     "output_type": "execute_result"
    }
   ],
   "source": [
    "#Dataset size\n",
    "df.describe"
   ]
  },
  {
   "cell_type": "code",
   "execution_count": 5,
   "metadata": {
    "id": "i8-SrElyJFy3"
   },
   "outputs": [],
   "source": [
    "#Number of categorical and continuous variables\n",
    "num_categorical_variables = 5\n",
    "num_continuous_variables = 5"
   ]
  },
  {
   "cell_type": "markdown",
   "metadata": {
    "id": "bJvw7JwmQFss"
   },
   "source": [
    "*   **Distribuciones**\n",
    "\n",
    "\n",
    "\n"
   ]
  },
  {
   "cell_type": "code",
   "execution_count": 6,
   "metadata": {
    "id": "Oks_R5EhN5om"
   },
   "outputs": [
    {
     "data": {
      "image/png": "[encoded data removed]",
      "text/plain": [
       "<Figure size 1800x288 with 5 Axes>"
      ]
     },
     "metadata": {
      "needs_background": "light"
     },
     "output_type": "display_data"
    }
   ],
   "source": [
    "#Distributions of categorical variables\n",
    "fig, ax = plt.subplots(nrows=1, ncols=num_categorical_variables, figsize=(25,4))\n",
    "\n",
    "feats_to_explore = ['fuel_type', 'metcolor', 'automatic', 'size_engine', 'doors_num']\n",
    "for i in range(len(feats_to_explore)):\n",
    "    df[feats_to_explore[i]].value_counts().plot.bar(ax=ax[i])\n",
    "    ax[i].set_title(feats_to_explore[i])\n",
    "    \n",
    "plt.suptitle('Distributions of categorical variables', weight='bold', size=16)\n",
    "fig.subplots_adjust(top=0.8)\n",
    "plt.show()\n"
   ]
  },
  {
   "cell_type": "code",
   "execution_count": 7,
   "metadata": {
    "id": "tv7CULUcPiTc"
   },
   "outputs": [
    {
     "data": {
      "image/png": "[encoded data removed]",
      "text/plain": [
       "<Figure size 1800x288 with 5 Axes>"
      ]
     },
     "metadata": {
      "needs_background": "light"
     },
     "output_type": "display_data"
    }
   ],
   "source": [
    "#Distributions continuous variables\n",
    "fig, ax = plt.subplots(nrows=1, ncols=num_continuous_variables, figsize=(25,4))\n",
    "\n",
    "feats_to_explore = ['months_old', 'km', 'horsepower', 'weight', 'price']\n",
    "for i in range(len(feats_to_explore)):\n",
    "    df.hist(alpha=0.5, column=feats_to_explore[i], ax=ax[i])\n",
    "    \n",
    "plt.suptitle('Coninuous Variables Distributions', weight='bold', size=16)\n",
    "fig.subplots_adjust(top=0.8)\n",
    "plt.show()"
   ]
  },
  {
   "cell_type": "markdown",
   "metadata": {
    "id": "YPbtmbqRASsM"
   },
   "source": [
    "*   **Correlaciones**\n",
    "\n",
    "\n"
   ]
  },
  {
   "cell_type": "code",
   "execution_count": 8,
   "metadata": {
    "id": "LvO4C7ymANXf"
   },
   "outputs": [
    {
     "data": {
      "image/png": "[encoded data removed]",
      "text/plain": [
       "<Figure size 432x288 with 2 Axes>"
      ]
     },
     "metadata": {
      "needs_background": "light"
     },
     "output_type": "display_data"
    }
   ],
   "source": [
    "#All variables correlations\n",
    "corr = df.corr()\n",
    "ax = sns.heatmap(corr, cmap=\"Blues\", annot=True, linewidths=.5)"
   ]
  },
  {
   "cell_type": "code",
   "execution_count": 9,
   "metadata": {
    "id": "RSJWiWThAQj5"
   },
   "outputs": [
    {
     "data": {
      "image/png": "[encoded data removed]",
      "text/plain": [
       "<Figure size 432x288 with 2 Axes>"
      ]
     },
     "metadata": {
      "needs_background": "light"
     },
     "output_type": "display_data"
    }
   ],
   "source": [
    "#Features correlating with Price\n",
    "corr = df.corr()['price'][:]\n",
    "corr = corr.sort_values(ascending=False)\n",
    "corr = corr.to_numpy()\n",
    "ax = sns.heatmap(corr[:, np.newaxis], cmap=\"Blues\", annot=True, linewidths=.5)"
   ]
  },
  {
   "cell_type": "markdown",
   "metadata": {
    "id": "n1GaD4JqQhsJ"
   },
   "source": [
    "\n",
    "\n",
    "*   **Comentarios resultado exploración**\n",
    "\n"
   ]
  },
  {
   "cell_type": "code",
   "execution_count": null,
   "metadata": {
    "id": "N_8tQfTTQm9Z"
   },
   "outputs": [],
   "source": [
    "#Comments\n"
   ]
  },
  {
   "cell_type": "markdown",
   "metadata": {
    "id": "kdn0ZNWI5HFE"
   },
   "source": [
    "## 2. Red neuronal artificial: Clasificación (4.5 puntos)\n"
   ]
  },
  {
   "cell_type": "markdown",
   "metadata": {
    "id": "3Li5TkOu7tGR"
   },
   "source": [
    "En este apartado entrenaremos un modelo que intente clasificar los coches según su gama de precio. Para ello crearemos una nueva variable como indicador de calidad del coche (gama baja, media o alta), siguiendo las siguientes condiciones:\n",
    "\n",
    "\n",
    "\n",
    "*   _low-end_: precio menor que 11000 euros\n",
    "*   _medium-end_: precio mayor o igual que 11000 euros y menor que 13000\n",
    "*   _high-end_: precio mayor o igual que 13000\n",
    "\n"
   ]
  },
  {
   "cell_type": "markdown",
   "metadata": {
    "id": "zkZrkOkb5QWL"
   },
   "source": [
    "### Pre-procesado\n"
   ]
  },
  {
   "cell_type": "markdown",
   "metadata": {
    "id": "v0z5hx64pNhv"
   },
   "source": [
    "<div style=\"background-color: #EDF7FF; border-color: #7C9DBF; border-left: 5px solid #7C9DBF; padding: 0.5em;\">\n",
    "<strong>Ejercicio (0.75 puntos):</strong> Pre-procesa los datos: \n",
    "\n",
    "<ul>\n",
    "        \n",
    "<li>   Crea una nueva variable <code>quality</code> que incluya la gama del coche, con las condiciones indicadas</li>\n",
    "<li>   Muestra el histograma de la nueva variable <code>quality</code></li>\n",
    "<li>   Crea los vectores de variables dependientes (<i>features</i>) y de la variable independiente (<i>labels</i>)</li>\n",
    "<li>   Normaliza debidamente los datos y binariza el vector de etiquetas (<i>labels</i>) </li>\n",
    "<li>   Divide el conjunto de datos en 80% para entrenamiento y 20% para test, usando la función <code>train_test_split</code></li>\n",
    "<li>   Muestra las dimensiones de los conjuntos de entrenamiento y test</li>\n",
    "</ul>\n",
    "</div>"
   ]
  },
  {
   "cell_type": "code",
   "execution_count": 10,
   "metadata": {
    "id": "GfltZ361AC89"
   },
   "outputs": [
    {
     "data": {
      "text/plain": [
       "0          low-end\n",
       "1         high-end\n",
       "2         high-end\n",
       "3         high-end\n",
       "4         high-end\n",
       "           ...    \n",
       "1431    medium-end\n",
       "1432       low-end\n",
       "1433       low-end\n",
       "1434      high-end\n",
       "1435    medium-end\n",
       "Name: quality, Length: 1436, dtype: category\n",
       "Categories (3, object): ['low-end' < 'medium-end' < 'high-end']"
      ]
     },
     "execution_count": 10,
     "metadata": {},
     "output_type": "execute_result"
    }
   ],
   "source": [
    "#Create new variable: quality\n",
    "df['quality'] = pd.cut(df['price'], bins=[0, 11001, 13001, float('Inf')], labels=['low-end', 'medium-end', 'high-end'])\n",
    "df['quality']"
   ]
  },
  {
   "cell_type": "code",
   "execution_count": 11,
   "metadata": {
    "id": "LLcPtn18BlQs"
   },
   "outputs": [
    {
     "data": {
      "text/plain": [
       "Text(0.5, 1.0, 'quality')"
      ]
     },
     "execution_count": 11,
     "metadata": {},
     "output_type": "execute_result"
    },
    {
     "data": {
      "image/png": "[encoded data removed]",
      "text/plain": [
       "<Figure size 432x288 with 1 Axes>"
      ]
     },
     "metadata": {
      "needs_background": "light"
     },
     "output_type": "display_data"
    }
   ],
   "source": [
    "#Histogram car quality\n",
    "ax = df['quality'].value_counts().plot.bar()\n",
    "ax.set_title('quality')"
   ]
  },
  {
   "cell_type": "code",
   "execution_count": 12,
   "metadata": {},
   "outputs": [
    {
     "data": {
      "text/plain": [
       "<bound method NDFrame.describe of       months_old      km fuel_type  horsepower  metcolor  automatic  \\\n",
       "0             73   97494    Petrol         110         1          0   \n",
       "1             48   89049    Petrol          97         1          0   \n",
       "2             40  161000    Diesel          69         1          0   \n",
       "3             37   38812    Petrol          97         0          0   \n",
       "4             55   33230    Petrol         110         0          0   \n",
       "...          ...     ...       ...         ...       ...        ...   \n",
       "1431          48   78600    Petrol         110         1          0   \n",
       "1432          80   86109    Petrol         110         1          0   \n",
       "1433          77   82103    Petrol          86         1          0   \n",
       "1434          40   38653    Petrol         110         1          0   \n",
       "1435          59   43818    Petrol         110         0          0   \n",
       "\n",
       "      size_engine  doors_num  weight  price     quality  \n",
       "0            1600          5    1085  10950     low-end  \n",
       "1            1400          5    1060  13500    high-end  \n",
       "2            1900          3    1105  13950    high-end  \n",
       "3            1400          3    1025  13450    high-end  \n",
       "4            1600          3    1050  13500    high-end  \n",
       "...           ...        ...     ...    ...         ...  \n",
       "1431         1600          5    1075  11750  medium-end  \n",
       "1432         1600          3    1055   8750     low-end  \n",
       "1433         1300          3    1015   8950     low-end  \n",
       "1434         1600          5    1080  14950    high-end  \n",
       "1435         1600          5    1070  11950  medium-end  \n",
       "\n",
       "[1436 rows x 11 columns]>"
      ]
     },
     "execution_count": 12,
     "metadata": {},
     "output_type": "execute_result"
    }
   ],
   "source": [
    "df.describe"
   ]
  },
  {
   "cell_type": "code",
   "execution_count": 13,
   "metadata": {
    "id": "whqYSqQEBqjM"
   },
   "outputs": [],
   "source": [
    "#Create features and labels vectors\n",
    "features = df.drop(columns = ['quality', 'price'])\n",
    "labels = df['quality']"
   ]
  },
  {
   "cell_type": "code",
   "execution_count": 14,
   "metadata": {
    "id": "r8MdGHI7Btjr"
   },
   "outputs": [
    {
     "data": {
      "text/plain": [
       "array([[ 0.91525566,  0.77242262,  0.3591837 , ...,  0.17461144,\n",
       "         1.014941  ,  0.23427743],\n",
       "       [-0.43109461,  0.5471829 ,  0.3591837 , ..., -0.89385359,\n",
       "         1.014941  , -0.23947685],\n",
       "       [-0.86192669,  2.46621463, -2.3132919 , ...,  1.777309  ,\n",
       "        -1.08513865,  0.61328086],\n",
       "       ...,\n",
       "       [ 1.13067171,  0.36192356,  0.3591837 , ..., -1.42808611,\n",
       "        -1.08513865, -1.09223456],\n",
       "       [-0.86192669, -0.79694746,  0.3591837 , ...,  0.17461144,\n",
       "         1.014941  ,  0.13952657],\n",
       "       [ 0.16129951, -0.65918983,  0.3591837 , ...,  0.17461144,\n",
       "         1.014941  , -0.04997514]])"
      ]
     },
     "execution_count": 14,
     "metadata": {},
     "output_type": "execute_result"
    }
   ],
   "source": [
    "#Normalize the corresponding data\n",
    "features['fuel_type'] = features['fuel_type'].astype('category').cat.codes\n",
    "features['fuel_type']\n",
    "\n",
    "scaler = StandardScaler()\n",
    "scaled_features = scaler.fit_transform(features)\n",
    "scaled_features"
   ]
  },
  {
   "cell_type": "code",
   "execution_count": 15,
   "metadata": {},
   "outputs": [
    {
     "data": {
      "image/png": "[encoded data removed]",
      "text/plain": [
       "<Figure size 432x288 with 1 Axes>"
      ]
     },
     "metadata": {
      "needs_background": "light"
     },
     "output_type": "display_data"
    }
   ],
   "source": [
    "# Check labels distribution\n",
    "ax = labels.value_counts().plot.bar()"
   ]
  },
  {
   "cell_type": "code",
   "execution_count": 16,
   "metadata": {
    "id": "OkVVv7yrBxhc",
    "scrolled": true
   },
   "outputs": [
    {
     "data": {
      "image/png": "[encoded data removed]",
      "text/plain": [
       "<Figure size 432x288 with 1 Axes>"
      ]
     },
     "metadata": {
      "needs_background": "light"
     },
     "output_type": "display_data"
    }
   ],
   "source": [
    "#Binarize the labels\n",
    "binary_labels = pd.get_dummies(labels)\n",
    "# Check labels distribution\n",
    "ax = binary_labels.value_counts().plot.bar()"
   ]
  },
  {
   "cell_type": "code",
   "execution_count": 23,
   "metadata": {},
   "outputs": [
    {
     "data": {
      "text/html": [
       "<div>\n",
       "<style scoped>\n",
       "    .dataframe tbody tr th:only-of-type {\n",
       "        vertical-align: middle;\n",
       "    }\n",
       "\n",
       "    .dataframe tbody tr th {\n",
       "        vertical-align: top;\n",
       "    }\n",
       "\n",
       "    .dataframe thead th {\n",
       "        text-align: right;\n",
       "    }\n",
       "</style>\n",
       "<table border=\"1\" class=\"dataframe\">\n",
       "  <thead>\n",
       "    <tr style=\"text-align: right;\">\n",
       "      <th></th>\n",
       "      <th>low-end</th>\n",
       "      <th>medium-end</th>\n",
       "      <th>high-end</th>\n",
       "    </tr>\n",
       "  </thead>\n",
       "  <tbody>\n",
       "    <tr>\n",
       "      <th>0</th>\n",
       "      <td>1</td>\n",
       "      <td>0</td>\n",
       "      <td>0</td>\n",
       "    </tr>\n",
       "    <tr>\n",
       "      <th>1</th>\n",
       "      <td>0</td>\n",
       "      <td>0</td>\n",
       "      <td>1</td>\n",
       "    </tr>\n",
       "    <tr>\n",
       "      <th>2</th>\n",
       "      <td>0</td>\n",
       "      <td>0</td>\n",
       "      <td>1</td>\n",
       "    </tr>\n",
       "    <tr>\n",
       "      <th>3</th>\n",
       "      <td>0</td>\n",
       "      <td>0</td>\n",
       "      <td>1</td>\n",
       "    </tr>\n",
       "    <tr>\n",
       "      <th>4</th>\n",
       "      <td>0</td>\n",
       "      <td>0</td>\n",
       "      <td>1</td>\n",
       "    </tr>\n",
       "    <tr>\n",
       "      <th>...</th>\n",
       "      <td>...</td>\n",
       "      <td>...</td>\n",
       "      <td>...</td>\n",
       "    </tr>\n",
       "    <tr>\n",
       "      <th>1431</th>\n",
       "      <td>0</td>\n",
       "      <td>1</td>\n",
       "      <td>0</td>\n",
       "    </tr>\n",
       "    <tr>\n",
       "      <th>1432</th>\n",
       "      <td>1</td>\n",
       "      <td>0</td>\n",
       "      <td>0</td>\n",
       "    </tr>\n",
       "    <tr>\n",
       "      <th>1433</th>\n",
       "      <td>1</td>\n",
       "      <td>0</td>\n",
       "      <td>0</td>\n",
       "    </tr>\n",
       "    <tr>\n",
       "      <th>1434</th>\n",
       "      <td>0</td>\n",
       "      <td>0</td>\n",
       "      <td>1</td>\n",
       "    </tr>\n",
       "    <tr>\n",
       "      <th>1435</th>\n",
       "      <td>0</td>\n",
       "      <td>1</td>\n",
       "      <td>0</td>\n",
       "    </tr>\n",
       "  </tbody>\n",
       "</table>\n",
       "<p>1436 rows × 3 columns</p>\n",
       "</div>"
      ],
      "text/plain": [
       "      low-end  medium-end  high-end\n",
       "0           1           0         0\n",
       "1           0           0         1\n",
       "2           0           0         1\n",
       "3           0           0         1\n",
       "4           0           0         1\n",
       "...       ...         ...       ...\n",
       "1431        0           1         0\n",
       "1432        1           0         0\n",
       "1433        1           0         0\n",
       "1434        0           0         1\n",
       "1435        0           1         0\n",
       "\n",
       "[1436 rows x 3 columns]"
      ]
     },
     "execution_count": 23,
     "metadata": {},
     "output_type": "execute_result"
    }
   ],
   "source": [
    "binary_labels"
   ]
  },
  {
   "cell_type": "code",
   "execution_count": 27,
   "metadata": {
    "id": "JqDRRy2mAgUV"
   },
   "outputs": [],
   "source": [
    "#Train-test split\n",
    "myseed= 38\n",
    "\n",
    "X_train, X_test, y_train, y_test = train_test_split(\n",
    "    scaled_features, binary_labels, test_size=0.8, random_state=myseed)"
   ]
  },
  {
   "cell_type": "code",
   "execution_count": 28,
   "metadata": {
    "id": "j7FJc1POAii4"
   },
   "outputs": [
    {
     "data": {
      "text/plain": [
       "((287, 9), (1149, 9), (287, 3), (1149, 3))"
      ]
     },
     "execution_count": 28,
     "metadata": {},
     "output_type": "execute_result"
    }
   ],
   "source": [
    "#Shapes\n",
    "X_train.shape, X_test.shape, y_train.shape, y_test.shape "
   ]
  },
  {
   "cell_type": "markdown",
   "metadata": {},
   "source": [
    "|        | X_train   | X_test     | y_train | y_test  |\n",
    "|--------|-----------|------------|---------|---------|\n",
    "| Shapes | (287, 9) | (1149, 9) | (287,3)  | (1149,3) |"
   ]
  },
  {
   "cell_type": "markdown",
   "metadata": {
    "id": "Z60Pf12T5bjF"
   },
   "source": [
    "### Modelo base\n"
   ]
  },
  {
   "cell_type": "markdown",
   "metadata": {
    "id": "w9Dm_WN5rzGt"
   },
   "source": [
    "Empezaremos diseñando un modelo base con 4 capas ocultas.\n",
    " \n",
    "Nota: Para el ajuste del modelo usaremos los datos de test como conjunto de validación."
   ]
  },
  {
   "cell_type": "markdown",
   "metadata": {
    "id": "X-9gUgcQrGk1"
   },
   "source": [
    "<div style=\"background-color: #EDF7FF; border-color: #7C9DBF; border-left: 5px solid #7C9DBF; padding: 0.5em;\">\n",
    "<strong>Ejercicio (1.25 puntos):</strong> Implementa el modelo de red neuronal artificial:\n",
    "<ul>\n",
    "<li>   Diseña la arquitectura para el modelo de clasificación con la función de activación adecuada para la capa de salida y con las siguientes características:</li>\n",
    "   <ul>\n",
    "   <li> 4 capas ocultas con 64, 32, 10, 8 neuronas sucesivamente</li>\n",
    "   <li> Función de activación de las capas intermedias: ReLU</li>\n",
    "   </ul>\n",
    "\n",
    "<li>   Compila el modelo con la función de pérdida más adecuada, el optimizador Adam, una velocidad de aprendizaje de 0.1, y la métrica Accuracy.</li>\n",
    "\n",
    "<li>   Ajusta el modelo con 20 épocas y un tamaño del batch de 64</li>\n",
    "\n",
    "<li>   Muestra las gráficas de accuracy y loss. En cada gráfica debe visualizarse la curva de entrenamiento y la de validación</li>\n",
    "</ul>\n",
    "</div>"
   ]
  },
  {
   "cell_type": "code",
   "execution_count": 19,
   "metadata": {
    "id": "55FNYaQnB8iS"
   },
   "outputs": [
    {
     "name": "stderr",
     "output_type": "stream",
     "text": [
      "2022-03-13 07:33:00.319332: W tensorflow/stream_executor/platform/default/dso_loader.cc:64] Could not load dynamic library 'libcuda.so.1'; dlerror: libcuda.so.1: cannot open shared object file: No such file or directory\n",
      "2022-03-13 07:33:00.319370: W tensorflow/stream_executor/cuda/cuda_driver.cc:269] failed call to cuInit: UNKNOWN ERROR (303)\n",
      "2022-03-13 07:33:00.319405: I tensorflow/stream_executor/cuda/cuda_diagnostics.cc:156] kernel driver does not appear to be running on this host (mtablado-Lenovo-YOGA-920-13IKB): /proc/driver/nvidia/version does not exist\n",
      "2022-03-13 07:33:00.319664: I tensorflow/core/platform/cpu_feature_guard.cc:151] This TensorFlow binary is optimized with oneAPI Deep Neural Network Library (oneDNN) to use the following CPU instructions in performance-critical operations:  AVX2 FMA\n",
      "To enable them in other operations, rebuild TensorFlow with the appropriate compiler flags.\n"
     ]
    }
   ],
   "source": [
    "#Create ANN model\n",
    "model = Sequential()\n",
    "\n",
    "# Input layer\n",
    "model.add(keras.Input(shape=(9,)))\n",
    "\n",
    "# Hidden layers\n",
    "model.add(Dense(64, activation=\"relu\"))\n",
    "model.add(Dense(32, activation=\"relu\"))\n",
    "model.add(Dense(10, activation=\"relu\"))\n",
    "model.add(Dense(8, activation=\"relu\"))\n",
    "\n",
    "# Output layer\n",
    "model.add(Dense(3, activation=\"softmax\"))\n",
    "\n",
    "model.build()"
   ]
  },
  {
   "cell_type": "code",
   "execution_count": 20,
   "metadata": {},
   "outputs": [
    {
     "name": "stdout",
     "output_type": "stream",
     "text": [
      "Model: \"sequential\"\n",
      "_________________________________________________________________\n",
      " Layer (type)                Output Shape              Param #   \n",
      "=================================================================\n",
      " dense (Dense)               (None, 64)                640       \n",
      "                                                                 \n",
      " dense_1 (Dense)             (None, 32)                2080      \n",
      "                                                                 \n",
      " dense_2 (Dense)             (None, 10)                330       \n",
      "                                                                 \n",
      " dense_3 (Dense)             (None, 8)                 88        \n",
      "                                                                 \n",
      " dense_4 (Dense)             (None, 3)                 27        \n",
      "                                                                 \n",
      "=================================================================\n",
      "Total params: 3,165\n",
      "Trainable params: 3,165\n",
      "Non-trainable params: 0\n",
      "_________________________________________________________________\n"
     ]
    }
   ],
   "source": [
    "model.summary()"
   ]
  },
  {
   "cell_type": "code",
   "execution_count": 21,
   "metadata": {
    "id": "4uZBJAsGqJau"
   },
   "outputs": [],
   "source": [
    "#Compile\n",
    "# Compila el modelo con la función de pérdida más adecuada, \n",
    "  #el optimizador Adam, una velocidad de aprendizaje de 0.1, y la métrica Accuracy.\n",
    "model.compile(Adam(learning_rate=0.1), \"categorical_crossentropy\", metrics=[\"accuracy\"])"
   ]
  },
  {
   "cell_type": "code",
   "execution_count": 25,
   "metadata": {
    "id": "H-k_iYxBqLQK"
   },
   "outputs": [
    {
     "ename": "ValueError",
     "evalue": "The truth value of an array with more than one element is ambiguous. Use a.any() or a.all()",
     "output_type": "error",
     "traceback": [
      "\u001b[0;31m---------------------------------------------------------------------------\u001b[0m",
      "\u001b[0;31mValueError\u001b[0m                                Traceback (most recent call last)",
      "\u001b[0;32m/tmp/ipykernel_105919/3599360752.py\u001b[0m in \u001b[0;36m<module>\u001b[0;34m\u001b[0m\n\u001b[1;32m      1\u001b[0m \u001b[0;31m#Fit\u001b[0m\u001b[0;34m\u001b[0m\u001b[0;34m\u001b[0m\u001b[0;34m\u001b[0m\u001b[0m\n\u001b[0;32m----> 2\u001b[0;31m \u001b[0mmodel\u001b[0m\u001b[0;34m.\u001b[0m\u001b[0mfit\u001b[0m\u001b[0;34m(\u001b[0m\u001b[0mX_train\u001b[0m\u001b[0;34m,\u001b[0m \u001b[0mepochs\u001b[0m\u001b[0;34m=\u001b[0m\u001b[0;36m20\u001b[0m\u001b[0;34m,\u001b[0m \u001b[0mbatch_size\u001b[0m\u001b[0;34m=\u001b[0m\u001b[0;36m64\u001b[0m\u001b[0;34m,\u001b[0m \u001b[0mvalidation_data\u001b[0m\u001b[0;34m=\u001b[0m\u001b[0mX_test\u001b[0m\u001b[0;34m)\u001b[0m\u001b[0;34m\u001b[0m\u001b[0;34m\u001b[0m\u001b[0m\n\u001b[0m",
      "\u001b[0;32m~/anaconda3/envs/uoc2022_deeplearning_pec1/lib/python3.9/site-packages/keras/utils/traceback_utils.py\u001b[0m in \u001b[0;36merror_handler\u001b[0;34m(*args, **kwargs)\u001b[0m\n\u001b[1;32m     65\u001b[0m     \u001b[0;32mexcept\u001b[0m \u001b[0mException\u001b[0m \u001b[0;32mas\u001b[0m \u001b[0me\u001b[0m\u001b[0;34m:\u001b[0m  \u001b[0;31m# pylint: disable=broad-except\u001b[0m\u001b[0;34m\u001b[0m\u001b[0;34m\u001b[0m\u001b[0m\n\u001b[1;32m     66\u001b[0m       \u001b[0mfiltered_tb\u001b[0m \u001b[0;34m=\u001b[0m \u001b[0m_process_traceback_frames\u001b[0m\u001b[0;34m(\u001b[0m\u001b[0me\u001b[0m\u001b[0;34m.\u001b[0m\u001b[0m__traceback__\u001b[0m\u001b[0;34m)\u001b[0m\u001b[0;34m\u001b[0m\u001b[0;34m\u001b[0m\u001b[0m\n\u001b[0;32m---> 67\u001b[0;31m       \u001b[0;32mraise\u001b[0m \u001b[0me\u001b[0m\u001b[0;34m.\u001b[0m\u001b[0mwith_traceback\u001b[0m\u001b[0;34m(\u001b[0m\u001b[0mfiltered_tb\u001b[0m\u001b[0;34m)\u001b[0m \u001b[0;32mfrom\u001b[0m \u001b[0;32mNone\u001b[0m\u001b[0;34m\u001b[0m\u001b[0;34m\u001b[0m\u001b[0m\n\u001b[0m\u001b[1;32m     68\u001b[0m     \u001b[0;32mfinally\u001b[0m\u001b[0;34m:\u001b[0m\u001b[0;34m\u001b[0m\u001b[0;34m\u001b[0m\u001b[0m\n\u001b[1;32m     69\u001b[0m       \u001b[0;32mdel\u001b[0m \u001b[0mfiltered_tb\u001b[0m\u001b[0;34m\u001b[0m\u001b[0;34m\u001b[0m\u001b[0m\n",
      "\u001b[0;32m~/anaconda3/envs/uoc2022_deeplearning_pec1/lib/python3.9/site-packages/keras/engine/training.py\u001b[0m in \u001b[0;36mfit\u001b[0;34m(self, x, y, batch_size, epochs, verbose, callbacks, validation_split, validation_data, shuffle, class_weight, sample_weight, initial_epoch, steps_per_epoch, validation_steps, validation_batch_size, validation_freq, max_queue_size, workers, use_multiprocessing)\u001b[0m\n\u001b[1;32m   1321\u001b[0m               (x, y, sample_weight), validation_split=validation_split))\n\u001b[1;32m   1322\u001b[0m \u001b[0;34m\u001b[0m\u001b[0m\n\u001b[0;32m-> 1323\u001b[0;31m     \u001b[0;32mif\u001b[0m \u001b[0mvalidation_data\u001b[0m\u001b[0;34m:\u001b[0m\u001b[0;34m\u001b[0m\u001b[0;34m\u001b[0m\u001b[0m\n\u001b[0m\u001b[1;32m   1324\u001b[0m       val_x, val_y, val_sample_weight = (\n\u001b[1;32m   1325\u001b[0m           data_adapter.unpack_x_y_sample_weight(validation_data))\n",
      "\u001b[0;31mValueError\u001b[0m: The truth value of an array with more than one element is ambiguous. Use a.any() or a.all()"
     ]
    }
   ],
   "source": [
    "#Fit\n",
    "model.fit(X_train, epochs=20, batch_size=64, validation_data=X_test)"
   ]
  },
  {
   "cell_type": "code",
   "execution_count": null,
   "metadata": {
    "id": "Id4u4igDBHtK"
   },
   "outputs": [],
   "source": [
    "#Plots \n"
   ]
  },
  {
   "cell_type": "markdown",
   "metadata": {
    "id": "epfveZ6I5rzR"
   },
   "source": [
    "### Influencia velocidad aprendizaje y optimizador"
   ]
  },
  {
   "cell_type": "markdown",
   "metadata": {
    "id": "Pvt1o-bzDgQs"
   },
   "source": [
    "Una vez tenemos el modelo base, analizaremos la influencia que pueden tener la velocidad de aprendizaje y el tipo de optimizador en la mejora del rendimiento."
   ]
  },
  {
   "cell_type": "markdown",
   "metadata": {
    "id": "k4MKwGwYtBML"
   },
   "source": [
    "<div style=\"background-color: #EDF7FF; border-color: #7C9DBF; border-left: 5px solid #7C9DBF; padding: 0.5em;\">\n",
    "<strong>Ejercicio (1.5 puntos):</strong> Implementa una función para entrenar la arquitectura del ejercicio anterior para 4 optimizadores diferentes: Adam, SGD, Adadelta, Adagrad, y 4 velocidades de aprendizaje: 0.001, 0.01, 0.05, 0.1. \n",
    "Entrena los modelos, y representa dos gráficas:\n",
    " <ul>\n",
    "     <li> Tiempo de entrenamiento vs Velocidad de aprendizaje</li>\n",
    "     <li>  <i>Accuracy</i> vs Velocidad de aprendizaje</li>\n",
    "</ul>   \n",
    "    \n",
    "Cada gráfica debe incluir la evolución obtenida por los cuatro optimizadores para poderlos comparar mejor.\n",
    "    \n",
    "-----------------------------------------------------------------------------------------------------------\n",
    "<b>Importante</b>: para la entrega de la PEC, fijar el parámetro <code>verbose = 0</code> en el entrenamiento de los modelos. La solución únicamente debe mostrar las gráficas resultantes.\n",
    "</div>"
   ]
  },
  {
   "cell_type": "code",
   "execution_count": null,
   "metadata": {
    "id": "yt72wL7_CauO"
   },
   "outputs": [],
   "source": [
    "#Function to compute several models changing Optimizers and learning rate\n"
   ]
  },
  {
   "cell_type": "code",
   "execution_count": null,
   "metadata": {
    "id": "PF9BZo4WCdX6"
   },
   "outputs": [],
   "source": [
    "#Compute models\n"
   ]
  },
  {
   "cell_type": "code",
   "execution_count": null,
   "metadata": {
    "id": "KALAyx3bCgBm"
   },
   "outputs": [],
   "source": [
    "#Plots\n"
   ]
  },
  {
   "cell_type": "markdown",
   "metadata": {
    "id": "3FFT0HcW5yzD"
   },
   "source": [
    "### Elección del mejor modelo"
   ]
  },
  {
   "cell_type": "markdown",
   "metadata": {
    "id": "nxM_49dxuC1L"
   },
   "source": [
    "<div style=\"background-color: #EDF7FF; border-color: #7C9DBF; border-left: 5px solid #7C9DBF; padding: 0.5em;\">\n",
    "<strong>Ejercicio (1 punto):</strong> Identifica el valor de la velocidad de aprendizaje y del optimizador que mejor rendimiento dan al modelo, según los resultados del ejercicio anterior:\n",
    "<ul>\n",
    "    \n",
    "<li>   Justifica la elección</li>\n",
    "<li>   Compila y entrena el modelo elegido</li>\n",
    "<li>   Muestra las correspondientes gráficas de <i>Accuracy</i> y <i>Loss</i> de los conjuntos de entrenamiento y validación, e indica el <i>Accuracy</i> del modelo </li>\n",
    "<li>   Muestra la matriz de confusión multi-clase con las etiquetas originales de <code>quality</code> (<i>low-end</i>, <i>medium-end</i>, <i>high-end</i>)</li>\n",
    "<li>   Muestra la precisión, recall y F1-score resultantes para cada etiqueta</li>\n",
    "<li>   Comenta los resultados obtenidos</li>\n",
    "</ul>\n",
    "</div>"
   ]
  },
  {
   "cell_type": "code",
   "execution_count": null,
   "metadata": {
    "id": "4oiJyrGL6Ntb"
   },
   "outputs": [],
   "source": [
    "#Best model justification\n"
   ]
  },
  {
   "cell_type": "code",
   "execution_count": null,
   "metadata": {
    "id": "8Dwvn_0JCt9A"
   },
   "outputs": [],
   "source": [
    "#Create, compile and fit ANN BEST model\n"
   ]
  },
  {
   "cell_type": "code",
   "execution_count": null,
   "metadata": {
    "id": "7KvpGJi4C1fD"
   },
   "outputs": [],
   "source": [
    "#Plots\n"
   ]
  },
  {
   "cell_type": "code",
   "execution_count": null,
   "metadata": {
    "id": "rgUdskZ7Fz4n"
   },
   "outputs": [],
   "source": [
    "#Confusion matrix\n"
   ]
  },
  {
   "cell_type": "code",
   "execution_count": null,
   "metadata": {
    "id": "qWMB7Sq1hHdy"
   },
   "outputs": [],
   "source": [
    "#Accuracy\n"
   ]
  },
  {
   "cell_type": "code",
   "execution_count": null,
   "metadata": {
    "id": "FyVOsMOJISLp"
   },
   "outputs": [],
   "source": [
    "#Precision, Recall and F1-score for each label\n"
   ]
  },
  {
   "cell_type": "code",
   "execution_count": null,
   "metadata": {
    "id": "GlmpoPbzE5k0"
   },
   "outputs": [],
   "source": [
    "#Comment results\n"
   ]
  },
  {
   "cell_type": "markdown",
   "metadata": {
    "id": "LY6fFoV955e3"
   },
   "source": [
    "## 3. Red neuronal artificial: Regresión (4.5 puntos)"
   ]
  },
  {
   "cell_type": "markdown",
   "metadata": {
    "id": "vMTilNAuwN4X"
   },
   "source": [
    "En este apartado resolveremos un problema de regresión intentando predecir el precio de re-venta según las características de los coches. Partiremos del conjunto de datos original."
   ]
  },
  {
   "cell_type": "markdown",
   "metadata": {
    "id": "tKTYsFI45_rW"
   },
   "source": [
    "### Pre-procesado\n",
    "\n",
    "\n"
   ]
  },
  {
   "cell_type": "markdown",
   "metadata": {
    "id": "eSp_nZX3wQDT"
   },
   "source": [
    "<div style=\"background-color: #EDF7FF; border-color: #7C9DBF; border-left: 5px solid #7C9DBF; padding: 0.5em;\">\n",
    "<strong>Ejercicio (0.5 puntos):</strong> Pre-procesa los datos: \n",
    "<ul>\n",
    "<li>   Crea los vectores de variables dependientes (<i>features</i>) y de la variable independiente (<i>target</i>)</li>\n",
    "<li>   Normaliza debidamente los datos</li>\n",
    "<li>   Divide el conjunto de datos en 70% para entrenamiento y 30% para test, usando la función <code>train_test_split</code></li>\n",
    "<li>   Muestra las dimensiones de los conjuntos de entrenamiento y test</li>\n",
    "</ul>\n",
    "</div>"
   ]
  },
  {
   "cell_type": "code",
   "execution_count": null,
   "metadata": {
    "id": "2ZFhPX92wqB7"
   },
   "outputs": [],
   "source": [
    "#Create features and target vectors\n",
    "features = None\n",
    "target = None"
   ]
  },
  {
   "cell_type": "code",
   "execution_count": null,
   "metadata": {
    "id": "hUi95MvbAa-u"
   },
   "outputs": [],
   "source": [
    "#Normalizing the data\n"
   ]
  },
  {
   "cell_type": "code",
   "execution_count": null,
   "metadata": {
    "id": "_vUVcRn_wdQx"
   },
   "outputs": [],
   "source": [
    "#Split train-test\n"
   ]
  },
  {
   "cell_type": "code",
   "execution_count": null,
   "metadata": {
    "id": "Ca_Zk7PfwkPE"
   },
   "outputs": [],
   "source": [
    "#Dimensions\n"
   ]
  },
  {
   "cell_type": "markdown",
   "metadata": {
    "id": "6Q7VJZn_6Eru"
   },
   "source": [
    "### Modelo base"
   ]
  },
  {
   "cell_type": "markdown",
   "metadata": {
    "id": "aI1qOtftx4J0"
   },
   "source": [
    "En primer lugar diseñaremos un modelo base con tres capas ocultas.\n",
    "\n",
    "Nota: Para el ajuste del modelo usaremos los datos de test como conjunto de validación."
   ]
  },
  {
   "cell_type": "markdown",
   "metadata": {
    "id": "0AhiMwVZw13D"
   },
   "source": [
    "<div style=\"background-color: #EDF7FF; border-color: #7C9DBF; border-left: 5px solid #7C9DBF; padding: 0.5em;\">\n",
    "<strong>Ejercicio (1 punto):</strong> Implementa el modelo de red neuronal artificial:\n",
    "<ul>\n",
    "<li>Diseña la arquitectura para el modelo de regresión con las siguientes características:</li>\n",
    "    <ul>\n",
    "   <li>1 primera capa oculta completamente conectada de 128 neuronas y activación ReLU</li>\n",
    "   <li>2 capas ocultas de 32 y 16 neuronas y activación tangencial</li>\n",
    "   <li>Todas las capas deben tener <code>kernel_initizalizer</code> en modo 'normal'</li>\n",
    "   </ul>\n",
    "<li>Compila el modelo con la función de pérdida más adecuada y el optimizador Adam</li>\n",
    "\n",
    "<li>Ajusta el modelo con 50 épocas y un tamaño del batch de 32</li>\n",
    "\n",
    "<li>Muestra la gráfica de pérdida. En la gráfica debe visualizarse la curva de entrenamiento y la de validación</li>\n",
    "</ul>\n",
    "</div>"
   ]
  },
  {
   "cell_type": "code",
   "execution_count": null,
   "metadata": {
    "id": "KJaRnNOcAyNi"
   },
   "outputs": [],
   "source": [
    "#Create ANN model\n"
   ]
  },
  {
   "cell_type": "code",
   "execution_count": null,
   "metadata": {
    "id": "nvu-prE3radd"
   },
   "outputs": [],
   "source": [
    "#Compiling the model\n"
   ]
  },
  {
   "cell_type": "code",
   "execution_count": null,
   "metadata": {
    "id": "W6zQWqGjrb54"
   },
   "outputs": [],
   "source": [
    "#Fit model\n"
   ]
  },
  {
   "cell_type": "code",
   "execution_count": null,
   "metadata": {
    "id": "uJdhQfZlDlXj"
   },
   "outputs": [],
   "source": [
    "#Plots\n"
   ]
  },
  {
   "cell_type": "markdown",
   "metadata": {
    "id": "3_rxKFH96Jeb"
   },
   "source": [
    "### Búsqueda hiperparámetros"
   ]
  },
  {
   "cell_type": "markdown",
   "metadata": {
    "id": "CqVgHOUoF3hN"
   },
   "source": [
    "Una vez tenemos el modelo base nos interesa buscar la configuración de hiperparámetros que nos proporcione una mejor predicción del precio de re-venta de los coches. En este apartado haremos una búsqueda de hiperparámetros, recorriendo varios valores de número de capas, número de neuronas, tamaño del batch y épocas."
   ]
  },
  {
   "cell_type": "markdown",
   "metadata": {
    "id": "DtiaTO_LyC6p"
   },
   "source": [
    "<div style=\"background-color: #EDF7FF; border-color: #7C9DBF; border-left: 5px solid #7C9DBF; padding: 0.5em;\">\n",
    "<strong>Ejercicio (1.75 puntos):</strong> Implementa una función que evalúe distintos modelos combinando las siguientes características:\n",
    "<ul>    \n",
    "   <li>Tres arquitecturas diferentes con las siguientes configuraciones de número de capas ocultas (completamente conectadas) y número de neuronas en cada capa:</li>\n",
    "        <ul>\n",
    "        <li>[128, 64, 16]</li>\n",
    "        <li>[16, 4]</li>\n",
    "        <li>[4, 4]</li>\n",
    "        </ul> \n",
    "   <li>Tamaño del batch de 16 y 32</li>\n",
    "   <li>Épocas de 20, 50 y 100</li>\n",
    "</ul>   \n",
    "    \n",
    "    \n",
    "Como en el ejercicio anterior, la primera capa oculta tendrá siempre activación ReLU y las demás activación tangencial. El inicializador de kernel estará en modo 'normal' y usaremos el optimizador Adam.\n",
    "\n",
    "    \n",
    "La función deberá proporcionar una tabla con los siguientes campos: arquitectura de la red seleccionada, épocas, tamaño del batch, tiempo de entrenamiento, y raíz del error cuadrático medio (RMSE) del modelo \n",
    "\n",
    "-----------------------------------------------------------------------------------------------------------\n",
    "<b>Importante</b>: para la entrega de la PEC, fijar el parámetro <code>verbose = 0</code> en el entrenamiento de los modelos. La solución únicamente debe mostrar la tabla resultante.\n",
    "</div>"
   ]
  },
  {
   "cell_type": "code",
   "execution_count": null,
   "metadata": {
    "id": "2KkKLxm6dyyE"
   },
   "outputs": [],
   "source": [
    "#Hiperparameter search function\n"
   ]
  },
  {
   "cell_type": "code",
   "execution_count": null,
   "metadata": {
    "id": "Mb0zgnA4eTr1"
   },
   "outputs": [],
   "source": [
    "#Compute search\n"
   ]
  },
  {
   "cell_type": "markdown",
   "metadata": {
    "id": "rqrm7yA24NnA"
   },
   "source": [
    "<div style=\"background-color: #EDF7FF; border-color: #7C9DBF; border-left: 5px solid #7C9DBF; padding: 0.5em;\">\n",
    "<strong>Ejercicio (0.25 puntos):</strong> Representa en un gráfico el RMSE vs la configuración de los modelos \n",
    "\n",
    "</div>"
   ]
  },
  {
   "cell_type": "code",
   "execution_count": null,
   "metadata": {
    "id": "o2P1ljcIzmEY"
   },
   "outputs": [],
   "source": [
    "#Plot\n"
   ]
  },
  {
   "cell_type": "markdown",
   "metadata": {
    "id": "t4N_tg0l6QKu"
   },
   "source": [
    "### Elección mejor modelo y predicción"
   ]
  },
  {
   "cell_type": "markdown",
   "metadata": {
    "id": "AEZsFSi34t-9"
   },
   "source": [
    "<div style=\"background-color: #EDF7FF; border-color: #7C9DBF; border-left: 5px solid #7C9DBF; padding: 0.5em;\">\n",
    "<strong>Ejercicio (1 punto):</strong> Identifica la configuración que proporciona mejores resultados:\n",
    "<ul> \n",
    "<li>Justifica la elección del modelo</li>\n",
    "<li>Compila y entrena el modelo elegido. Nota: para la entrega, presentar con verbose=0</li>\n",
    "<li>Muestra la correspondiente gráfica de pérdida de los conjuntos de entrenamiento y validación</li>\n",
    "<li>Calcula las predicciones del precio y muestra en una tabla el Precio original (<code>price</code>) y el Precio predicho (<code>predicted_price</code>) para las 10 primeras filas del conjunto de test</li>\n",
    "<li>Comenta los resultados obtenidos</li>\n",
    "</ul> \n",
    "</div>"
   ]
  },
  {
   "cell_type": "code",
   "execution_count": null,
   "metadata": {
    "id": "yTfD3bP25nlO"
   },
   "outputs": [],
   "source": [
    "#Best configuration justification\n"
   ]
  },
  {
   "cell_type": "code",
   "execution_count": null,
   "metadata": {
    "id": "HX-ArM1vFNhX"
   },
   "outputs": [],
   "source": [
    "#Create, compile and fit ANN best model\n"
   ]
  },
  {
   "cell_type": "code",
   "execution_count": null,
   "metadata": {
    "id": "NuBBa_vgk7Ci"
   },
   "outputs": [],
   "source": [
    "#Plot\n"
   ]
  },
  {
   "cell_type": "code",
   "execution_count": null,
   "metadata": {
    "id": "ID7eKLDdF0P4"
   },
   "outputs": [],
   "source": [
    "#Generate Predictions on testing data\n"
   ]
  },
  {
   "cell_type": "code",
   "execution_count": null,
   "metadata": {
    "id": "7gqSXyS8511-"
   },
   "outputs": [],
   "source": [
    "#Comment results\n"
   ]
  }
 ],
 "metadata": {
  "colab": {
   "collapsed_sections": [],
   "name": "20212_M2_875_PEC1_Enunciado.ipynb",
   "provenance": []
  },
  "kernelspec": {
   "display_name": "Python 3 (ipykernel)",
   "language": "python",
   "name": "python3"
  },
  "language_info": {
   "codemirror_mode": {
    "name": "ipython",
    "version": 3
   },
   "file_extension": ".py",
   "mimetype": "text/x-python",
   "name": "python",
   "nbconvert_exporter": "python",
   "pygments_lexer": "ipython3",
   "version": "3.9.1"
  }
 },
 "nbformat": 4,
 "nbformat_minor": 1
}
