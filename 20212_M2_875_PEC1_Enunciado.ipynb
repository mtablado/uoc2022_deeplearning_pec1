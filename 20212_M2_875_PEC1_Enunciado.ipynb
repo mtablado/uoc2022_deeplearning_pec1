{
  "cells": [
    {
      "cell_type": "markdown",
      "metadata": {
        "id": "YO1mZRrP4FT2"
      },
      "source": [
        "<div style=\"width: 100%; clear: both;\">\n",
        "<div style=\"float: left; width: 50%;\">\n",
        "<img src=\"http://www.uoc.edu/portal/_resources/common/imatges/marca_UOC/UOC_Masterbrand.jpg\", align=\"left\">\n",
        "</div>\n",
        "<div style=\"float: right; width: 50%;\">\n",
        "<p style=\"margin: 0; padding-top: 22px; text-align:right;\">M2.875 · Deep Learning · PEC1</p>\n",
        "<p style=\"margin: 0; text-align:right;\">2021-2 · Máster universitario en Ciencia de datos (Data science)</p>\n",
        "<p style=\"margin: 0; text-align:right; padding-button: 100px;\">Estudios de Informática, Multimedia y Telecomunicación</p>\n",
        "</div>\n",
        "</div>\n",
        "<div style=\"width:100%;\">&nbsp;</div>\n",
        "\n",
        "\n",
        "# PEC 1: Redes neuronales artificiales\n",
        "\n",
        "En esta práctica implementaremos redes neuronales artificiales para resolver problemas de:\n",
        "\n",
        "   - Clasificación\n",
        "   - Regresión   \n",
        "\n",
        "\n",
        "**Importante: La entrega debe hacerse en formato notebook y en formato html donde se vea el código y los resultados y comentarios de cada ejercicio. Para exportar el notebook a html puede hacerse desde el menú File $\\to$ Download as $\\to$ HTML.**"
      ]
    },
    {
      "cell_type": "markdown",
      "metadata": {
        "id": "M35X9fQv4dUv"
      },
      "source": [
        "## 0. Contexto y carga de librerías"
      ]
    },
    {
      "cell_type": "markdown",
      "metadata": {
        "id": "GtU00Tcg-KHd"
      },
      "source": [
        "El siguiente código carga los paquetes necesarios para la práctica y lee el fichero de datos que usaremos."
      ]
    },
    {
      "cell_type": "markdown",
      "metadata": {
        "id": "m9pjq3hFA5Yg"
      },
      "source": [
        "Los datos contienen información sobre coches de segunda mano, sus características y el precio de re-venta en euros. En un primer ejercicio diseñaremos un modelo que nos permita clasificar los coches en tres grupos según su gama de precio. En el segundo ejercicio diseñaremos un modelo de regresión para predecir el precio de re-venta."
      ]
    },
    {
      "cell_type": "code",
      "execution_count": 1,
      "metadata": {
        "id": "19ixS6Vp-KHd"
      },
      "outputs": [],
      "source": [
        "import pandas as pd\n",
        "import numpy as np\n",
        "\n",
        "import matplotlib.pyplot as plt\n",
        "import seaborn as sns\n",
        "import timeit\n",
        "\n",
        "import keras\n",
        "from keras.models import Sequential, Model\n",
        "from keras.layers import Dense\n",
        "from tensorflow.keras.optimizers import Adam, SGD, Adadelta, Adagrad\n",
        "\n",
        "from sklearn.model_selection import train_test_split\n",
        "from sklearn.metrics import confusion_matrix, mean_squared_error, classification_report, ConfusionMatrixDisplay\n",
        "from sklearn.preprocessing import OneHotEncoder, StandardScaler"
      ]
    },
    {
      "cell_type": "code",
      "source": [
        "import random\n",
        "import os\n",
        "import tensorflow as tf\n",
        "\n",
        "def seed_everything(seed_value):\n",
        "  os.environ['PYTHONHASHSEED']=str(seed_value)\n",
        "  random.seed(seed_value)\n",
        "  np.random.seed(seed_value)\n",
        "  tf.random.set_seed(seed_value)\n",
        "\n",
        "THE_SEED = 48\n",
        "seed_everything(THE_SEED)"
      ],
      "metadata": {
        "id": "3DWvCq0JUZao"
      },
      "execution_count": 2,
      "outputs": []
    },
    {
      "cell_type": "code",
      "execution_count": 3,
      "metadata": {
        "id": "vmCg_5zXItWM",
        "colab": {
          "base_uri": "https://localhost:8080/"
        },
        "outputId": "a3e5074b-1827-41f5-b6da-a9f7986b1b56"
      },
      "outputs": [
        {
          "output_type": "stream",
          "name": "stdout",
          "text": [
            "Drive already mounted at /content/drive; to attempt to forcibly remount, call drive.mount(\"/content/drive\", force_remount=True).\n"
          ]
        }
      ],
      "source": [
        "##To read directly from Drive in Google Colab use:\n",
        "from google.colab import drive\n",
        "drive.mount('/content/drive')\n",
        "#input path: \"./drive/MyDrive/CarPricesData.pkl\"\n",
        "\n",
        "##To read in Kaggle, upload file in Kaggle \n",
        "##input path: \"/kaggle/input/botnetdl/botnet_dataset_DL.csv\""
      ]
    },
    {
      "cell_type": "code",
      "execution_count": 4,
      "metadata": {
        "id": "oAEbN2Xc-KHe"
      },
      "outputs": [],
      "source": [
        "df = pd.read_csv(\"/content/drive/My Drive/dataset.csv\") #change path if needed"
      ]
    },
    {
      "cell_type": "code",
      "execution_count": 5,
      "metadata": {
        "id": "g8gJfmpY-r2p",
        "colab": {
          "base_uri": "https://localhost:8080/",
          "height": 206
        },
        "outputId": "49050293-5f58-4e14-ad11-f5fd2d1551f0"
      },
      "outputs": [
        {
          "output_type": "execute_result",
          "data": {
            "text/plain": [
              "   months_old      km fuel_type  horsepower  metcolor  automatic  size_engine  \\\n",
              "0          73   97494    Petrol         110         1          0         1600   \n",
              "1          48   89049    Petrol          97         1          0         1400   \n",
              "2          40  161000    Diesel          69         1          0         1900   \n",
              "3          37   38812    Petrol          97         0          0         1400   \n",
              "4          55   33230    Petrol         110         0          0         1600   \n",
              "\n",
              "   doors_num  weight  price  \n",
              "0          5    1085  10950  \n",
              "1          5    1060  13500  \n",
              "2          3    1105  13950  \n",
              "3          3    1025  13450  \n",
              "4          3    1050  13500  "
            ],
            "text/html": [
              "\n",
              "  <div id=\"df-86ead805-5a28-4556-8d8e-46bea52c507a\">\n",
              "    <div class=\"colab-df-container\">\n",
              "      <div>\n",
              "<style scoped>\n",
              "    .dataframe tbody tr th:only-of-type {\n",
              "        vertical-align: middle;\n",
              "    }\n",
              "\n",
              "    .dataframe tbody tr th {\n",
              "        vertical-align: top;\n",
              "    }\n",
              "\n",
              "    .dataframe thead th {\n",
              "        text-align: right;\n",
              "    }\n",
              "</style>\n",
              "<table border=\"1\" class=\"dataframe\">\n",
              "  <thead>\n",
              "    <tr style=\"text-align: right;\">\n",
              "      <th></th>\n",
              "      <th>months_old</th>\n",
              "      <th>km</th>\n",
              "      <th>fuel_type</th>\n",
              "      <th>horsepower</th>\n",
              "      <th>metcolor</th>\n",
              "      <th>automatic</th>\n",
              "      <th>size_engine</th>\n",
              "      <th>doors_num</th>\n",
              "      <th>weight</th>\n",
              "      <th>price</th>\n",
              "    </tr>\n",
              "  </thead>\n",
              "  <tbody>\n",
              "    <tr>\n",
              "      <th>0</th>\n",
              "      <td>73</td>\n",
              "      <td>97494</td>\n",
              "      <td>Petrol</td>\n",
              "      <td>110</td>\n",
              "      <td>1</td>\n",
              "      <td>0</td>\n",
              "      <td>1600</td>\n",
              "      <td>5</td>\n",
              "      <td>1085</td>\n",
              "      <td>10950</td>\n",
              "    </tr>\n",
              "    <tr>\n",
              "      <th>1</th>\n",
              "      <td>48</td>\n",
              "      <td>89049</td>\n",
              "      <td>Petrol</td>\n",
              "      <td>97</td>\n",
              "      <td>1</td>\n",
              "      <td>0</td>\n",
              "      <td>1400</td>\n",
              "      <td>5</td>\n",
              "      <td>1060</td>\n",
              "      <td>13500</td>\n",
              "    </tr>\n",
              "    <tr>\n",
              "      <th>2</th>\n",
              "      <td>40</td>\n",
              "      <td>161000</td>\n",
              "      <td>Diesel</td>\n",
              "      <td>69</td>\n",
              "      <td>1</td>\n",
              "      <td>0</td>\n",
              "      <td>1900</td>\n",
              "      <td>3</td>\n",
              "      <td>1105</td>\n",
              "      <td>13950</td>\n",
              "    </tr>\n",
              "    <tr>\n",
              "      <th>3</th>\n",
              "      <td>37</td>\n",
              "      <td>38812</td>\n",
              "      <td>Petrol</td>\n",
              "      <td>97</td>\n",
              "      <td>0</td>\n",
              "      <td>0</td>\n",
              "      <td>1400</td>\n",
              "      <td>3</td>\n",
              "      <td>1025</td>\n",
              "      <td>13450</td>\n",
              "    </tr>\n",
              "    <tr>\n",
              "      <th>4</th>\n",
              "      <td>55</td>\n",
              "      <td>33230</td>\n",
              "      <td>Petrol</td>\n",
              "      <td>110</td>\n",
              "      <td>0</td>\n",
              "      <td>0</td>\n",
              "      <td>1600</td>\n",
              "      <td>3</td>\n",
              "      <td>1050</td>\n",
              "      <td>13500</td>\n",
              "    </tr>\n",
              "  </tbody>\n",
              "</table>\n",
              "</div>\n",
              "      <button class=\"colab-df-convert\" onclick=\"convertToInteractive('df-86ead805-5a28-4556-8d8e-46bea52c507a')\"\n",
              "              title=\"Convert this dataframe to an interactive table.\"\n",
              "              style=\"display:none;\">\n",
              "        \n",
              "  <svg xmlns=\"http://www.w3.org/2000/svg\" height=\"24px\"viewBox=\"0 0 24 24\"\n",
              "       width=\"24px\">\n",
              "    <path d=\"M0 0h24v24H0V0z\" fill=\"none\"/>\n",
              "    <path d=\"M18.56 5.44l.94 2.06.94-2.06 2.06-.94-2.06-.94-.94-2.06-.94 2.06-2.06.94zm-11 1L8.5 8.5l.94-2.06 2.06-.94-2.06-.94L8.5 2.5l-.94 2.06-2.06.94zm10 10l.94 2.06.94-2.06 2.06-.94-2.06-.94-.94-2.06-.94 2.06-2.06.94z\"/><path d=\"M17.41 7.96l-1.37-1.37c-.4-.4-.92-.59-1.43-.59-.52 0-1.04.2-1.43.59L10.3 9.45l-7.72 7.72c-.78.78-.78 2.05 0 2.83L4 21.41c.39.39.9.59 1.41.59.51 0 1.02-.2 1.41-.59l7.78-7.78 2.81-2.81c.8-.78.8-2.07 0-2.86zM5.41 20L4 18.59l7.72-7.72 1.47 1.35L5.41 20z\"/>\n",
              "  </svg>\n",
              "      </button>\n",
              "      \n",
              "  <style>\n",
              "    .colab-df-container {\n",
              "      display:flex;\n",
              "      flex-wrap:wrap;\n",
              "      gap: 12px;\n",
              "    }\n",
              "\n",
              "    .colab-df-convert {\n",
              "      background-color: #E8F0FE;\n",
              "      border: none;\n",
              "      border-radius: 50%;\n",
              "      cursor: pointer;\n",
              "      display: none;\n",
              "      fill: #1967D2;\n",
              "      height: 32px;\n",
              "      padding: 0 0 0 0;\n",
              "      width: 32px;\n",
              "    }\n",
              "\n",
              "    .colab-df-convert:hover {\n",
              "      background-color: #E2EBFA;\n",
              "      box-shadow: 0px 1px 2px rgba(60, 64, 67, 0.3), 0px 1px 3px 1px rgba(60, 64, 67, 0.15);\n",
              "      fill: #174EA6;\n",
              "    }\n",
              "\n",
              "    [theme=dark] .colab-df-convert {\n",
              "      background-color: #3B4455;\n",
              "      fill: #D2E3FC;\n",
              "    }\n",
              "\n",
              "    [theme=dark] .colab-df-convert:hover {\n",
              "      background-color: #434B5C;\n",
              "      box-shadow: 0px 1px 3px 1px rgba(0, 0, 0, 0.15);\n",
              "      filter: drop-shadow(0px 1px 2px rgba(0, 0, 0, 0.3));\n",
              "      fill: #FFFFFF;\n",
              "    }\n",
              "  </style>\n",
              "\n",
              "      <script>\n",
              "        const buttonEl =\n",
              "          document.querySelector('#df-86ead805-5a28-4556-8d8e-46bea52c507a button.colab-df-convert');\n",
              "        buttonEl.style.display =\n",
              "          google.colab.kernel.accessAllowed ? 'block' : 'none';\n",
              "\n",
              "        async function convertToInteractive(key) {\n",
              "          const element = document.querySelector('#df-86ead805-5a28-4556-8d8e-46bea52c507a');\n",
              "          const dataTable =\n",
              "            await google.colab.kernel.invokeFunction('convertToInteractive',\n",
              "                                                     [key], {});\n",
              "          if (!dataTable) return;\n",
              "\n",
              "          const docLinkHtml = 'Like what you see? Visit the ' +\n",
              "            '<a target=\"_blank\" href=https://colab.research.google.com/notebooks/data_table.ipynb>data table notebook</a>'\n",
              "            + ' to learn more about interactive tables.';\n",
              "          element.innerHTML = '';\n",
              "          dataTable['output_type'] = 'display_data';\n",
              "          await google.colab.output.renderOutput(dataTable, element);\n",
              "          const docLink = document.createElement('div');\n",
              "          docLink.innerHTML = docLinkHtml;\n",
              "          element.appendChild(docLink);\n",
              "        }\n",
              "      </script>\n",
              "    </div>\n",
              "  </div>\n",
              "  "
            ]
          },
          "metadata": {},
          "execution_count": 5
        }
      ],
      "source": [
        "df.head(5)"
      ]
    },
    {
      "cell_type": "markdown",
      "metadata": {
        "id": "v4uy3S_l4uMK"
      },
      "source": [
        "## 1. Exploración (1 punto)\n",
        "\n"
      ]
    },
    {
      "cell_type": "markdown",
      "metadata": {
        "id": "-OTrT_SvJoYF"
      },
      "source": [
        "En primer lugar exploraremos el conjunto de datos. "
      ]
    },
    {
      "cell_type": "markdown",
      "metadata": {
        "id": "WArt2HG7n1qY"
      },
      "source": [
        "<div style=\"background-color: #EDF7FF; border-color: #7C9DBF; border-left: 5px solid #7C9DBF; padding: 0.5em;\">\n",
        "<strong>Ejercicio (1 punto):</strong> Explora los datos: \n",
        "\n",
        "<ul>\n",
        "        \n",
        "<li> Indica el tamaño del dataset y el número de variables categóricas y continuas del conjunto de datos</li> \n",
        "<li>   Grafica las distribuciones de las variables categóricas y de las continuas</li>\n",
        "<li>    Genera una tabla de correlaciones de todas las variables usando la librería <code>seaborn</code>, mostrando en cada casilla el valor de la correlación</li>\n",
        "<li>    Genera una tabla (usando la librería <code>seaborn</code>) que muestre únicamente las correlaciones entre el precio y el resto de variables, ordenada de mayor a menor según los valores de correlación</li>\n",
        "<li>  Comenta los resultados de la exploración de datos</li>\n",
        "</ul>\n",
        "\n",
        "</div>"
      ]
    },
    {
      "cell_type": "markdown",
      "metadata": {
        "id": "V10fH2QxP_vg"
      },
      "source": [
        "\n",
        "\n",
        "*   **Variables**\n",
        "\n"
      ]
    },
    {
      "cell_type": "code",
      "execution_count": 6,
      "metadata": {
        "id": "N3TOQ_ko_COF",
        "colab": {
          "base_uri": "https://localhost:8080/"
        },
        "outputId": "0c4eddbd-3e7f-4254-ab74-25921a67b8a2"
      },
      "outputs": [
        {
          "output_type": "execute_result",
          "data": {
            "text/plain": [
              "<bound method NDFrame.describe of       months_old      km fuel_type  horsepower  metcolor  automatic  \\\n",
              "0             73   97494    Petrol         110         1          0   \n",
              "1             48   89049    Petrol          97         1          0   \n",
              "2             40  161000    Diesel          69         1          0   \n",
              "3             37   38812    Petrol          97         0          0   \n",
              "4             55   33230    Petrol         110         0          0   \n",
              "...          ...     ...       ...         ...       ...        ...   \n",
              "1431          48   78600    Petrol         110         1          0   \n",
              "1432          80   86109    Petrol         110         1          0   \n",
              "1433          77   82103    Petrol          86         1          0   \n",
              "1434          40   38653    Petrol         110         1          0   \n",
              "1435          59   43818    Petrol         110         0          0   \n",
              "\n",
              "      size_engine  doors_num  weight  price  \n",
              "0            1600          5    1085  10950  \n",
              "1            1400          5    1060  13500  \n",
              "2            1900          3    1105  13950  \n",
              "3            1400          3    1025  13450  \n",
              "4            1600          3    1050  13500  \n",
              "...           ...        ...     ...    ...  \n",
              "1431         1600          5    1075  11750  \n",
              "1432         1600          3    1055   8750  \n",
              "1433         1300          3    1015   8950  \n",
              "1434         1600          5    1080  14950  \n",
              "1435         1600          5    1070  11950  \n",
              "\n",
              "[1436 rows x 10 columns]>"
            ]
          },
          "metadata": {},
          "execution_count": 6
        }
      ],
      "source": [
        "#Dataset size\n",
        "df.describe"
      ]
    },
    {
      "cell_type": "code",
      "execution_count": 7,
      "metadata": {
        "id": "i8-SrElyJFy3"
      },
      "outputs": [],
      "source": [
        "#Number of categorical and continuous variables\n",
        "num_categorical_variables = 4\n",
        "num_continuous_variables = 6"
      ]
    },
    {
      "cell_type": "markdown",
      "metadata": {
        "id": "bJvw7JwmQFss"
      },
      "source": [
        "*   **Distribuciones**\n",
        "\n",
        "\n",
        "\n"
      ]
    },
    {
      "cell_type": "code",
      "execution_count": 8,
      "metadata": {
        "id": "Oks_R5EhN5om",
        "colab": {
          "base_uri": "https://localhost:8080/",
          "height": 312
        },
        "outputId": "072ba0ee-8d31-4033-b355-fef130256e4f"
      },
      "outputs": [
        {
          "output_type": "display_data",
          "data": {
            "text/plain": [
              "<Figure size 1800x288 with 4 Axes>"
            ],
            "image/png": "[encoded data removed]"
          },
          "metadata": {
            "needs_background": "light"
          }
        }
      ],
      "source": [
        "#Distributions of categorical variables\n",
        "fig, ax = plt.subplots(nrows=1, ncols=num_categorical_variables, figsize=(25,4))\n",
        "\n",
        "feats_to_explore = ['fuel_type', 'metcolor', 'automatic', 'doors_num']\n",
        "for i in range(len(feats_to_explore)):\n",
        "    df[feats_to_explore[i]].value_counts().plot.bar(ax=ax[i])\n",
        "    ax[i].set_title(feats_to_explore[i])\n",
        "    \n",
        "plt.suptitle('Distributions of categorical variables', weight='bold', size=16)\n",
        "fig.subplots_adjust(top=0.8)\n",
        "plt.show()\n"
      ]
    },
    {
      "cell_type": "code",
      "execution_count": 9,
      "metadata": {
        "id": "tv7CULUcPiTc",
        "colab": {
          "base_uri": "https://localhost:8080/",
          "height": 292
        },
        "outputId": "eb3c64dd-542e-4919-980e-a38548e5b241"
      },
      "outputs": [
        {
          "output_type": "display_data",
          "data": {
            "text/plain": [
              "<Figure size 1800x288 with 6 Axes>"
            ],
            "image/png": "[encoded data removed]"
          },
          "metadata": {
            "needs_background": "light"
          }
        }
      ],
      "source": [
        "#Distributions continuous variables\n",
        "fig, ax = plt.subplots(nrows=1, ncols=num_continuous_variables, figsize=(25,4))\n",
        "\n",
        "feats_to_explore = ['months_old', 'km', 'horsepower', 'size_engine', 'weight', 'price']\n",
        "for i in range(len(feats_to_explore)):\n",
        "    df.hist(alpha=0.5, column=feats_to_explore[i], ax=ax[i])\n",
        "    \n",
        "plt.suptitle('Coninuous Variables Distributions', weight='bold', size=16)\n",
        "fig.subplots_adjust(top=0.8)\n",
        "plt.show()"
      ]
    },
    {
      "cell_type": "markdown",
      "metadata": {
        "id": "YPbtmbqRASsM"
      },
      "source": [
        "*   **Correlaciones**\n",
        "\n",
        "\n"
      ]
    },
    {
      "cell_type": "code",
      "execution_count": 10,
      "metadata": {
        "id": "LvO4C7ymANXf",
        "colab": {
          "base_uri": "https://localhost:8080/",
          "height": 318
        },
        "outputId": "81b35bd2-56f4-48a3-bf81-eb6d8df4d260"
      },
      "outputs": [
        {
          "output_type": "display_data",
          "data": {
            "text/plain": [
              "<Figure size 432x288 with 2 Axes>"
            ],
            "image/png": "[encoded data removed]"
          },
          "metadata": {
            "needs_background": "light"
          }
        }
      ],
      "source": [
        "#All variables correlations\n",
        "corr = df.corr()\n",
        "ax = sns.heatmap(corr, cmap=\"Blues\", annot=True, linewidths=.5)"
      ]
    },
    {
      "cell_type": "code",
      "execution_count": 11,
      "metadata": {
        "id": "RSJWiWThAQj5",
        "colab": {
          "base_uri": "https://localhost:8080/",
          "height": 269
        },
        "outputId": "fd29d07b-94cc-493d-e83c-19f5fd7c6463"
      },
      "outputs": [
        {
          "output_type": "display_data",
          "data": {
            "text/plain": [
              "<Figure size 432x288 with 2 Axes>"
            ],
            "image/png": "[encoded data removed]"
          },
          "metadata": {
            "needs_background": "light"
          }
        }
      ],
      "source": [
        "#Features correlating with Price\n",
        "corr = df.corr()['price'][:]\n",
        "corr = corr.sort_values(ascending=False)\n",
        "corr = corr.to_numpy()\n",
        "ax = sns.heatmap(corr[:, np.newaxis], cmap=\"Blues\", annot=True, linewidths=.5)"
      ]
    },
    {
      "cell_type": "markdown",
      "metadata": {
        "id": "n1GaD4JqQhsJ"
      },
      "source": [
        "\n",
        "\n",
        "*   **Comentarios resultado exploración**\n",
        "\n"
      ]
    },
    {
      "cell_type": "markdown",
      "source": [
        "El conjunto de datos es de buena calidad, dispone de una cantidad suficiente de datos y, a primera vista con los gráficos creados, no se ven datos incompletos.\n",
        "Nos encontramos ante un conjunto de datos un tanto engañoso en cuanto al tipo de variables, pues, aunque hay cuatro categóricas, solamente una de ellas está en modo texto, mientras que las otras tres son categorías numéricas, indicando valores dicotómicos o, en el caso del números de puertas, categorias de 2 a 5 (ordinales).\n",
        "\n"
      ],
      "metadata": {
        "id": "21XPjA4ITh2I"
      }
    },
    {
      "cell_type": "markdown",
      "metadata": {
        "id": "kdn0ZNWI5HFE"
      },
      "source": [
        "## 2. Red neuronal artificial: Clasificación (4.5 puntos)\n"
      ]
    },
    {
      "cell_type": "markdown",
      "metadata": {
        "id": "3Li5TkOu7tGR"
      },
      "source": [
        "En este apartado entrenaremos un modelo que intente clasificar los coches según su gama de precio. Para ello crearemos una nueva variable como indicador de calidad del coche (gama baja, media o alta), siguiendo las siguientes condiciones:\n",
        "\n",
        "\n",
        "\n",
        "*   _low-end_: precio menor que 11000 euros\n",
        "*   _medium-end_: precio mayor o igual que 11000 euros y menor que 13000\n",
        "*   _high-end_: precio mayor o igual que 13000\n",
        "\n"
      ]
    },
    {
      "cell_type": "markdown",
      "metadata": {
        "id": "zkZrkOkb5QWL"
      },
      "source": [
        "### Pre-procesado\n"
      ]
    },
    {
      "cell_type": "markdown",
      "metadata": {
        "id": "v0z5hx64pNhv"
      },
      "source": [
        "<div style=\"background-color: #EDF7FF; border-color: #7C9DBF; border-left: 5px solid #7C9DBF; padding: 0.5em;\">\n",
        "<strong>Ejercicio (0.75 puntos):</strong> Pre-procesa los datos: \n",
        "\n",
        "<ul>\n",
        "        \n",
        "<li>   Crea una nueva variable <code>quality</code> que incluya la gama del coche, con las condiciones indicadas</li>\n",
        "<li>   Muestra el histograma de la nueva variable <code>quality</code></li>\n",
        "<li>   Crea los vectores de variables dependientes (<i>features</i>) y de la variable independiente (<i>labels</i>)</li>\n",
        "<li>   Normaliza debidamente los datos y binariza el vector de etiquetas (<i>labels</i>) </li>\n",
        "<li>   Divide el conjunto de datos en 80% para entrenamiento y 20% para test, usando la función <code>train_test_split</code></li>\n",
        "<li>   Muestra las dimensiones de los conjuntos de entrenamiento y test</li>\n",
        "</ul>\n",
        "</div>"
      ]
    },
    {
      "cell_type": "code",
      "execution_count": 13,
      "metadata": {
        "id": "GfltZ361AC89",
        "colab": {
          "base_uri": "https://localhost:8080/"
        },
        "outputId": "12987860-7e97-410d-fb95-b60e17c38112"
      },
      "outputs": [
        {
          "output_type": "execute_result",
          "data": {
            "text/plain": [
              "0          low-end\n",
              "1         high-end\n",
              "2         high-end\n",
              "3         high-end\n",
              "4         high-end\n",
              "           ...    \n",
              "1431    medium-end\n",
              "1432       low-end\n",
              "1433       low-end\n",
              "1434      high-end\n",
              "1435    medium-end\n",
              "Name: quality, Length: 1436, dtype: category\n",
              "Categories (3, object): ['low-end' < 'medium-end' < 'high-end']"
            ]
          },
          "metadata": {},
          "execution_count": 13
        }
      ],
      "source": [
        "#Create new variable: quality\n",
        "df['quality'] = pd.cut(df['price'], bins=[0, 11001, 13001, float('Inf')], labels=['low-end', 'medium-end', 'high-end'])\n",
        "df['quality']"
      ]
    },
    {
      "cell_type": "code",
      "execution_count": 14,
      "metadata": {
        "id": "LLcPtn18BlQs",
        "colab": {
          "base_uri": "https://localhost:8080/",
          "height": 352
        },
        "outputId": "266f1264-4baa-435d-a892-bd2d68def381"
      },
      "outputs": [
        {
          "output_type": "execute_result",
          "data": {
            "text/plain": [
              "Text(0.5, 1.0, 'quality')"
            ]
          },
          "metadata": {},
          "execution_count": 14
        },
        {
          "output_type": "display_data",
          "data": {
            "text/plain": [
              "<Figure size 432x288 with 1 Axes>"
            ],
            "image/png": "[encoded data removed]"
          },
          "metadata": {
            "needs_background": "light"
          }
        }
      ],
      "source": [
        "#Histogram car quality\n",
        "ax = df['quality'].value_counts().plot.bar()\n",
        "ax.set_title('quality')"
      ]
    },
    {
      "cell_type": "code",
      "execution_count": 15,
      "metadata": {
        "colab": {
          "base_uri": "https://localhost:8080/"
        },
        "id": "sRH6ZfT-ICPi",
        "outputId": "584a5985-6d8c-4c5e-ee69-b0897d040557"
      },
      "outputs": [
        {
          "output_type": "execute_result",
          "data": {
            "text/plain": [
              "<bound method NDFrame.describe of       months_old      km fuel_type  horsepower  metcolor  automatic  \\\n",
              "0             73   97494    Petrol         110         1          0   \n",
              "1             48   89049    Petrol          97         1          0   \n",
              "2             40  161000    Diesel          69         1          0   \n",
              "3             37   38812    Petrol          97         0          0   \n",
              "4             55   33230    Petrol         110         0          0   \n",
              "...          ...     ...       ...         ...       ...        ...   \n",
              "1431          48   78600    Petrol         110         1          0   \n",
              "1432          80   86109    Petrol         110         1          0   \n",
              "1433          77   82103    Petrol          86         1          0   \n",
              "1434          40   38653    Petrol         110         1          0   \n",
              "1435          59   43818    Petrol         110         0          0   \n",
              "\n",
              "      size_engine  doors_num  weight  price     quality  \n",
              "0            1600          5    1085  10950     low-end  \n",
              "1            1400          5    1060  13500    high-end  \n",
              "2            1900          3    1105  13950    high-end  \n",
              "3            1400          3    1025  13450    high-end  \n",
              "4            1600          3    1050  13500    high-end  \n",
              "...           ...        ...     ...    ...         ...  \n",
              "1431         1600          5    1075  11750  medium-end  \n",
              "1432         1600          3    1055   8750     low-end  \n",
              "1433         1300          3    1015   8950     low-end  \n",
              "1434         1600          5    1080  14950    high-end  \n",
              "1435         1600          5    1070  11950  medium-end  \n",
              "\n",
              "[1436 rows x 11 columns]>"
            ]
          },
          "metadata": {},
          "execution_count": 15
        }
      ],
      "source": [
        "df.describe"
      ]
    },
    {
      "cell_type": "code",
      "execution_count": 16,
      "metadata": {
        "id": "whqYSqQEBqjM"
      },
      "outputs": [],
      "source": [
        "#Create features and labels vectors\n",
        "features = df.drop(columns = ['quality', 'price'])\n",
        "labels = df['quality']"
      ]
    },
    {
      "cell_type": "code",
      "source": [
        "features['fuel_type'] = features['fuel_type'].astype('category').cat.codes\n",
        "features['fuel_type']\n",
        "scaler = StandardScaler()\n",
        "scaled_features = scaler.fit_transform(features)"
      ],
      "metadata": {
        "id": "KApEp7pQ7Gt-"
      },
      "execution_count": 17,
      "outputs": []
    },
    {
      "cell_type": "code",
      "execution_count": 18,
      "metadata": {
        "colab": {
          "base_uri": "https://localhost:8080/",
          "height": 319
        },
        "id": "ItVvu7JjICPk",
        "outputId": "92010f1e-c6b8-4499-a937-ed0c2e0b3cdb"
      },
      "outputs": [
        {
          "output_type": "display_data",
          "data": {
            "text/plain": [
              "<Figure size 432x288 with 1 Axes>"
            ],
            "image/png": "[encoded data removed]"
          },
          "metadata": {
            "needs_background": "light"
          }
        }
      ],
      "source": [
        "# Check labels distribution\n",
        "ax = labels.value_counts().plot.bar()"
      ]
    },
    {
      "cell_type": "code",
      "execution_count": 19,
      "metadata": {
        "id": "OkVVv7yrBxhc",
        "scrolled": true,
        "colab": {
          "base_uri": "https://localhost:8080/",
          "height": 308
        },
        "outputId": "e0233fc7-37c2-4dc8-a12d-cb75712281f2"
      },
      "outputs": [
        {
          "output_type": "display_data",
          "data": {
            "text/plain": [
              "<Figure size 432x288 with 1 Axes>"
            ],
            "image/png": "[encoded data removed]"
          },
          "metadata": {
            "needs_background": "light"
          }
        }
      ],
      "source": [
        "#Binarize the labels\n",
        "binary_labels = pd.get_dummies(labels)\n",
        "# Check labels distribution\n",
        "ax = binary_labels.value_counts().plot.bar()"
      ]
    },
    {
      "cell_type": "code",
      "execution_count": 20,
      "metadata": {
        "id": "JqDRRy2mAgUV"
      },
      "outputs": [],
      "source": [
        "#Train-test split\n",
        "X_train, X_test, y_train, y_test = train_test_split(\n",
        "    scaled_features, binary_labels, test_size=0.2, random_state=THE_SEED)"
      ]
    },
    {
      "cell_type": "code",
      "execution_count": 21,
      "metadata": {
        "id": "j7FJc1POAii4",
        "colab": {
          "base_uri": "https://localhost:8080/"
        },
        "outputId": "0bc67131-16bd-49dd-a1b3-996c1000404e"
      },
      "outputs": [
        {
          "output_type": "execute_result",
          "data": {
            "text/plain": [
              "((1148, 9), (288, 9), (1148, 3), (288, 3))"
            ]
          },
          "metadata": {},
          "execution_count": 21
        }
      ],
      "source": [
        "#Shapes\n",
        "X_train.shape, X_test.shape, y_train.shape, y_test.shape "
      ]
    },
    {
      "cell_type": "markdown",
      "metadata": {
        "id": "y6YSHMONICPm"
      },
      "source": [
        "|        | X_train   | X_test    | y_train  | y_test   |\n",
        "|--------|-----------|-----------|----------|----------|\n",
        "| Shapes | (1148, 9) | (288, 9)  | (1148, 3)| (288, 3) |"
      ]
    },
    {
      "cell_type": "markdown",
      "metadata": {
        "id": "Z60Pf12T5bjF"
      },
      "source": [
        "### Modelo base\n"
      ]
    },
    {
      "cell_type": "markdown",
      "metadata": {
        "id": "w9Dm_WN5rzGt"
      },
      "source": [
        "Empezaremos diseñando un modelo base con 4 capas ocultas.\n",
        " \n",
        "Nota: Para el ajuste del modelo usaremos los datos de test como conjunto de validación."
      ]
    },
    {
      "cell_type": "markdown",
      "metadata": {
        "id": "X-9gUgcQrGk1"
      },
      "source": [
        "<div style=\"background-color: #EDF7FF; border-color: #7C9DBF; border-left: 5px solid #7C9DBF; padding: 0.5em;\">\n",
        "<strong>Ejercicio (1.25 puntos):</strong> Implementa el modelo de red neuronal artificial:\n",
        "<ul>\n",
        "<li>   Diseña la arquitectura para el modelo de clasificación con la función de activación adecuada para la capa de salida y con las siguientes características:</li>\n",
        "   <ul>\n",
        "   <li> 4 capas ocultas con 64, 32, 10, 8 neuronas sucesivamente</li>\n",
        "   <li> Función de activación de las capas intermedias: ReLU</li>\n",
        "   </ul>\n",
        "\n",
        "<li>   Compila el modelo con la función de pérdida más adecuada, el optimizador Adam, una velocidad de aprendizaje de 0.1, y la métrica Accuracy.</li>\n",
        "\n",
        "<li>   Ajusta el modelo con 20 épocas y un tamaño del batch de 64</li>\n",
        "\n",
        "<li>   Muestra las gráficas de accuracy y loss. En cada gráfica debe visualizarse la curva de entrenamiento y la de validación</li>\n",
        "</ul>\n",
        "</div>"
      ]
    },
    {
      "cell_type": "code",
      "execution_count": 22,
      "metadata": {
        "id": "55FNYaQnB8iS"
      },
      "outputs": [],
      "source": [
        "#Create ANN model\n",
        "model = Sequential()\n",
        "\n",
        "# Input layer\n",
        "model.add(keras.Input(shape=(9,)))\n",
        "\n",
        "# Hidden layers\n",
        "model.add(Dense(64, activation=\"relu\"))\n",
        "model.add(Dense(32, activation=\"relu\"))\n",
        "model.add(Dense(10, activation=\"relu\"))\n",
        "model.add(Dense(8, activation=\"relu\"))\n",
        "\n",
        "# Output layer\n",
        "model.add(Dense(3, activation=\"softmax\"))\n",
        "\n",
        "model.build()"
      ]
    },
    {
      "cell_type": "code",
      "execution_count": 23,
      "metadata": {
        "colab": {
          "base_uri": "https://localhost:8080/"
        },
        "id": "eQkxQqCdICPp",
        "outputId": "f50be953-5db8-40cf-fc63-bf2127e116d5"
      },
      "outputs": [
        {
          "output_type": "stream",
          "name": "stdout",
          "text": [
            "Model: \"sequential\"\n",
            "_________________________________________________________________\n",
            " Layer (type)                Output Shape              Param #   \n",
            "=================================================================\n",
            " dense (Dense)               (None, 64)                640       \n",
            "                                                                 \n",
            " dense_1 (Dense)             (None, 32)                2080      \n",
            "                                                                 \n",
            " dense_2 (Dense)             (None, 10)                330       \n",
            "                                                                 \n",
            " dense_3 (Dense)             (None, 8)                 88        \n",
            "                                                                 \n",
            " dense_4 (Dense)             (None, 3)                 27        \n",
            "                                                                 \n",
            "=================================================================\n",
            "Total params: 3,165\n",
            "Trainable params: 3,165\n",
            "Non-trainable params: 0\n",
            "_________________________________________________________________\n"
          ]
        }
      ],
      "source": [
        "model.summary()"
      ]
    },
    {
      "cell_type": "code",
      "execution_count": 24,
      "metadata": {
        "id": "4uZBJAsGqJau"
      },
      "outputs": [],
      "source": [
        "#Compile\n",
        "model.compile(Adam(learning_rate=0.1), \"categorical_crossentropy\", metrics=[\"accuracy\"])"
      ]
    },
    {
      "cell_type": "code",
      "execution_count": 25,
      "metadata": {
        "id": "H-k_iYxBqLQK",
        "colab": {
          "base_uri": "https://localhost:8080/"
        },
        "outputId": "baa5294a-48c9-419f-d2dd-ea0fb3fadc5c"
      },
      "outputs": [
        {
          "output_type": "stream",
          "name": "stdout",
          "text": [
            "Epoch 1/20\n",
            "18/18 [==============================] - 1s 3ms/step - loss: 0.8149 - accuracy: 0.5958\n",
            "Epoch 2/20\n",
            "18/18 [==============================] - 0s 4ms/step - loss: 0.6287 - accuracy: 0.7317\n",
            "Epoch 3/20\n",
            "18/18 [==============================] - 0s 3ms/step - loss: 0.5977 - accuracy: 0.7413\n",
            "Epoch 4/20\n",
            "18/18 [==============================] - 0s 3ms/step - loss: 0.5422 - accuracy: 0.7744\n",
            "Epoch 5/20\n",
            "18/18 [==============================] - 0s 3ms/step - loss: 0.5414 - accuracy: 0.7683\n",
            "Epoch 6/20\n",
            "18/18 [==============================] - 0s 4ms/step - loss: 0.5152 - accuracy: 0.7848\n",
            "Epoch 7/20\n",
            "18/18 [==============================] - 0s 4ms/step - loss: 0.5287 - accuracy: 0.7735\n",
            "Epoch 8/20\n",
            "18/18 [==============================] - 0s 4ms/step - loss: 0.5190 - accuracy: 0.7840\n",
            "Epoch 9/20\n",
            "18/18 [==============================] - 0s 5ms/step - loss: 0.5561 - accuracy: 0.7517\n",
            "Epoch 10/20\n",
            "18/18 [==============================] - 0s 4ms/step - loss: 0.5477 - accuracy: 0.7648\n",
            "Epoch 11/20\n",
            "18/18 [==============================] - 0s 4ms/step - loss: 0.5285 - accuracy: 0.7683\n",
            "Epoch 12/20\n",
            "18/18 [==============================] - 0s 4ms/step - loss: 0.5193 - accuracy: 0.7718\n",
            "Epoch 13/20\n",
            "18/18 [==============================] - 0s 3ms/step - loss: 0.5578 - accuracy: 0.7404\n",
            "Epoch 14/20\n",
            "18/18 [==============================] - 0s 3ms/step - loss: 0.5281 - accuracy: 0.7805\n",
            "Epoch 15/20\n",
            "18/18 [==============================] - 0s 3ms/step - loss: 0.5282 - accuracy: 0.7753\n",
            "Epoch 16/20\n",
            "18/18 [==============================] - 0s 2ms/step - loss: 0.5218 - accuracy: 0.7918\n",
            "Epoch 17/20\n",
            "18/18 [==============================] - 0s 5ms/step - loss: 0.4930 - accuracy: 0.7866\n",
            "Epoch 18/20\n",
            "18/18 [==============================] - 0s 3ms/step - loss: 0.4994 - accuracy: 0.7822\n",
            "Epoch 19/20\n",
            "18/18 [==============================] - 0s 4ms/step - loss: 0.4854 - accuracy: 0.7927\n",
            "Epoch 20/20\n",
            "18/18 [==============================] - 0s 4ms/step - loss: 0.4880 - accuracy: 0.7918\n"
          ]
        }
      ],
      "source": [
        "#Fit\n",
        "history = model.fit(X_train, y_train, epochs=20, batch_size=64)"
      ]
    },
    {
      "cell_type": "code",
      "execution_count": 26,
      "metadata": {
        "id": "Id4u4igDBHtK",
        "colab": {
          "base_uri": "https://localhost:8080/",
          "height": 295
        },
        "outputId": "07cc8908-6671-42e6-c71e-1c264887ba8d"
      },
      "outputs": [
        {
          "output_type": "display_data",
          "data": {
            "text/plain": [
              "<Figure size 432x288 with 1 Axes>"
            ],
            "image/png": "[encoded data removed]"
          },
          "metadata": {
            "needs_background": "light"
          }
        }
      ],
      "source": [
        "#Plots \n",
        "loss = history.history['loss']\n",
        "accuracy = history.history['accuracy']\n",
        "epochs = range(0,20)\n",
        "\n",
        "plt.plot(epochs, loss, 'g', label='Loss')\n",
        "plt.plot(epochs, accuracy, 'b', label='Accuracy')\n",
        "plt.title('Training Loss and Accuracy')\n",
        "plt.xticks(epochs)\n",
        "plt.xlabel('Epochs')\n",
        "plt.ylabel('Total')\n",
        "plt.legend()\n",
        "plt.show()"
      ]
    },
    {
      "cell_type": "markdown",
      "metadata": {
        "id": "epfveZ6I5rzR"
      },
      "source": [
        "### Influencia velocidad aprendizaje y optimizador"
      ]
    },
    {
      "cell_type": "markdown",
      "metadata": {
        "id": "Pvt1o-bzDgQs"
      },
      "source": [
        "Una vez tenemos el modelo base, analizaremos la influencia que pueden tener la velocidad de aprendizaje y el tipo de optimizador en la mejora del rendimiento."
      ]
    },
    {
      "cell_type": "markdown",
      "metadata": {
        "id": "k4MKwGwYtBML"
      },
      "source": [
        "<div style=\"background-color: #EDF7FF; border-color: #7C9DBF; border-left: 5px solid #7C9DBF; padding: 0.5em;\">\n",
        "<strong>Ejercicio (1.5 puntos):</strong> Implementa una función para entrenar la arquitectura del ejercicio anterior para 4 optimizadores diferentes: Adam, SGD, Adadelta, Adagrad, y 4 velocidades de aprendizaje: 0.001, 0.01, 0.05, 0.1. \n",
        "Entrena los modelos, y representa dos gráficas:\n",
        " <ul>\n",
        "     <li> Tiempo de entrenamiento vs Velocidad de aprendizaje</li>\n",
        "     <li>  <i>Accuracy</i> vs Velocidad de aprendizaje</li>\n",
        "</ul>   \n",
        "    \n",
        "Cada gráfica debe incluir la evolución obtenida por los cuatro optimizadores para poderlos comparar mejor.\n",
        "    \n",
        "-----------------------------------------------------------------------------------------------------------\n",
        "<b>Importante</b>: para la entrega de la PEC, fijar el parámetro <code>verbose = 0</code> en el entrenamiento de los modelos. La solución únicamente debe mostrar las gráficas resultantes.\n",
        "</div>"
      ]
    },
    {
      "cell_type": "code",
      "execution_count": 27,
      "metadata": {
        "id": "yt72wL7_CauO"
      },
      "outputs": [],
      "source": [
        "#Function to compute several models changing Optimizers and learning rate\n",
        "def compute(model):\n",
        "  rates = [0.001, 0.01, 0.05, 0.1]\n",
        "  optimizers = []\n",
        "  result = []\n",
        "  for r in range(len(rates)):\n",
        "    optimizers.append([SGD(learning_rate=rates[r]), \"SGD\", rates[r]])\n",
        "    optimizers.append([Adadelta(learning_rate=rates[r]), \"Adadelta\", rates[r]])\n",
        "    optimizers.append([Adagrad(learning_rate=rates[r]), \"Adagrad\", rates[r]])\n",
        "    optimizers.append([Adam(learning_rate=rates[r]), \"Adam\", rates[r]])\n",
        " \n",
        "  for i in range(len(optimizers)):\n",
        "    optimizer = optimizers[i]\n",
        "    # Not sure if this helps reseting the model\n",
        "    model.build()\n",
        "    model.compile(optimizer[0], \"categorical_crossentropy\", metrics=[\"accuracy\"])\n",
        "    t0 = timeit.default_timer()\n",
        "    history = model.fit(X_train, y_train, epochs=20, batch_size=64, verbose=0,\n",
        "                        validation_data=(X_test, y_test))\n",
        "    training_time = timeit.default_timer() - t0\n",
        "    avg_accuracy = np.mean(history.history['accuracy'])\n",
        "    #msg = (\"Optimizer {model} with learning rate {rate} results:\\n\\t\" \\\n",
        "    #      \"{accuracy:.2f}% accuracy and {time:.2f}s training time\").format(\n",
        "    #    model=optimizer[1], rate=optimizer[2], time=training_time, accuracy=avg_accuracy)\n",
        "    #print(msg)\n",
        "    result.append([optimizer[1], optimizer[2], training_time, avg_accuracy])\n",
        "  return result"
      ]
    },
    {
      "cell_type": "code",
      "execution_count": 28,
      "metadata": {
        "id": "PF9BZo4WCdX6"
      },
      "outputs": [],
      "source": [
        "#Compute models\n",
        "c = compute(model)\n"
      ]
    },
    {
      "cell_type": "code",
      "execution_count": 29,
      "metadata": {
        "id": "KALAyx3bCgBm",
        "colab": {
          "base_uri": "https://localhost:8080/",
          "height": 513
        },
        "outputId": "dd53a2fe-4ad2-4e5b-a1a1-000ee7bb7bd7"
      },
      "outputs": [
        {
          "output_type": "display_data",
          "data": {
            "text/plain": [
              "<Figure size 1080x576 with 2 Axes>"
            ],
            "image/png": "[encoded data removed]"
          },
          "metadata": {
            "needs_background": "light"
          }
        }
      ],
      "source": [
        "#Plots\n",
        "\n",
        "# distribuir el resultado en variables más legibles\n",
        "opts = []\n",
        "times = []\n",
        "rates = []\n",
        "acc = []\n",
        "for i in range(len(c)):\n",
        "  m = c[i]\n",
        "  opts.append(m[0])\n",
        "  rates.append(m[1])\n",
        "  times.append(m[2]) \n",
        "  acc.append(m[3])\n",
        "\n",
        "# Variables para las coordenadas de las lineas\n",
        "adam_rates = []\n",
        "adam_accuracy = []\n",
        "adam_times = []\n",
        "sgd_rates = []\n",
        "sgd_accuracy = []\n",
        "sgd_times = []\n",
        "adagrad_rates = []\n",
        "adagrad_accuracy = []\n",
        "adagrad_times = []\n",
        "adadelta_rates = []\n",
        "adadelta_accuracy = []\n",
        "adadelta_times = []\n",
        "\n",
        "# Transformacion de variables\n",
        "for i in range(len(times)):\n",
        "  if opts[i] == 'Adam':\n",
        "    adam_rates.append(rates[i])\n",
        "    adam_times.append(times[i])\n",
        "    adam_accuracy.append(acc[i])\n",
        "  elif opts[i] == 'SGD':\n",
        "    sgd_rates.append(rates[i])\n",
        "    sgd_times.append(times[i])\n",
        "    sgd_accuracy.append(acc[i])\n",
        "  elif opts[i] == 'Adagrad':\n",
        "    adagrad_rates.append(rates[i])\n",
        "    adagrad_times.append(times[i])\n",
        "    adagrad_accuracy.append(acc[i])\n",
        "  elif opts[i] == 'Adadelta':\n",
        "    adadelta_rates.append(rates[i])\n",
        "    adadelta_times.append(times[i]) \n",
        "    adadelta_accuracy.append(acc[i])\n",
        "\n",
        "fig, ax = plt.subplots(1,2, figsize=(15,8))\n",
        "\n",
        "ax[0].plot(adam_rates, adam_times, linestyle='--', marker='o', color='g', label='Adam')\n",
        "ax[0].plot(sgd_rates, sgd_times, linestyle='--', marker='o', color='y', label='SGD')\n",
        "ax[0].plot(adagrad_rates, adagrad_times, linestyle='--', marker='o', color='b', label='Adagrad')\n",
        "ax[0].plot(adadelta_rates, adadelta_times, linestyle='--', marker='o', color='r', label='Adadelta')\n",
        "ax[0].set_title('Training Time vs Learning Rates')\n",
        "ax[0].set_xlabel('Learning Rates')\n",
        "ax[0].set_ylabel('Training Time')\n",
        "\n",
        "ax[1].plot(adam_rates, adam_accuracy, linestyle='--', marker='o', color='g', label='Adam')\n",
        "ax[1].plot(sgd_rates, sgd_accuracy, linestyle='--', marker='o', color='y', label='SGD')\n",
        "ax[1].plot(adagrad_rates, adagrad_accuracy, linestyle='--', marker='o', color='b', label='Adagrad')\n",
        "ax[1].plot(adadelta_rates, adadelta_accuracy, linestyle='--', marker='o', color='r', label='Adadelta')\n",
        "ax[1].set_title('Accuracy vs Learning Rates')\n",
        "ax[1].set_xlabel('Learning Rates')\n",
        "ax[1].set_ylabel('Accuracy')\n",
        "plt.legend()\n",
        "plt.show()"
      ]
    },
    {
      "cell_type": "markdown",
      "metadata": {
        "id": "3FFT0HcW5yzD"
      },
      "source": [
        "### Elección del mejor modelo"
      ]
    },
    {
      "cell_type": "markdown",
      "metadata": {
        "id": "nxM_49dxuC1L"
      },
      "source": [
        "<div style=\"background-color: #EDF7FF; border-color: #7C9DBF; border-left: 5px solid #7C9DBF; padding: 0.5em;\">\n",
        "<strong>Ejercicio (1 punto):</strong> Identifica el valor de la velocidad de aprendizaje y del optimizador que mejor rendimiento dan al modelo, según los resultados del ejercicio anterior:\n",
        "<ul>\n",
        "    \n",
        "<li>   Justifica la elección</li>\n",
        "<li>   Compila y entrena el modelo elegido</li>\n",
        "<li>   Muestra las correspondientes gráficas de <i>Accuracy</i> y <i>Loss</i> de los conjuntos de entrenamiento y validación, e indica el <i>Accuracy</i> del modelo </li>\n",
        "<li>   Muestra la matriz de confusión multi-clase con las etiquetas originales de <code>quality</code> (<i>low-end</i>, <i>medium-end</i>, <i>high-end</i>)</li>\n",
        "<li>   Muestra la precisión, recall y F1-score resultantes para cada etiqueta</li>\n",
        "<li>   Comenta los resultados obtenidos</li>\n",
        "</ul>\n",
        "</div>"
      ]
    },
    {
      "cell_type": "code",
      "execution_count": 30,
      "metadata": {
        "id": "4oiJyrGL6Ntb"
      },
      "outputs": [],
      "source": [
        "#Best model justification"
      ]
    },
    {
      "cell_type": "markdown",
      "source": [
        "En las múltiples ejecuciones del proceso he obtenido varios resultados donde unas veces un modelo y otras otros eran ligeramente mejores al resto.\n",
        "\n",
        "En general, Adagrad y SGD se han comportado mejor en cuanto a precisión en velocidades de aprendizaje de 0.01 y 0.05, con precisiones alrededor del 84% y tiempos de entrenamiento cercanos al medio segundo.\n",
        "\n",
        "Mi elección para **el mejor modelo es Adagrad con velocidad de 0.05** dado que, el coste adicional de entranemiento es despreciable frente a casi un 1% más de precisión.\n",
        "\n",
        "![Screenshot from 2022-03-15 21-37-33.png](data:image/png;base64,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)\n",
        "\n",
        "En la imagen, se muestra la ejecución que justifica los comentarios."
      ],
      "metadata": {
        "id": "VxOkTHvtch6g"
      }
    },
    {
      "cell_type": "code",
      "execution_count": 31,
      "metadata": {
        "id": "8Dwvn_0JCt9A",
        "colab": {
          "base_uri": "https://localhost:8080/"
        },
        "outputId": "2496c671-22b2-473a-af32-061687645971"
      },
      "outputs": [
        {
          "output_type": "stream",
          "name": "stdout",
          "text": [
            "Epoch 1/20\n",
            "18/18 [==============================] - 1s 13ms/step - loss: 0.9527 - accuracy: 0.5653 - val_loss: 0.7817 - val_accuracy: 0.6562\n",
            "Epoch 2/20\n",
            "18/18 [==============================] - 0s 3ms/step - loss: 0.6854 - accuracy: 0.6777 - val_loss: 0.6130 - val_accuracy: 0.6771\n",
            "Epoch 3/20\n",
            "18/18 [==============================] - 0s 4ms/step - loss: 0.5839 - accuracy: 0.7361 - val_loss: 0.5342 - val_accuracy: 0.7465\n",
            "Epoch 4/20\n",
            "18/18 [==============================] - 0s 4ms/step - loss: 0.5349 - accuracy: 0.7648 - val_loss: 0.5055 - val_accuracy: 0.7535\n",
            "Epoch 5/20\n",
            "18/18 [==============================] - 0s 3ms/step - loss: 0.5229 - accuracy: 0.7787 - val_loss: 0.4940 - val_accuracy: 0.7674\n",
            "Epoch 6/20\n",
            "18/18 [==============================] - 0s 3ms/step - loss: 0.4987 - accuracy: 0.7779 - val_loss: 0.4718 - val_accuracy: 0.7951\n",
            "Epoch 7/20\n",
            "18/18 [==============================] - 0s 4ms/step - loss: 0.4916 - accuracy: 0.7866 - val_loss: 0.4766 - val_accuracy: 0.7639\n",
            "Epoch 8/20\n",
            "18/18 [==============================] - 0s 4ms/step - loss: 0.4877 - accuracy: 0.7883 - val_loss: 0.4726 - val_accuracy: 0.7743\n",
            "Epoch 9/20\n",
            "18/18 [==============================] - 0s 4ms/step - loss: 0.4852 - accuracy: 0.7866 - val_loss: 0.4702 - val_accuracy: 0.7847\n",
            "Epoch 10/20\n",
            "18/18 [==============================] - 0s 3ms/step - loss: 0.4723 - accuracy: 0.7918 - val_loss: 0.4850 - val_accuracy: 0.7708\n",
            "Epoch 11/20\n",
            "18/18 [==============================] - 0s 4ms/step - loss: 0.4799 - accuracy: 0.7918 - val_loss: 0.4757 - val_accuracy: 0.7743\n",
            "Epoch 12/20\n",
            "18/18 [==============================] - 0s 4ms/step - loss: 0.4711 - accuracy: 0.8031 - val_loss: 0.4789 - val_accuracy: 0.7778\n",
            "Epoch 13/20\n",
            "18/18 [==============================] - 0s 4ms/step - loss: 0.4709 - accuracy: 0.7997 - val_loss: 0.4859 - val_accuracy: 0.7639\n",
            "Epoch 14/20\n",
            "18/18 [==============================] - 0s 3ms/step - loss: 0.4665 - accuracy: 0.8031 - val_loss: 0.4699 - val_accuracy: 0.7882\n",
            "Epoch 15/20\n",
            "18/18 [==============================] - 0s 4ms/step - loss: 0.4585 - accuracy: 0.7953 - val_loss: 0.4734 - val_accuracy: 0.7674\n",
            "Epoch 16/20\n",
            "18/18 [==============================] - 0s 3ms/step - loss: 0.4551 - accuracy: 0.8101 - val_loss: 0.4812 - val_accuracy: 0.7743\n",
            "Epoch 17/20\n",
            "18/18 [==============================] - 0s 3ms/step - loss: 0.4539 - accuracy: 0.8049 - val_loss: 0.4780 - val_accuracy: 0.7778\n",
            "Epoch 18/20\n",
            "18/18 [==============================] - 0s 4ms/step - loss: 0.4600 - accuracy: 0.7962 - val_loss: 0.4783 - val_accuracy: 0.7778\n",
            "Epoch 19/20\n",
            "18/18 [==============================] - 0s 3ms/step - loss: 0.4522 - accuracy: 0.8057 - val_loss: 0.4800 - val_accuracy: 0.7812\n",
            "Epoch 20/20\n",
            "18/18 [==============================] - 0s 4ms/step - loss: 0.4498 - accuracy: 0.8092 - val_loss: 0.4817 - val_accuracy: 0.7812\n",
            "5/5 [==============================] - 0s 3ms/step - loss: 0.4817 - accuracy: 0.7812\n"
          ]
        }
      ],
      "source": [
        "#Create, compile and fit ANN BEST model\n",
        "#Create ANN model\n",
        "model = Sequential()\n",
        "\n",
        "# Input layer\n",
        "model.add(keras.Input(shape=(9,)))\n",
        "\n",
        "# Hidden layers\n",
        "model.add(Dense(64, activation=\"relu\"))\n",
        "model.add(Dense(32, activation=\"relu\"))\n",
        "model.add(Dense(10, activation=\"relu\"))\n",
        "model.add(Dense(8, activation=\"relu\"))\n",
        "\n",
        "# Output layer\n",
        "model.add(Dense(3, activation=\"softmax\"))\n",
        "\n",
        "model.build()\n",
        "model.compile(Adagrad(learning_rate=0.05), \"categorical_crossentropy\", metrics=[\"accuracy\"])\n",
        "history_train = model.fit(X_train, y_train, epochs=20, batch_size=64, verbose=1,\n",
        "                          validation_data=(X_test, y_test))\n",
        "results = model.evaluate(X_test, y_test, batch_size=64, verbose=1)"
      ]
    },
    {
      "cell_type": "code",
      "execution_count": 32,
      "metadata": {
        "id": "7KvpGJi4C1fD",
        "colab": {
          "base_uri": "https://localhost:8080/",
          "height": 295
        },
        "outputId": "699ace7c-a001-41f9-e898-4d2f77ce5c34"
      },
      "outputs": [
        {
          "output_type": "display_data",
          "data": {
            "text/plain": [
              "<Figure size 432x288 with 1 Axes>"
            ],
            "image/png": "[encoded data removed]"
          },
          "metadata": {
            "needs_background": "light"
          }
        }
      ],
      "source": [
        "#Plots\n",
        "loss = history.history['loss']\n",
        "accuracy = history.history['accuracy']\n",
        "epochs = range(0,20)\n",
        "\n",
        "eval_loss = results[0]\n",
        "eval_accuracy = results[1]\n",
        "\n",
        "plt.plot(epochs, loss, 'g', label='Training Loss')\n",
        "plt.plot(epochs, accuracy, 'b', label='Training Accuracy')\n",
        "\n",
        "# Situamos los puntos del eval en en centro del gráfico\n",
        "plt.plot(10, eval_loss, 'o', label='Eval Loss')\n",
        "plt.text(10, eval_loss + 0.02, 'Eval Loss')\n",
        "\n",
        "plt.plot(10, eval_accuracy, 'o', label='Eval Accuracy')\n",
        "plt.text(10, eval_accuracy + 0.02, 'Eval Accuracy')\n",
        "\n",
        "plt.title('Training vs Eval')\n",
        "plt.xticks(epochs)\n",
        "plt.ylim(0.2,1)\n",
        "plt.xlabel('Training Epochs')\n",
        "plt.ylabel('Total')\n",
        "plt.legend()\n",
        "plt.show()"
      ]
    },
    {
      "cell_type": "code",
      "execution_count": 33,
      "metadata": {
        "id": "rgUdskZ7Fz4n",
        "colab": {
          "base_uri": "https://localhost:8080/",
          "height": 279
        },
        "outputId": "53c0ff80-8ec3-4a0a-b75a-3dc1b33e0ce2"
      },
      "outputs": [
        {
          "output_type": "display_data",
          "data": {
            "text/plain": [
              "<Figure size 432x288 with 2 Axes>"
            ],
            "image/png": "[encoded data removed]"
          },
          "metadata": {
            "needs_background": "light"
          }
        }
      ],
      "source": [
        "#Confusion matrix\n",
        "y_pred = model.predict(X_test)\n",
        "y_pred = (y_pred > 0.5)\n",
        "\n",
        "targets = ['low-end', 'medium-end', 'high-end']\n",
        "cm = confusion_matrix(y_test.values.argmax(axis=1), y_pred.argmax(axis=1))\n",
        "disp = ConfusionMatrixDisplay(confusion_matrix=cm, display_labels=targets)\n",
        "disp.plot()\n",
        "plt.show()"
      ]
    },
    {
      "cell_type": "code",
      "execution_count": 34,
      "metadata": {
        "id": "qWMB7Sq1hHdy",
        "colab": {
          "base_uri": "https://localhost:8080/"
        },
        "outputId": "b8de922c-b826-4bda-a0fa-d2b3684faf76"
      },
      "outputs": [
        {
          "output_type": "stream",
          "name": "stdout",
          "text": [
            "Accuracy: 78.12%\n"
          ]
        }
      ],
      "source": [
        "#Accuracy\n",
        "print((\"Accuracy: {acc:.2f}%\").format(acc=results[1] * 100))"
      ]
    },
    {
      "cell_type": "code",
      "execution_count": 35,
      "metadata": {
        "id": "FyVOsMOJISLp",
        "colab": {
          "base_uri": "https://localhost:8080/"
        },
        "outputId": "e3afd86d-e0ca-4152-c741-72366256395f"
      },
      "outputs": [
        {
          "output_type": "stream",
          "name": "stdout",
          "text": [
            "              precision    recall  f1-score   support\n",
            "\n",
            "     low-end       0.82      0.84      0.83       116\n",
            "  medium-end       0.65      0.66      0.65        91\n",
            "    high-end       0.87      0.81      0.84        81\n",
            "\n",
            "    accuracy                           0.77       288\n",
            "   macro avg       0.78      0.77      0.77       288\n",
            "weighted avg       0.78      0.77      0.78       288\n",
            "\n"
          ]
        }
      ],
      "source": [
        "#Precision, Recall and F1-score for each label\n",
        "# Classification Report\n",
        "targets = ['low-end', 'medium-end', 'high-end']\n",
        "print(classification_report(y_test.values.argmax(axis=1), y_pred.argmax(axis=1), target_names = targets))"
      ]
    },
    {
      "cell_type": "code",
      "execution_count": 36,
      "metadata": {
        "id": "GlmpoPbzE5k0"
      },
      "outputs": [],
      "source": [
        "#Comment results\n"
      ]
    },
    {
      "cell_type": "markdown",
      "metadata": {
        "id": "LY6fFoV955e3"
      },
      "source": [
        "## 3. Red neuronal artificial: Regresión (4.5 puntos)"
      ]
    },
    {
      "cell_type": "markdown",
      "metadata": {
        "id": "vMTilNAuwN4X"
      },
      "source": [
        "En este apartado resolveremos un problema de regresión intentando predecir el precio de re-venta según las características de los coches. Partiremos del conjunto de datos original."
      ]
    },
    {
      "cell_type": "markdown",
      "metadata": {
        "id": "tKTYsFI45_rW"
      },
      "source": [
        "### Pre-procesado\n",
        "\n",
        "\n"
      ]
    },
    {
      "cell_type": "markdown",
      "metadata": {
        "id": "eSp_nZX3wQDT"
      },
      "source": [
        "<div style=\"background-color: #EDF7FF; border-color: #7C9DBF; border-left: 5px solid #7C9DBF; padding: 0.5em;\">\n",
        "<strong>Ejercicio (0.5 puntos):</strong> Pre-procesa los datos: \n",
        "<ul>\n",
        "<li>   Crea los vectores de variables dependientes (<i>features</i>) y de la variable independiente (<i>target</i>)</li>\n",
        "<li>   Normaliza debidamente los datos</li>\n",
        "<li>   Divide el conjunto de datos en 70% para entrenamiento y 30% para test, usando la función <code>train_test_split</code></li>\n",
        "<li>   Muestra las dimensiones de los conjuntos de entrenamiento y test</li>\n",
        "</ul>\n",
        "</div>"
      ]
    },
    {
      "cell_type": "code",
      "execution_count": 37,
      "metadata": {
        "id": "2ZFhPX92wqB7",
        "colab": {
          "base_uri": "https://localhost:8080/"
        },
        "outputId": "0df3ecce-513c-495c-b156-3d7b063e93cc"
      },
      "outputs": [
        {
          "output_type": "execute_result",
          "data": {
            "text/plain": [
              "0       10950\n",
              "1       13500\n",
              "2       13950\n",
              "3       13450\n",
              "4       13500\n",
              "        ...  \n",
              "1431    11750\n",
              "1432     8750\n",
              "1433     8950\n",
              "1434    14950\n",
              "1435    11950\n",
              "Name: price, Length: 1436, dtype: int64"
            ]
          },
          "metadata": {},
          "execution_count": 37
        }
      ],
      "source": [
        "#Create features and target vectors\n",
        "features = df.drop(columns = ['quality', 'price'])\n",
        "target = df['price']\n",
        "target"
      ]
    },
    {
      "cell_type": "code",
      "execution_count": 38,
      "metadata": {
        "id": "hUi95MvbAa-u",
        "colab": {
          "base_uri": "https://localhost:8080/"
        },
        "outputId": "5d8bcf45-9da9-4fc2-8715-cecbe2f3bd6a"
      },
      "outputs": [
        {
          "output_type": "execute_result",
          "data": {
            "text/plain": [
              "array([[-0.49116689],\n",
              "       [ 0.21214529],\n",
              "       [ 0.3362592 ],\n",
              "       ...,\n",
              "       [-1.04278428],\n",
              "       [ 0.6120679 ],\n",
              "       [-0.21535819]])"
            ]
          },
          "metadata": {},
          "execution_count": 38
        }
      ],
      "source": [
        "#Normalizing the data\n",
        "features['fuel_type'] = features['fuel_type'].astype('category').cat.codes\n",
        "features['fuel_type']\n",
        "scaler = StandardScaler()\n",
        "scaled_features = scaler.fit_transform(features)\n",
        "scaled_target = scaler.fit_transform(target.values.reshape(-1, 1))"
      ]
    },
    {
      "cell_type": "code",
      "execution_count": 39,
      "metadata": {
        "id": "_vUVcRn_wdQx"
      },
      "outputs": [],
      "source": [
        "#Split train-test\n",
        "X_train, X_test, y_train, y_test = train_test_split(\n",
        "    scaled_features, scaled_target, test_size=0.3, random_state=THE_SEED)"
      ]
    },
    {
      "cell_type": "code",
      "execution_count": 40,
      "metadata": {
        "id": "Ca_Zk7PfwkPE",
        "colab": {
          "base_uri": "https://localhost:8080/"
        },
        "outputId": "e800e7a4-9b73-4970-ae7e-1d85c947d2f0"
      },
      "outputs": [
        {
          "output_type": "execute_result",
          "data": {
            "text/plain": [
              "((1005, 9), (431, 9), (1005, 1), (431, 1))"
            ]
          },
          "metadata": {},
          "execution_count": 40
        }
      ],
      "source": [
        "#Dimensions\n",
        "X_train.shape, X_test.shape, y_train.shape, y_test.shape "
      ]
    },
    {
      "cell_type": "markdown",
      "source": [
        "|        | X_train   | X_test     | y_train | y_test  |\n",
        "|--------|-----------|------------|---------|---------|\n",
        "| Shapes | (1005, 9) | (431, 9) | (1005,) | (431,) |"
      ],
      "metadata": {
        "id": "Yird5ep0x-av"
      }
    },
    {
      "cell_type": "markdown",
      "metadata": {
        "id": "6Q7VJZn_6Eru"
      },
      "source": [
        "### Modelo base"
      ]
    },
    {
      "cell_type": "markdown",
      "metadata": {
        "id": "aI1qOtftx4J0"
      },
      "source": [
        "En primer lugar diseñaremos un modelo base con tres capas ocultas.\n",
        "\n",
        "Nota: Para el ajuste del modelo usaremos los datos de test como conjunto de validación."
      ]
    },
    {
      "cell_type": "markdown",
      "metadata": {
        "id": "0AhiMwVZw13D"
      },
      "source": [
        "<div style=\"background-color: #EDF7FF; border-color: #7C9DBF; border-left: 5px solid #7C9DBF; padding: 0.5em;\">\n",
        "<strong>Ejercicio (1 punto):</strong> Implementa el modelo de red neuronal artificial:\n",
        "<ul>\n",
        "<li>Diseña la arquitectura para el modelo de regresión con las siguientes características:</li>\n",
        "    <ul>\n",
        "   <li>1 primera capa oculta completamente conectada de 128 neuronas y activación ReLU</li>\n",
        "   <li>2 capas ocultas de 32 y 16 neuronas y activación tangencial</li>\n",
        "   <li>Todas las capas deben tener <code>kernel_initizalizer</code> en modo 'normal'</li>\n",
        "   </ul>\n",
        "<li>Compila el modelo con la función de pérdida más adecuada y el optimizador Adam</li>\n",
        "\n",
        "<li>Ajusta el modelo con 50 épocas y un tamaño del batch de 32</li>\n",
        "\n",
        "<li>Muestra la gráfica de pérdida. En la gráfica debe visualizarse la curva de entrenamiento y la de validación</li>\n",
        "</ul>\n",
        "</div>"
      ]
    },
    {
      "cell_type": "code",
      "execution_count": 55,
      "metadata": {
        "id": "KJaRnNOcAyNi"
      },
      "outputs": [],
      "source": [
        "#Create ANN model\n",
        "model = Sequential()\n",
        "\n",
        "# Input layer\n",
        "model.add(keras.Input(shape=(9,)))\n",
        "\n",
        "# Hidden layers\n",
        "model.add(Dense(128, activation=\"relu\"))\n",
        "model.add(Dense(32, activation=\"tanh\"))\n",
        "model.add(Dense(16, activation=\"tanh\"))\n",
        "\n",
        "# Output layer\n",
        "model.add(Dense(1))\n",
        "\n",
        "model.build()"
      ]
    },
    {
      "cell_type": "code",
      "execution_count": 58,
      "metadata": {
        "id": "nvu-prE3radd"
      },
      "outputs": [],
      "source": [
        "#Compiling the model\n",
        "\n",
        "def rmse (y_true, y_pred):\n",
        "  ''' Evaluates RMSE value, useful for custom metrics on each epoch '''\n",
        "  return keras.backend.sqrt(\n",
        "    keras.backend.mean(\n",
        "      keras.backend.square(y_pred -y_true)))\n",
        "    \n",
        "model.compile(Adam(), \"mean_absolute_error\", metrics=[rmse])"
      ]
    },
    {
      "cell_type": "code",
      "execution_count": 59,
      "metadata": {
        "id": "W6zQWqGjrb54",
        "colab": {
          "base_uri": "https://localhost:8080/"
        },
        "outputId": "750d4db3-0376-4360-922d-239eb39e189b"
      },
      "outputs": [
        {
          "output_type": "stream",
          "name": "stdout",
          "text": [
            "Epoch 1/50\n",
            "32/32 [==============================] - 2s 19ms/step - loss: 0.3867 - rmse: 0.5563 - val_loss: 0.2933 - val_rmse: 0.4183\n",
            "Epoch 2/50\n",
            "32/32 [==============================] - 0s 8ms/step - loss: 0.2749 - rmse: 0.3744 - val_loss: 0.2636 - val_rmse: 0.3611\n",
            "Epoch 3/50\n",
            "32/32 [==============================] - 0s 8ms/step - loss: 0.2611 - rmse: 0.3639 - val_loss: 0.2459 - val_rmse: 0.3400\n",
            "Epoch 4/50\n",
            "32/32 [==============================] - 0s 8ms/step - loss: 0.2509 - rmse: 0.3414 - val_loss: 0.2423 - val_rmse: 0.3301\n",
            "Epoch 5/50\n",
            "32/32 [==============================] - 0s 7ms/step - loss: 0.2442 - rmse: 0.3317 - val_loss: 0.2509 - val_rmse: 0.3392\n",
            "Epoch 6/50\n",
            "32/32 [==============================] - 0s 6ms/step - loss: 0.2509 - rmse: 0.3348 - val_loss: 0.2455 - val_rmse: 0.3340\n",
            "Epoch 7/50\n",
            "32/32 [==============================] - 0s 6ms/step - loss: 0.2451 - rmse: 0.3265 - val_loss: 0.2711 - val_rmse: 0.3541\n",
            "Epoch 8/50\n",
            "32/32 [==============================] - 0s 9ms/step - loss: 0.2472 - rmse: 0.3349 - val_loss: 0.2630 - val_rmse: 0.3466\n",
            "Epoch 9/50\n",
            "32/32 [==============================] - 0s 8ms/step - loss: 0.2343 - rmse: 0.3133 - val_loss: 0.2622 - val_rmse: 0.3424\n",
            "Epoch 10/50\n",
            "32/32 [==============================] - 0s 8ms/step - loss: 0.2342 - rmse: 0.3130 - val_loss: 0.2468 - val_rmse: 0.3315\n",
            "Epoch 11/50\n",
            "32/32 [==============================] - 0s 10ms/step - loss: 0.2276 - rmse: 0.3079 - val_loss: 0.2417 - val_rmse: 0.3257\n",
            "Epoch 12/50\n",
            "32/32 [==============================] - 0s 6ms/step - loss: 0.2301 - rmse: 0.3098 - val_loss: 0.2521 - val_rmse: 0.3336\n",
            "Epoch 13/50\n",
            "32/32 [==============================] - 0s 6ms/step - loss: 0.2298 - rmse: 0.3104 - val_loss: 0.2432 - val_rmse: 0.3233\n",
            "Epoch 14/50\n",
            "32/32 [==============================] - 0s 6ms/step - loss: 0.2293 - rmse: 0.3175 - val_loss: 0.2467 - val_rmse: 0.3283\n",
            "Epoch 15/50\n",
            "32/32 [==============================] - 0s 5ms/step - loss: 0.2258 - rmse: 0.3071 - val_loss: 0.2463 - val_rmse: 0.3293\n",
            "Epoch 16/50\n",
            "32/32 [==============================] - 0s 3ms/step - loss: 0.2264 - rmse: 0.3067 - val_loss: 0.2335 - val_rmse: 0.3096\n",
            "Epoch 17/50\n",
            "32/32 [==============================] - 0s 3ms/step - loss: 0.2255 - rmse: 0.3130 - val_loss: 0.2429 - val_rmse: 0.3221\n",
            "Epoch 18/50\n",
            "32/32 [==============================] - 0s 3ms/step - loss: 0.2263 - rmse: 0.3069 - val_loss: 0.2440 - val_rmse: 0.3269\n",
            "Epoch 19/50\n",
            "32/32 [==============================] - 0s 3ms/step - loss: 0.2260 - rmse: 0.3028 - val_loss: 0.2397 - val_rmse: 0.3186\n",
            "Epoch 20/50\n",
            "32/32 [==============================] - 0s 3ms/step - loss: 0.2229 - rmse: 0.3024 - val_loss: 0.2458 - val_rmse: 0.3309\n",
            "Epoch 21/50\n",
            "32/32 [==============================] - 0s 3ms/step - loss: 0.2227 - rmse: 0.3035 - val_loss: 0.2549 - val_rmse: 0.3408\n",
            "Epoch 22/50\n",
            "32/32 [==============================] - 0s 3ms/step - loss: 0.2237 - rmse: 0.2984 - val_loss: 0.2440 - val_rmse: 0.3254\n",
            "Epoch 23/50\n",
            "32/32 [==============================] - 0s 3ms/step - loss: 0.2215 - rmse: 0.2999 - val_loss: 0.2464 - val_rmse: 0.3265\n",
            "Epoch 24/50\n",
            "32/32 [==============================] - 0s 3ms/step - loss: 0.2202 - rmse: 0.3031 - val_loss: 0.2398 - val_rmse: 0.3205\n",
            "Epoch 25/50\n",
            "32/32 [==============================] - 0s 4ms/step - loss: 0.2178 - rmse: 0.2967 - val_loss: 0.2430 - val_rmse: 0.3244\n",
            "Epoch 26/50\n",
            "32/32 [==============================] - 0s 3ms/step - loss: 0.2174 - rmse: 0.2978 - val_loss: 0.2460 - val_rmse: 0.3261\n",
            "Epoch 27/50\n",
            "32/32 [==============================] - 0s 3ms/step - loss: 0.2172 - rmse: 0.2947 - val_loss: 0.2500 - val_rmse: 0.3314\n",
            "Epoch 28/50\n",
            "32/32 [==============================] - 0s 3ms/step - loss: 0.2149 - rmse: 0.2938 - val_loss: 0.2394 - val_rmse: 0.3190\n",
            "Epoch 29/50\n",
            "32/32 [==============================] - 0s 3ms/step - loss: 0.2148 - rmse: 0.2979 - val_loss: 0.2425 - val_rmse: 0.3218\n",
            "Epoch 30/50\n",
            "32/32 [==============================] - 0s 3ms/step - loss: 0.2182 - rmse: 0.2943 - val_loss: 0.2464 - val_rmse: 0.3238\n",
            "Epoch 31/50\n",
            "32/32 [==============================] - 0s 3ms/step - loss: 0.2163 - rmse: 0.2933 - val_loss: 0.2575 - val_rmse: 0.3355\n",
            "Epoch 32/50\n",
            "32/32 [==============================] - 0s 3ms/step - loss: 0.2168 - rmse: 0.2944 - val_loss: 0.2420 - val_rmse: 0.3232\n",
            "Epoch 33/50\n",
            "32/32 [==============================] - 0s 3ms/step - loss: 0.2136 - rmse: 0.2919 - val_loss: 0.2522 - val_rmse: 0.3301\n",
            "Epoch 34/50\n",
            "32/32 [==============================] - 0s 3ms/step - loss: 0.2130 - rmse: 0.2897 - val_loss: 0.2449 - val_rmse: 0.3225\n",
            "Epoch 35/50\n",
            "32/32 [==============================] - 0s 3ms/step - loss: 0.2182 - rmse: 0.2969 - val_loss: 0.2373 - val_rmse: 0.3159\n",
            "Epoch 36/50\n",
            "32/32 [==============================] - 0s 3ms/step - loss: 0.2163 - rmse: 0.2934 - val_loss: 0.2433 - val_rmse: 0.3209\n",
            "Epoch 37/50\n",
            "32/32 [==============================] - 0s 3ms/step - loss: 0.2122 - rmse: 0.2876 - val_loss: 0.2447 - val_rmse: 0.3242\n",
            "Epoch 38/50\n",
            "32/32 [==============================] - 0s 3ms/step - loss: 0.2159 - rmse: 0.2925 - val_loss: 0.2471 - val_rmse: 0.3262\n",
            "Epoch 39/50\n",
            "32/32 [==============================] - 0s 3ms/step - loss: 0.2168 - rmse: 0.2924 - val_loss: 0.2587 - val_rmse: 0.3344\n",
            "Epoch 40/50\n",
            "32/32 [==============================] - 0s 3ms/step - loss: 0.2104 - rmse: 0.2898 - val_loss: 0.2512 - val_rmse: 0.3275\n",
            "Epoch 41/50\n",
            "32/32 [==============================] - 0s 3ms/step - loss: 0.2094 - rmse: 0.2858 - val_loss: 0.2365 - val_rmse: 0.3150\n",
            "Epoch 42/50\n",
            "32/32 [==============================] - 0s 3ms/step - loss: 0.2101 - rmse: 0.2923 - val_loss: 0.2396 - val_rmse: 0.3208\n",
            "Epoch 43/50\n",
            "32/32 [==============================] - 0s 3ms/step - loss: 0.2142 - rmse: 0.2847 - val_loss: 0.2510 - val_rmse: 0.3297\n",
            "Epoch 44/50\n",
            "32/32 [==============================] - 0s 3ms/step - loss: 0.2093 - rmse: 0.2888 - val_loss: 0.2482 - val_rmse: 0.3248\n",
            "Epoch 45/50\n",
            "32/32 [==============================] - 0s 3ms/step - loss: 0.2122 - rmse: 0.2885 - val_loss: 0.2405 - val_rmse: 0.3164\n",
            "Epoch 46/50\n",
            "32/32 [==============================] - 0s 3ms/step - loss: 0.2099 - rmse: 0.2854 - val_loss: 0.2425 - val_rmse: 0.3220\n",
            "Epoch 47/50\n",
            "32/32 [==============================] - 0s 3ms/step - loss: 0.2057 - rmse: 0.2836 - val_loss: 0.2503 - val_rmse: 0.3339\n",
            "Epoch 48/50\n",
            "32/32 [==============================] - 0s 3ms/step - loss: 0.2164 - rmse: 0.2905 - val_loss: 0.2567 - val_rmse: 0.3357\n",
            "Epoch 49/50\n",
            "32/32 [==============================] - 0s 3ms/step - loss: 0.2090 - rmse: 0.2831 - val_loss: 0.2472 - val_rmse: 0.3254\n",
            "Epoch 50/50\n",
            "32/32 [==============================] - 0s 3ms/step - loss: 0.2095 - rmse: 0.2907 - val_loss: 0.2487 - val_rmse: 0.3291\n",
            "14/14 [==============================] - 0s 2ms/step - loss: 0.2487 - rmse: 0.3291\n"
          ]
        },
        {
          "output_type": "execute_result",
          "data": {
            "text/plain": [
              "[0.24865828454494476, 0.3291281759738922]"
            ]
          },
          "metadata": {},
          "execution_count": 59
        }
      ],
      "source": [
        "#Fit model\n",
        "history = model.fit(X_train, y_train, epochs=50, batch_size=32, verbose=1,\n",
        "                        validation_data=(X_test, y_test))\n",
        "\n",
        "results = model.evaluate(X_test, y_test, batch_size=32, verbose=1)\n",
        "results"
      ]
    },
    {
      "cell_type": "markdown",
      "source": [
        ""
      ],
      "metadata": {
        "id": "18WBCDgB2BYF"
      }
    },
    {
      "cell_type": "code",
      "execution_count": 44,
      "metadata": {
        "id": "uJdhQfZlDlXj",
        "colab": {
          "base_uri": "https://localhost:8080/",
          "height": 295
        },
        "outputId": "f648d2db-5516-4c30-dad5-97bd90335be0"
      },
      "outputs": [
        {
          "output_type": "display_data",
          "data": {
            "text/plain": [
              "<Figure size 432x288 with 1 Axes>"
            ],
            "image/png": "[encoded data removed]"
          },
          "metadata": {
            "needs_background": "light"
          }
        }
      ],
      "source": [
        "#Plots\n",
        "loss = history.history['loss']\n",
        "val_loss = history.history['val_loss']\n",
        "epochs = range(0,50)\n",
        "\n",
        "plt.plot(epochs, loss, 'g', label='Traininig Loss')\n",
        "plt.plot(epochs, val_loss, 'r', label='Validation Loss')\n",
        "plt.title('Training Loss')\n",
        "plt.xticks(epochs)\n",
        "plt.xlabel('Epochs')\n",
        "plt.ylabel('Loss')\n",
        "plt.legend()\n",
        "plt.show()"
      ]
    },
    {
      "cell_type": "markdown",
      "metadata": {
        "id": "3_rxKFH96Jeb"
      },
      "source": [
        "### Búsqueda hiperparámetros"
      ]
    },
    {
      "cell_type": "markdown",
      "metadata": {
        "id": "CqVgHOUoF3hN"
      },
      "source": [
        "Una vez tenemos el modelo base nos interesa buscar la configuración de hiperparámetros que nos proporcione una mejor predicción del precio de re-venta de los coches. En este apartado haremos una búsqueda de hiperparámetros, recorriendo varios valores de número de capas, número de neuronas, tamaño del batch y épocas."
      ]
    },
    {
      "cell_type": "markdown",
      "metadata": {
        "id": "DtiaTO_LyC6p"
      },
      "source": [
        "<div style=\"background-color: #EDF7FF; border-color: #7C9DBF; border-left: 5px solid #7C9DBF; padding: 0.5em;\">\n",
        "<strong>Ejercicio (1.75 puntos):</strong> Implementa una función que evalúe distintos modelos combinando las siguientes características:\n",
        "<ul>    \n",
        "   <li>Tres arquitecturas diferentes con las siguientes configuraciones de número de capas ocultas (completamente conectadas) y número de neuronas en cada capa:</li>\n",
        "        <ul>\n",
        "        <li>[128, 64, 16]</li>\n",
        "        <li>[16, 4]</li>\n",
        "        <li>[4, 4]</li>\n",
        "        </ul> \n",
        "   <li>Tamaño del batch de 16 y 32</li>\n",
        "   <li>Épocas de 20, 50 y 100</li>\n",
        "</ul>   \n",
        "    \n",
        "    \n",
        "Como en el ejercicio anterior, la primera capa oculta tendrá siempre activación ReLU y las demás activación tangencial. El inicializador de kernel estará en modo 'normal' y usaremos el optimizador Adam.\n",
        "\n",
        "    \n",
        "La función deberá proporcionar una tabla con los siguientes campos: arquitectura de la red seleccionada, épocas, tamaño del batch, tiempo de entrenamiento, y raíz del error cuadrático medio (RMSE) del modelo \n",
        "\n",
        "-----------------------------------------------------------------------------------------------------------\n",
        "<b>Importante</b>: para la entrega de la PEC, fijar el parámetro <code>verbose = 0</code> en el entrenamiento de los modelos. La solución únicamente debe mostrar la tabla resultante.\n",
        "</div>"
      ]
    },
    {
      "cell_type": "code",
      "execution_count": 68,
      "metadata": {
        "id": "2KkKLxm6dyyE"
      },
      "outputs": [],
      "source": [
        "#Hiperparameter search function\n",
        "def create_arch1_model():\n",
        "  #Create ANN model\n",
        "  model = Sequential()\n",
        "\n",
        "  # Input layer\n",
        "  model.add(keras.Input(shape=(9,)))\n",
        "\n",
        "  # Hidden layers\n",
        "  model.add(Dense(128, kernel_initializer='normal', activation=\"relu\"))\n",
        "  model.add(Dense(64, kernel_initializer='normal', activation=\"tanh\"))\n",
        "  model.add(Dense(16, kernel_initializer='normal', activation=\"tanh\"))\n",
        "\n",
        "  # Output layer\n",
        "  model.add(Dense(1))\n",
        "\n",
        "  model.build()\n",
        "  return model\n",
        "\n",
        "def create_arch2_model():\n",
        "  #Create ANN model\n",
        "  model = Sequential()\n",
        "\n",
        "  # Input layer\n",
        "  model.add(keras.Input(shape=(9,)))\n",
        "\n",
        "  # Hidden layers\n",
        "  model.add(Dense(4, kernel_initializer='normal', activation=\"relu\"))\n",
        "  model.add(Dense(4, kernel_initializer='normal', activation=\"tanh\"))\n",
        "\n",
        "  # Output layer\n",
        "  model.add(Dense(1))\n",
        "\n",
        "  model.build()\n",
        "  return model\n",
        "\n",
        "def create_arch3_model():\n",
        "  #Create ANN model\n",
        "  model = Sequential()\n",
        "\n",
        "  # Input layer\n",
        "  model.add(keras.Input(shape=(9,)))\n",
        "\n",
        "  # Hidden layers\n",
        "  model.add(Dense(16, kernel_initializer='normal', activation=\"relu\"))\n",
        "  model.add(Dense(4, kernel_initializer='normal', activation=\"tanh\"))\n",
        "\n",
        "  # Output layer\n",
        "  model.add(Dense(1))\n",
        "\n",
        "  model.build()\n",
        "  return model\n",
        "\n",
        "def create_linear_model(i):\n",
        "  if i == 0:\n",
        "    model = create_arch1_model()\n",
        "  elif i == 1:\n",
        "    model = create_arch2_model()\n",
        "  else:\n",
        "    model = create_arch3_model()\n",
        "\n",
        "  model.compile(Adam(), \"mean_absolute_error\", metrics=[rmse])\n",
        "  return ['arch' + str(i+1), model]\n",
        "\n",
        "def search_regression_hyperparameters():\n",
        "\n",
        "  # Initialize parameters\n",
        "  batch_sizes = [16, 32]\n",
        "  epochs = [20, 50, 100]\n",
        "\n",
        "  result = []\n",
        "  for i1 in range(len(epochs)):\n",
        "    epoch = epochs[i1]\n",
        "    \n",
        "    for i2 in range(len(batch_sizes)):\n",
        "      b_size = batch_sizes[i2]\n",
        "\n",
        "      for i3 in range(3):\n",
        "        # Build the model from scratch to avoid 'cached' results\n",
        "        arch = create_linear_model(i3)\n",
        "        model = arch[1]\n",
        " \n",
        "        t0 = timeit.default_timer()\n",
        "        history = model.fit(X_train, y_train, epochs=epoch, batch_size=b_size,\n",
        "                            validation_data=(X_test, y_test), verbose=0)\n",
        "        training_time = timeit.default_timer() - t0\n",
        "\n",
        "        eval = model.evaluate(X_test, y_test, batch_size=b_size, verbose=0)\n",
        "        result.append([arch[0], epoch, b_size, training_time, eval[1]])\n",
        "\n",
        "  return result"
      ]
    },
    {
      "cell_type": "code",
      "execution_count": 69,
      "metadata": {
        "id": "Mb0zgnA4eTr1"
      },
      "outputs": [],
      "source": [
        "#Compute search\n",
        "result = search_regression_hyperparameters()"
      ]
    },
    {
      "cell_type": "code",
      "source": [
        "linear_model_result_df = pd.DataFrame(result, columns=['arch', 'epochs', 'batch_size', 'training_time', 'rmse'])\n",
        "linear_model_result_df"
      ],
      "metadata": {
        "id": "M6HUHZcinOOj",
        "outputId": "252459cf-7dcc-40fe-d0ce-9fba5c45bf93",
        "colab": {
          "base_uri": "https://localhost:8080/",
          "height": 614
        }
      },
      "execution_count": 70,
      "outputs": [
        {
          "output_type": "execute_result",
          "data": {
            "text/plain": [
              "     arch  epochs  batch_size  training_time      rmse\n",
              "0   arch1      20          16       5.587697  0.305282\n",
              "1   arch2      20          16       3.396195  0.452785\n",
              "2   arch3      20          16       3.462990  0.329575\n",
              "3   arch1      20          32       3.019727  0.324903\n",
              "4   arch2      20          32       2.244933  0.373209\n",
              "5   arch3      20          32       2.972670  0.350232\n",
              "6   arch1      50          16      10.691885  0.332930\n",
              "7   arch2      50          16       7.203234  0.332357\n",
              "8   arch3      50          16      10.656707  0.309554\n",
              "9   arch1      50          32       5.113555  0.329757\n",
              "10  arch2      50          32       5.987244  0.340239\n",
              "11  arch3      50          32       4.388158  0.329846\n",
              "12  arch1     100          16      17.058556  0.333034\n",
              "13  arch2     100          16      14.274149  0.333665\n",
              "14  arch3     100          16      14.746724  0.316692\n",
              "15  arch1     100          32      10.699123  0.324876\n",
              "16  arch2     100          32       8.058410  0.308583\n",
              "17  arch3     100          32      10.654225  0.312074"
            ],
            "text/html": [
              "\n",
              "  <div id=\"df-9dcaa32f-5b11-4b41-b218-467881a3964e\">\n",
              "    <div class=\"colab-df-container\">\n",
              "      <div>\n",
              "<style scoped>\n",
              "    .dataframe tbody tr th:only-of-type {\n",
              "        vertical-align: middle;\n",
              "    }\n",
              "\n",
              "    .dataframe tbody tr th {\n",
              "        vertical-align: top;\n",
              "    }\n",
              "\n",
              "    .dataframe thead th {\n",
              "        text-align: right;\n",
              "    }\n",
              "</style>\n",
              "<table border=\"1\" class=\"dataframe\">\n",
              "  <thead>\n",
              "    <tr style=\"text-align: right;\">\n",
              "      <th></th>\n",
              "      <th>arch</th>\n",
              "      <th>epochs</th>\n",
              "      <th>batch_size</th>\n",
              "      <th>training_time</th>\n",
              "      <th>rmse</th>\n",
              "    </tr>\n",
              "  </thead>\n",
              "  <tbody>\n",
              "    <tr>\n",
              "      <th>0</th>\n",
              "      <td>arch1</td>\n",
              "      <td>20</td>\n",
              "      <td>16</td>\n",
              "      <td>5.587697</td>\n",
              "      <td>0.305282</td>\n",
              "    </tr>\n",
              "    <tr>\n",
              "      <th>1</th>\n",
              "      <td>arch2</td>\n",
              "      <td>20</td>\n",
              "      <td>16</td>\n",
              "      <td>3.396195</td>\n",
              "      <td>0.452785</td>\n",
              "    </tr>\n",
              "    <tr>\n",
              "      <th>2</th>\n",
              "      <td>arch3</td>\n",
              "      <td>20</td>\n",
              "      <td>16</td>\n",
              "      <td>3.462990</td>\n",
              "      <td>0.329575</td>\n",
              "    </tr>\n",
              "    <tr>\n",
              "      <th>3</th>\n",
              "      <td>arch1</td>\n",
              "      <td>20</td>\n",
              "      <td>32</td>\n",
              "      <td>3.019727</td>\n",
              "      <td>0.324903</td>\n",
              "    </tr>\n",
              "    <tr>\n",
              "      <th>4</th>\n",
              "      <td>arch2</td>\n",
              "      <td>20</td>\n",
              "      <td>32</td>\n",
              "      <td>2.244933</td>\n",
              "      <td>0.373209</td>\n",
              "    </tr>\n",
              "    <tr>\n",
              "      <th>5</th>\n",
              "      <td>arch3</td>\n",
              "      <td>20</td>\n",
              "      <td>32</td>\n",
              "      <td>2.972670</td>\n",
              "      <td>0.350232</td>\n",
              "    </tr>\n",
              "    <tr>\n",
              "      <th>6</th>\n",
              "      <td>arch1</td>\n",
              "      <td>50</td>\n",
              "      <td>16</td>\n",
              "      <td>10.691885</td>\n",
              "      <td>0.332930</td>\n",
              "    </tr>\n",
              "    <tr>\n",
              "      <th>7</th>\n",
              "      <td>arch2</td>\n",
              "      <td>50</td>\n",
              "      <td>16</td>\n",
              "      <td>7.203234</td>\n",
              "      <td>0.332357</td>\n",
              "    </tr>\n",
              "    <tr>\n",
              "      <th>8</th>\n",
              "      <td>arch3</td>\n",
              "      <td>50</td>\n",
              "      <td>16</td>\n",
              "      <td>10.656707</td>\n",
              "      <td>0.309554</td>\n",
              "    </tr>\n",
              "    <tr>\n",
              "      <th>9</th>\n",
              "      <td>arch1</td>\n",
              "      <td>50</td>\n",
              "      <td>32</td>\n",
              "      <td>5.113555</td>\n",
              "      <td>0.329757</td>\n",
              "    </tr>\n",
              "    <tr>\n",
              "      <th>10</th>\n",
              "      <td>arch2</td>\n",
              "      <td>50</td>\n",
              "      <td>32</td>\n",
              "      <td>5.987244</td>\n",
              "      <td>0.340239</td>\n",
              "    </tr>\n",
              "    <tr>\n",
              "      <th>11</th>\n",
              "      <td>arch3</td>\n",
              "      <td>50</td>\n",
              "      <td>32</td>\n",
              "      <td>4.388158</td>\n",
              "      <td>0.329846</td>\n",
              "    </tr>\n",
              "    <tr>\n",
              "      <th>12</th>\n",
              "      <td>arch1</td>\n",
              "      <td>100</td>\n",
              "      <td>16</td>\n",
              "      <td>17.058556</td>\n",
              "      <td>0.333034</td>\n",
              "    </tr>\n",
              "    <tr>\n",
              "      <th>13</th>\n",
              "      <td>arch2</td>\n",
              "      <td>100</td>\n",
              "      <td>16</td>\n",
              "      <td>14.274149</td>\n",
              "      <td>0.333665</td>\n",
              "    </tr>\n",
              "    <tr>\n",
              "      <th>14</th>\n",
              "      <td>arch3</td>\n",
              "      <td>100</td>\n",
              "      <td>16</td>\n",
              "      <td>14.746724</td>\n",
              "      <td>0.316692</td>\n",
              "    </tr>\n",
              "    <tr>\n",
              "      <th>15</th>\n",
              "      <td>arch1</td>\n",
              "      <td>100</td>\n",
              "      <td>32</td>\n",
              "      <td>10.699123</td>\n",
              "      <td>0.324876</td>\n",
              "    </tr>\n",
              "    <tr>\n",
              "      <th>16</th>\n",
              "      <td>arch2</td>\n",
              "      <td>100</td>\n",
              "      <td>32</td>\n",
              "      <td>8.058410</td>\n",
              "      <td>0.308583</td>\n",
              "    </tr>\n",
              "    <tr>\n",
              "      <th>17</th>\n",
              "      <td>arch3</td>\n",
              "      <td>100</td>\n",
              "      <td>32</td>\n",
              "      <td>10.654225</td>\n",
              "      <td>0.312074</td>\n",
              "    </tr>\n",
              "  </tbody>\n",
              "</table>\n",
              "</div>\n",
              "      <button class=\"colab-df-convert\" onclick=\"convertToInteractive('df-9dcaa32f-5b11-4b41-b218-467881a3964e')\"\n",
              "              title=\"Convert this dataframe to an interactive table.\"\n",
              "              style=\"display:none;\">\n",
              "        \n",
              "  <svg xmlns=\"http://www.w3.org/2000/svg\" height=\"24px\"viewBox=\"0 0 24 24\"\n",
              "       width=\"24px\">\n",
              "    <path d=\"M0 0h24v24H0V0z\" fill=\"none\"/>\n",
              "    <path d=\"M18.56 5.44l.94 2.06.94-2.06 2.06-.94-2.06-.94-.94-2.06-.94 2.06-2.06.94zm-11 1L8.5 8.5l.94-2.06 2.06-.94-2.06-.94L8.5 2.5l-.94 2.06-2.06.94zm10 10l.94 2.06.94-2.06 2.06-.94-2.06-.94-.94-2.06-.94 2.06-2.06.94z\"/><path d=\"M17.41 7.96l-1.37-1.37c-.4-.4-.92-.59-1.43-.59-.52 0-1.04.2-1.43.59L10.3 9.45l-7.72 7.72c-.78.78-.78 2.05 0 2.83L4 21.41c.39.39.9.59 1.41.59.51 0 1.02-.2 1.41-.59l7.78-7.78 2.81-2.81c.8-.78.8-2.07 0-2.86zM5.41 20L4 18.59l7.72-7.72 1.47 1.35L5.41 20z\"/>\n",
              "  </svg>\n",
              "      </button>\n",
              "      \n",
              "  <style>\n",
              "    .colab-df-container {\n",
              "      display:flex;\n",
              "      flex-wrap:wrap;\n",
              "      gap: 12px;\n",
              "    }\n",
              "\n",
              "    .colab-df-convert {\n",
              "      background-color: #E8F0FE;\n",
              "      border: none;\n",
              "      border-radius: 50%;\n",
              "      cursor: pointer;\n",
              "      display: none;\n",
              "      fill: #1967D2;\n",
              "      height: 32px;\n",
              "      padding: 0 0 0 0;\n",
              "      width: 32px;\n",
              "    }\n",
              "\n",
              "    .colab-df-convert:hover {\n",
              "      background-color: #E2EBFA;\n",
              "      box-shadow: 0px 1px 2px rgba(60, 64, 67, 0.3), 0px 1px 3px 1px rgba(60, 64, 67, 0.15);\n",
              "      fill: #174EA6;\n",
              "    }\n",
              "\n",
              "    [theme=dark] .colab-df-convert {\n",
              "      background-color: #3B4455;\n",
              "      fill: #D2E3FC;\n",
              "    }\n",
              "\n",
              "    [theme=dark] .colab-df-convert:hover {\n",
              "      background-color: #434B5C;\n",
              "      box-shadow: 0px 1px 3px 1px rgba(0, 0, 0, 0.15);\n",
              "      filter: drop-shadow(0px 1px 2px rgba(0, 0, 0, 0.3));\n",
              "      fill: #FFFFFF;\n",
              "    }\n",
              "  </style>\n",
              "\n",
              "      <script>\n",
              "        const buttonEl =\n",
              "          document.querySelector('#df-9dcaa32f-5b11-4b41-b218-467881a3964e button.colab-df-convert');\n",
              "        buttonEl.style.display =\n",
              "          google.colab.kernel.accessAllowed ? 'block' : 'none';\n",
              "\n",
              "        async function convertToInteractive(key) {\n",
              "          const element = document.querySelector('#df-9dcaa32f-5b11-4b41-b218-467881a3964e');\n",
              "          const dataTable =\n",
              "            await google.colab.kernel.invokeFunction('convertToInteractive',\n",
              "                                                     [key], {});\n",
              "          if (!dataTable) return;\n",
              "\n",
              "          const docLinkHtml = 'Like what you see? Visit the ' +\n",
              "            '<a target=\"_blank\" href=https://colab.research.google.com/notebooks/data_table.ipynb>data table notebook</a>'\n",
              "            + ' to learn more about interactive tables.';\n",
              "          element.innerHTML = '';\n",
              "          dataTable['output_type'] = 'display_data';\n",
              "          await google.colab.output.renderOutput(dataTable, element);\n",
              "          const docLink = document.createElement('div');\n",
              "          docLink.innerHTML = docLinkHtml;\n",
              "          element.appendChild(docLink);\n",
              "        }\n",
              "      </script>\n",
              "    </div>\n",
              "  </div>\n",
              "  "
            ]
          },
          "metadata": {},
          "execution_count": 70
        }
      ]
    },
    {
      "cell_type": "markdown",
      "metadata": {
        "id": "rqrm7yA24NnA"
      },
      "source": [
        "<div style=\"background-color: #EDF7FF; border-color: #7C9DBF; border-left: 5px solid #7C9DBF; padding: 0.5em;\">\n",
        "<strong>Ejercicio (0.25 puntos):</strong> Representa en un gráfico el RMSE vs la configuración de los modelos \n",
        "\n",
        "</div>"
      ]
    },
    {
      "cell_type": "code",
      "execution_count": 76,
      "metadata": {
        "id": "o2P1ljcIzmEY",
        "colab": {
          "base_uri": "https://localhost:8080/",
          "height": 356
        },
        "outputId": "9d2b702a-b44d-4dba-f090-74fc69681ada"
      },
      "outputs": [
        {
          "output_type": "execute_result",
          "data": {
            "text/plain": [
              "(0.2, 0.5)"
            ]
          },
          "metadata": {},
          "execution_count": 76
        },
        {
          "output_type": "display_data",
          "data": {
            "text/plain": [
              "<Figure size 432x288 with 1 Axes>"
            ],
            "image/png": "[encoded data removed]"
          },
          "metadata": {
            "needs_background": "light"
          }
        }
      ],
      "source": [
        "#Plot\n",
        "def concatenate_settings(x):\n",
        "  val = x['arch'] + ' ' + str(x['epochs']) + ' ' + str(x['batch_size'])\n",
        "  return val\n",
        "\n",
        "linear_model_result_df['settings'] = linear_model_result_df.apply(lambda x: concatenate_settings(x), axis=1)\n",
        "\n",
        "# Index of min rmse value\n",
        "min_RMSE_index = linear_model_result_df['rmse'].idxmin()\n",
        "min_RMSE = linear_model_result_df['rmse'].min()\n",
        "\n",
        "graph_df = linear_model_result_df.drop(columns = ['arch', 'epochs', 'batch_size', 'training_time'])\n",
        "ax = graph_df.plot.bar(x = 'settings', y = 'rmse')\n",
        "ax.text(min_RMSE_index, min_RMSE + 0.02, 'Min RMSE', rotation='vertical')\n",
        "ax.set_ylim(0.2, 0.5)\n"
      ]
    },
    {
      "cell_type": "markdown",
      "metadata": {
        "id": "t4N_tg0l6QKu"
      },
      "source": [
        "### Elección mejor modelo y predicción"
      ]
    },
    {
      "cell_type": "markdown",
      "metadata": {
        "id": "AEZsFSi34t-9"
      },
      "source": [
        "<div style=\"background-color: #EDF7FF; border-color: #7C9DBF; border-left: 5px solid #7C9DBF; padding: 0.5em;\">\n",
        "<strong>Ejercicio (1 punto):</strong> Identifica la configuración que proporciona mejores resultados:\n",
        "<ul> \n",
        "<li>Justifica la elección del modelo</li>\n",
        "<li>Compila y entrena el modelo elegido. Nota: para la entrega, presentar con verbose=0</li>\n",
        "<li>Muestra la correspondiente gráfica de pérdida de los conjuntos de entrenamiento y validación</li>\n",
        "<li>Calcula las predicciones del precio y muestra en una tabla el Precio original (<code>price</code>) y el Precio predicho (<code>predicted_price</code>) para las 10 primeras filas del conjunto de test</li>\n",
        "<li>Comenta los resultados obtenidos</li>\n",
        "</ul> \n",
        "</div>"
      ]
    },
    {
      "cell_type": "code",
      "execution_count": 49,
      "metadata": {
        "id": "yTfD3bP25nlO"
      },
      "outputs": [],
      "source": [
        "#Best configuration justification\n"
      ]
    },
    {
      "cell_type": "markdown",
      "source": [
        "Los modelos con un `batch_size=16` son prácticamente el doble de lentos que los modelos con `batch_size=32`. En este orden de magnitud, por la cantidad de datos, se podría tolerar un entrenamiento de 20s, pero para un crecimiento de datos podría ser insuficiente.\n",
        "\n",
        "Por otra parte, tenemos que el mejor `rmse=0.30` así que deberíamos encontrar un modelo con un tamaño de lotes de 32 y un rmse cercano al mejor.\n",
        "Finalmente, vemos como a mayor cantidad de èpocas, mayor tiempo de entrenamiento y un rmse parecido, por tanto, también buscaría un modelo con un número de épocas bajo, un tamaño de lotes de 32 y el menor rmse posible cercano a 0.30.\n",
        "\n",
        "Mi **elección** por tanto es:\n",
        "\n",
        "| arch | epochs | batch size | rmse |\n",
        "|------|--------|------------|------|\n",
        "| arch1 | 20 | 32 | 0.325 |\n",
        "\n",
        "**NOTA**: He considerado tomar en cuenta el tiempo de entrenamiento para la comparativa aunque no se haya hecho gráfica al respecto."
      ],
      "metadata": {
        "id": "k-T9_KFW6OJu"
      }
    },
    {
      "cell_type": "code",
      "execution_count": 50,
      "metadata": {
        "id": "HX-ArM1vFNhX"
      },
      "outputs": [],
      "source": [
        "#Create, compile and fit ANN best model\n",
        "model = create_linear_model(0)[1]\n",
        "history = model.fit(X_train, y_train, epochs=20, batch_size=32,\n",
        "                    validation_data=(X_test, y_test), verbose=0)\n",
        "results = model.evaluate(X_test, y_test, batch_size=32, verbose=0)"
      ]
    },
    {
      "cell_type": "code",
      "execution_count": 51,
      "metadata": {
        "id": "NuBBa_vgk7Ci",
        "colab": {
          "base_uri": "https://localhost:8080/",
          "height": 295
        },
        "outputId": "7ce60002-dfd2-4c7a-d11b-a7f989a322bf"
      },
      "outputs": [
        {
          "output_type": "display_data",
          "data": {
            "text/plain": [
              "<Figure size 432x288 with 1 Axes>"
            ],
            "image/png": "[encoded data removed]"
          },
          "metadata": {
            "needs_background": "light"
          }
        }
      ],
      "source": [
        "#Plot\n",
        "loss = history.history['loss']\n",
        "epochs = range(0,20)\n",
        "\n",
        "eval_loss = results\n",
        "\n",
        "plt.plot(epochs, loss, 'g', label='Training Loss')\n",
        "\n",
        "# Situamos los puntos del eval en en centro del gráfico\n",
        "plt.plot(10, eval_loss, 'o', label='Eval Loss')\n",
        "\n",
        "plt.title('Training vs Eval')\n",
        "plt.xticks(epochs)\n",
        "plt.xlabel('Training Epochs')\n",
        "plt.ylabel('Loss')\n",
        "plt.legend()\n",
        "plt.show()"
      ]
    },
    {
      "cell_type": "code",
      "execution_count": 52,
      "metadata": {
        "id": "ID7eKLDdF0P4",
        "colab": {
          "base_uri": "https://localhost:8080/",
          "height": 363
        },
        "outputId": "99dc2953-ee14-4043-ef44-ea0ad6070a15"
      },
      "outputs": [
        {
          "output_type": "execute_result",
          "data": {
            "text/plain": [
              "     price  predicted_price\n",
              "0   8500.0      8766.754883\n",
              "1  11250.0     10284.430664\n",
              "2  11895.0     10941.610352\n",
              "3  11500.0     11154.433594\n",
              "4  10200.0     11301.083984\n",
              "5  12950.0     12016.457031\n",
              "6  10500.0      9851.264648\n",
              "7   9250.0      9985.843750\n",
              "8  12950.0     11280.659180\n",
              "9  22750.0     19491.492188"
            ],
            "text/html": [
              "\n",
              "  <div id=\"df-111c93a4-913c-4d12-b004-71d67fd1dab0\">\n",
              "    <div class=\"colab-df-container\">\n",
              "      <div>\n",
              "<style scoped>\n",
              "    .dataframe tbody tr th:only-of-type {\n",
              "        vertical-align: middle;\n",
              "    }\n",
              "\n",
              "    .dataframe tbody tr th {\n",
              "        vertical-align: top;\n",
              "    }\n",
              "\n",
              "    .dataframe thead th {\n",
              "        text-align: right;\n",
              "    }\n",
              "</style>\n",
              "<table border=\"1\" class=\"dataframe\">\n",
              "  <thead>\n",
              "    <tr style=\"text-align: right;\">\n",
              "      <th></th>\n",
              "      <th>price</th>\n",
              "      <th>predicted_price</th>\n",
              "    </tr>\n",
              "  </thead>\n",
              "  <tbody>\n",
              "    <tr>\n",
              "      <th>0</th>\n",
              "      <td>8500.0</td>\n",
              "      <td>8766.754883</td>\n",
              "    </tr>\n",
              "    <tr>\n",
              "      <th>1</th>\n",
              "      <td>11250.0</td>\n",
              "      <td>10284.430664</td>\n",
              "    </tr>\n",
              "    <tr>\n",
              "      <th>2</th>\n",
              "      <td>11895.0</td>\n",
              "      <td>10941.610352</td>\n",
              "    </tr>\n",
              "    <tr>\n",
              "      <th>3</th>\n",
              "      <td>11500.0</td>\n",
              "      <td>11154.433594</td>\n",
              "    </tr>\n",
              "    <tr>\n",
              "      <th>4</th>\n",
              "      <td>10200.0</td>\n",
              "      <td>11301.083984</td>\n",
              "    </tr>\n",
              "    <tr>\n",
              "      <th>5</th>\n",
              "      <td>12950.0</td>\n",
              "      <td>12016.457031</td>\n",
              "    </tr>\n",
              "    <tr>\n",
              "      <th>6</th>\n",
              "      <td>10500.0</td>\n",
              "      <td>9851.264648</td>\n",
              "    </tr>\n",
              "    <tr>\n",
              "      <th>7</th>\n",
              "      <td>9250.0</td>\n",
              "      <td>9985.843750</td>\n",
              "    </tr>\n",
              "    <tr>\n",
              "      <th>8</th>\n",
              "      <td>12950.0</td>\n",
              "      <td>11280.659180</td>\n",
              "    </tr>\n",
              "    <tr>\n",
              "      <th>9</th>\n",
              "      <td>22750.0</td>\n",
              "      <td>19491.492188</td>\n",
              "    </tr>\n",
              "  </tbody>\n",
              "</table>\n",
              "</div>\n",
              "      <button class=\"colab-df-convert\" onclick=\"convertToInteractive('df-111c93a4-913c-4d12-b004-71d67fd1dab0')\"\n",
              "              title=\"Convert this dataframe to an interactive table.\"\n",
              "              style=\"display:none;\">\n",
              "        \n",
              "  <svg xmlns=\"http://www.w3.org/2000/svg\" height=\"24px\"viewBox=\"0 0 24 24\"\n",
              "       width=\"24px\">\n",
              "    <path d=\"M0 0h24v24H0V0z\" fill=\"none\"/>\n",
              "    <path d=\"M18.56 5.44l.94 2.06.94-2.06 2.06-.94-2.06-.94-.94-2.06-.94 2.06-2.06.94zm-11 1L8.5 8.5l.94-2.06 2.06-.94-2.06-.94L8.5 2.5l-.94 2.06-2.06.94zm10 10l.94 2.06.94-2.06 2.06-.94-2.06-.94-.94-2.06-.94 2.06-2.06.94z\"/><path d=\"M17.41 7.96l-1.37-1.37c-.4-.4-.92-.59-1.43-.59-.52 0-1.04.2-1.43.59L10.3 9.45l-7.72 7.72c-.78.78-.78 2.05 0 2.83L4 21.41c.39.39.9.59 1.41.59.51 0 1.02-.2 1.41-.59l7.78-7.78 2.81-2.81c.8-.78.8-2.07 0-2.86zM5.41 20L4 18.59l7.72-7.72 1.47 1.35L5.41 20z\"/>\n",
              "  </svg>\n",
              "      </button>\n",
              "      \n",
              "  <style>\n",
              "    .colab-df-container {\n",
              "      display:flex;\n",
              "      flex-wrap:wrap;\n",
              "      gap: 12px;\n",
              "    }\n",
              "\n",
              "    .colab-df-convert {\n",
              "      background-color: #E8F0FE;\n",
              "      border: none;\n",
              "      border-radius: 50%;\n",
              "      cursor: pointer;\n",
              "      display: none;\n",
              "      fill: #1967D2;\n",
              "      height: 32px;\n",
              "      padding: 0 0 0 0;\n",
              "      width: 32px;\n",
              "    }\n",
              "\n",
              "    .colab-df-convert:hover {\n",
              "      background-color: #E2EBFA;\n",
              "      box-shadow: 0px 1px 2px rgba(60, 64, 67, 0.3), 0px 1px 3px 1px rgba(60, 64, 67, 0.15);\n",
              "      fill: #174EA6;\n",
              "    }\n",
              "\n",
              "    [theme=dark] .colab-df-convert {\n",
              "      background-color: #3B4455;\n",
              "      fill: #D2E3FC;\n",
              "    }\n",
              "\n",
              "    [theme=dark] .colab-df-convert:hover {\n",
              "      background-color: #434B5C;\n",
              "      box-shadow: 0px 1px 3px 1px rgba(0, 0, 0, 0.15);\n",
              "      filter: drop-shadow(0px 1px 2px rgba(0, 0, 0, 0.3));\n",
              "      fill: #FFFFFF;\n",
              "    }\n",
              "  </style>\n",
              "\n",
              "      <script>\n",
              "        const buttonEl =\n",
              "          document.querySelector('#df-111c93a4-913c-4d12-b004-71d67fd1dab0 button.colab-df-convert');\n",
              "        buttonEl.style.display =\n",
              "          google.colab.kernel.accessAllowed ? 'block' : 'none';\n",
              "\n",
              "        async function convertToInteractive(key) {\n",
              "          const element = document.querySelector('#df-111c93a4-913c-4d12-b004-71d67fd1dab0');\n",
              "          const dataTable =\n",
              "            await google.colab.kernel.invokeFunction('convertToInteractive',\n",
              "                                                     [key], {});\n",
              "          if (!dataTable) return;\n",
              "\n",
              "          const docLinkHtml = 'Like what you see? Visit the ' +\n",
              "            '<a target=\"_blank\" href=https://colab.research.google.com/notebooks/data_table.ipynb>data table notebook</a>'\n",
              "            + ' to learn more about interactive tables.';\n",
              "          element.innerHTML = '';\n",
              "          dataTable['output_type'] = 'display_data';\n",
              "          await google.colab.output.renderOutput(dataTable, element);\n",
              "          const docLink = document.createElement('div');\n",
              "          docLink.innerHTML = docLinkHtml;\n",
              "          element.appendChild(docLink);\n",
              "        }\n",
              "      </script>\n",
              "    </div>\n",
              "  </div>\n",
              "  "
            ]
          },
          "metadata": {},
          "execution_count": 52
        }
      ],
      "source": [
        "#Generate Predictions on testing data\n",
        "def prepare_price(a, scaler):\n",
        "  ''' Prepares price to be shown '''\n",
        "  p = scaler.inverse_transform(a) \n",
        "  return p.flatten()\n",
        "\n",
        "y_pred = model.predict(X_test)\n",
        "\n",
        "# Inverse Standarization (to EUR) and prepare data to dataframe column\n",
        "price = prepare_price(y_test, scaler)\n",
        "predicted_price = prepare_price(y_pred, scaler)\n",
        "\n",
        "pred_df = pd.DataFrame()\n",
        "pred_df['price'] = pd.Series(price)\n",
        "pred_df['predicted_price'] = pd.Series(predicted_price)\n",
        "pred_df.head(10)\n"
      ]
    },
    {
      "cell_type": "code",
      "execution_count": 53,
      "metadata": {
        "id": "7gqSXyS8511-"
      },
      "outputs": [],
      "source": [
        "#Comment results\n"
      ]
    }
  ],
  "metadata": {
    "colab": {
      "collapsed_sections": [],
      "name": "20212_M2_875_PEC1_Enunciado.ipynb",
      "provenance": [],
      "toc_visible": true
    },
    "kernelspec": {
      "display_name": "Python 3 (ipykernel)",
      "language": "python",
      "name": "python3"
    },
    "language_info": {
      "codemirror_mode": {
        "name": "ipython",
        "version": 3
      },
      "file_extension": ".py",
      "mimetype": "text/x-python",
      "name": "python",
      "nbconvert_exporter": "python",
      "pygments_lexer": "ipython3",
      "version": "3.9.1"
    }
  },
  "nbformat": 4,
  "nbformat_minor": 0
}