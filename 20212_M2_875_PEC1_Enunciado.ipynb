{
  "cells": [
    {
      "cell_type": "markdown",
      "metadata": {
        "id": "YO1mZRrP4FT2"
      },
      "source": [
        "<div style=\"width: 100%; clear: both;\">\n",
        "<div style=\"float: left; width: 50%;\">\n",
        "<img src=\"http://www.uoc.edu/portal/_resources/common/imatges/marca_UOC/UOC_Masterbrand.jpg\", align=\"left\">\n",
        "</div>\n",
        "<div style=\"float: right; width: 50%;\">\n",
        "<p style=\"margin: 0; padding-top: 22px; text-align:right;\">M2.875 · Deep Learning · PEC1</p>\n",
        "<p style=\"margin: 0; text-align:right;\">2021-2 · Máster universitario en Ciencia de datos (Data science)</p>\n",
        "<p style=\"margin: 0; text-align:right; padding-button: 100px;\">Estudios de Informática, Multimedia y Telecomunicación</p>\n",
        "</div>\n",
        "</div>\n",
        "<div style=\"width:100%;\">&nbsp;</div>\n",
        "\n",
        "\n",
        "# PEC 1: Redes neuronales artificiales\n",
        "\n",
        "En esta práctica implementaremos redes neuronales artificiales para resolver problemas de:\n",
        "\n",
        "   - Clasificación\n",
        "   - Regresión   \n",
        "\n",
        "\n",
        "**Importante: La entrega debe hacerse en formato notebook y en formato html donde se vea el código y los resultados y comentarios de cada ejercicio. Para exportar el notebook a html puede hacerse desde el menú File $\\to$ Download as $\\to$ HTML.**"
      ]
    },
    {
      "cell_type": "markdown",
      "metadata": {
        "id": "M35X9fQv4dUv"
      },
      "source": [
        "## 0. Contexto y carga de librerías"
      ]
    },
    {
      "cell_type": "markdown",
      "metadata": {
        "id": "GtU00Tcg-KHd"
      },
      "source": [
        "El siguiente código carga los paquetes necesarios para la práctica y lee el fichero de datos que usaremos."
      ]
    },
    {
      "cell_type": "markdown",
      "metadata": {
        "id": "m9pjq3hFA5Yg"
      },
      "source": [
        "Los datos contienen información sobre coches de segunda mano, sus características y el precio de re-venta en euros. En un primer ejercicio diseñaremos un modelo que nos permita clasificar los coches en tres grupos según su gama de precio. En el segundo ejercicio diseñaremos un modelo de regresión para predecir el precio de re-venta."
      ]
    },
    {
      "cell_type": "code",
      "execution_count": 1,
      "metadata": {
        "id": "19ixS6Vp-KHd"
      },
      "outputs": [],
      "source": [
        "import pandas as pd\n",
        "import numpy as np\n",
        "\n",
        "import matplotlib.pyplot as plt\n",
        "import seaborn as sns\n",
        "import timeit\n",
        "\n",
        "import keras\n",
        "from keras.models import Sequential, Model\n",
        "from keras.layers import Dense\n",
        "from tensorflow.keras.optimizers import Adam, SGD, Adadelta, Adagrad\n",
        "\n",
        "from sklearn.model_selection import train_test_split\n",
        "from sklearn.metrics import confusion_matrix, mean_squared_error, classification_report\n",
        "from sklearn.preprocessing import OneHotEncoder, StandardScaler"
      ]
    },
    {
      "cell_type": "code",
      "execution_count": 2,
      "metadata": {
        "id": "vmCg_5zXItWM",
        "colab": {
          "base_uri": "https://localhost:8080/"
        },
        "outputId": "a41d7999-324f-4b7c-cd1a-4943753d1af4"
      },
      "outputs": [
        {
          "output_type": "stream",
          "name": "stdout",
          "text": [
            "Drive already mounted at /content/drive; to attempt to forcibly remount, call drive.mount(\"/content/drive\", force_remount=True).\n"
          ]
        }
      ],
      "source": [
        "##To read directly from Drive in Google Colab use:\n",
        "from google.colab import drive\n",
        "drive.mount('/content/drive')\n",
        "#input path: \"./drive/MyDrive/CarPricesData.pkl\"\n",
        "\n",
        "##To read in Kaggle, upload file in Kaggle \n",
        "##input path: \"/kaggle/input/botnetdl/botnet_dataset_DL.csv\""
      ]
    },
    {
      "cell_type": "code",
      "execution_count": 3,
      "metadata": {
        "id": "oAEbN2Xc-KHe"
      },
      "outputs": [],
      "source": [
        "df = pd.read_csv(\"/content/drive/My Drive/dataset.csv\") #change path if needed"
      ]
    },
    {
      "cell_type": "code",
      "execution_count": 4,
      "metadata": {
        "id": "g8gJfmpY-r2p",
        "colab": {
          "base_uri": "https://localhost:8080/",
          "height": 206
        },
        "outputId": "7a94b678-2128-4e49-c5f0-9f51f60506af"
      },
      "outputs": [
        {
          "output_type": "execute_result",
          "data": {
            "text/plain": [
              "   months_old      km fuel_type  horsepower  metcolor  automatic  size_engine  \\\n",
              "0          73   97494    Petrol         110         1          0         1600   \n",
              "1          48   89049    Petrol          97         1          0         1400   \n",
              "2          40  161000    Diesel          69         1          0         1900   \n",
              "3          37   38812    Petrol          97         0          0         1400   \n",
              "4          55   33230    Petrol         110         0          0         1600   \n",
              "\n",
              "   doors_num  weight  price  \n",
              "0          5    1085  10950  \n",
              "1          5    1060  13500  \n",
              "2          3    1105  13950  \n",
              "3          3    1025  13450  \n",
              "4          3    1050  13500  "
            ],
            "text/html": [
              "\n",
              "  <div id=\"df-f76f34f2-e70d-4968-adc6-555ebcaf8bc7\">\n",
              "    <div class=\"colab-df-container\">\n",
              "      <div>\n",
              "<style scoped>\n",
              "    .dataframe tbody tr th:only-of-type {\n",
              "        vertical-align: middle;\n",
              "    }\n",
              "\n",
              "    .dataframe tbody tr th {\n",
              "        vertical-align: top;\n",
              "    }\n",
              "\n",
              "    .dataframe thead th {\n",
              "        text-align: right;\n",
              "    }\n",
              "</style>\n",
              "<table border=\"1\" class=\"dataframe\">\n",
              "  <thead>\n",
              "    <tr style=\"text-align: right;\">\n",
              "      <th></th>\n",
              "      <th>months_old</th>\n",
              "      <th>km</th>\n",
              "      <th>fuel_type</th>\n",
              "      <th>horsepower</th>\n",
              "      <th>metcolor</th>\n",
              "      <th>automatic</th>\n",
              "      <th>size_engine</th>\n",
              "      <th>doors_num</th>\n",
              "      <th>weight</th>\n",
              "      <th>price</th>\n",
              "    </tr>\n",
              "  </thead>\n",
              "  <tbody>\n",
              "    <tr>\n",
              "      <th>0</th>\n",
              "      <td>73</td>\n",
              "      <td>97494</td>\n",
              "      <td>Petrol</td>\n",
              "      <td>110</td>\n",
              "      <td>1</td>\n",
              "      <td>0</td>\n",
              "      <td>1600</td>\n",
              "      <td>5</td>\n",
              "      <td>1085</td>\n",
              "      <td>10950</td>\n",
              "    </tr>\n",
              "    <tr>\n",
              "      <th>1</th>\n",
              "      <td>48</td>\n",
              "      <td>89049</td>\n",
              "      <td>Petrol</td>\n",
              "      <td>97</td>\n",
              "      <td>1</td>\n",
              "      <td>0</td>\n",
              "      <td>1400</td>\n",
              "      <td>5</td>\n",
              "      <td>1060</td>\n",
              "      <td>13500</td>\n",
              "    </tr>\n",
              "    <tr>\n",
              "      <th>2</th>\n",
              "      <td>40</td>\n",
              "      <td>161000</td>\n",
              "      <td>Diesel</td>\n",
              "      <td>69</td>\n",
              "      <td>1</td>\n",
              "      <td>0</td>\n",
              "      <td>1900</td>\n",
              "      <td>3</td>\n",
              "      <td>1105</td>\n",
              "      <td>13950</td>\n",
              "    </tr>\n",
              "    <tr>\n",
              "      <th>3</th>\n",
              "      <td>37</td>\n",
              "      <td>38812</td>\n",
              "      <td>Petrol</td>\n",
              "      <td>97</td>\n",
              "      <td>0</td>\n",
              "      <td>0</td>\n",
              "      <td>1400</td>\n",
              "      <td>3</td>\n",
              "      <td>1025</td>\n",
              "      <td>13450</td>\n",
              "    </tr>\n",
              "    <tr>\n",
              "      <th>4</th>\n",
              "      <td>55</td>\n",
              "      <td>33230</td>\n",
              "      <td>Petrol</td>\n",
              "      <td>110</td>\n",
              "      <td>0</td>\n",
              "      <td>0</td>\n",
              "      <td>1600</td>\n",
              "      <td>3</td>\n",
              "      <td>1050</td>\n",
              "      <td>13500</td>\n",
              "    </tr>\n",
              "  </tbody>\n",
              "</table>\n",
              "</div>\n",
              "      <button class=\"colab-df-convert\" onclick=\"convertToInteractive('df-f76f34f2-e70d-4968-adc6-555ebcaf8bc7')\"\n",
              "              title=\"Convert this dataframe to an interactive table.\"\n",
              "              style=\"display:none;\">\n",
              "        \n",
              "  <svg xmlns=\"http://www.w3.org/2000/svg\" height=\"24px\"viewBox=\"0 0 24 24\"\n",
              "       width=\"24px\">\n",
              "    <path d=\"M0 0h24v24H0V0z\" fill=\"none\"/>\n",
              "    <path d=\"M18.56 5.44l.94 2.06.94-2.06 2.06-.94-2.06-.94-.94-2.06-.94 2.06-2.06.94zm-11 1L8.5 8.5l.94-2.06 2.06-.94-2.06-.94L8.5 2.5l-.94 2.06-2.06.94zm10 10l.94 2.06.94-2.06 2.06-.94-2.06-.94-.94-2.06-.94 2.06-2.06.94z\"/><path d=\"M17.41 7.96l-1.37-1.37c-.4-.4-.92-.59-1.43-.59-.52 0-1.04.2-1.43.59L10.3 9.45l-7.72 7.72c-.78.78-.78 2.05 0 2.83L4 21.41c.39.39.9.59 1.41.59.51 0 1.02-.2 1.41-.59l7.78-7.78 2.81-2.81c.8-.78.8-2.07 0-2.86zM5.41 20L4 18.59l7.72-7.72 1.47 1.35L5.41 20z\"/>\n",
              "  </svg>\n",
              "      </button>\n",
              "      \n",
              "  <style>\n",
              "    .colab-df-container {\n",
              "      display:flex;\n",
              "      flex-wrap:wrap;\n",
              "      gap: 12px;\n",
              "    }\n",
              "\n",
              "    .colab-df-convert {\n",
              "      background-color: #E8F0FE;\n",
              "      border: none;\n",
              "      border-radius: 50%;\n",
              "      cursor: pointer;\n",
              "      display: none;\n",
              "      fill: #1967D2;\n",
              "      height: 32px;\n",
              "      padding: 0 0 0 0;\n",
              "      width: 32px;\n",
              "    }\n",
              "\n",
              "    .colab-df-convert:hover {\n",
              "      background-color: #E2EBFA;\n",
              "      box-shadow: 0px 1px 2px rgba(60, 64, 67, 0.3), 0px 1px 3px 1px rgba(60, 64, 67, 0.15);\n",
              "      fill: #174EA6;\n",
              "    }\n",
              "\n",
              "    [theme=dark] .colab-df-convert {\n",
              "      background-color: #3B4455;\n",
              "      fill: #D2E3FC;\n",
              "    }\n",
              "\n",
              "    [theme=dark] .colab-df-convert:hover {\n",
              "      background-color: #434B5C;\n",
              "      box-shadow: 0px 1px 3px 1px rgba(0, 0, 0, 0.15);\n",
              "      filter: drop-shadow(0px 1px 2px rgba(0, 0, 0, 0.3));\n",
              "      fill: #FFFFFF;\n",
              "    }\n",
              "  </style>\n",
              "\n",
              "      <script>\n",
              "        const buttonEl =\n",
              "          document.querySelector('#df-f76f34f2-e70d-4968-adc6-555ebcaf8bc7 button.colab-df-convert');\n",
              "        buttonEl.style.display =\n",
              "          google.colab.kernel.accessAllowed ? 'block' : 'none';\n",
              "\n",
              "        async function convertToInteractive(key) {\n",
              "          const element = document.querySelector('#df-f76f34f2-e70d-4968-adc6-555ebcaf8bc7');\n",
              "          const dataTable =\n",
              "            await google.colab.kernel.invokeFunction('convertToInteractive',\n",
              "                                                     [key], {});\n",
              "          if (!dataTable) return;\n",
              "\n",
              "          const docLinkHtml = 'Like what you see? Visit the ' +\n",
              "            '<a target=\"_blank\" href=https://colab.research.google.com/notebooks/data_table.ipynb>data table notebook</a>'\n",
              "            + ' to learn more about interactive tables.';\n",
              "          element.innerHTML = '';\n",
              "          dataTable['output_type'] = 'display_data';\n",
              "          await google.colab.output.renderOutput(dataTable, element);\n",
              "          const docLink = document.createElement('div');\n",
              "          docLink.innerHTML = docLinkHtml;\n",
              "          element.appendChild(docLink);\n",
              "        }\n",
              "      </script>\n",
              "    </div>\n",
              "  </div>\n",
              "  "
            ]
          },
          "metadata": {},
          "execution_count": 4
        }
      ],
      "source": [
        "df.head(5)"
      ]
    },
    {
      "cell_type": "markdown",
      "metadata": {
        "id": "v4uy3S_l4uMK"
      },
      "source": [
        "## 1. Exploración (1 punto)\n",
        "\n"
      ]
    },
    {
      "cell_type": "markdown",
      "metadata": {
        "id": "-OTrT_SvJoYF"
      },
      "source": [
        "En primer lugar exploraremos el conjunto de datos. "
      ]
    },
    {
      "cell_type": "markdown",
      "metadata": {
        "id": "WArt2HG7n1qY"
      },
      "source": [
        "<div style=\"background-color: #EDF7FF; border-color: #7C9DBF; border-left: 5px solid #7C9DBF; padding: 0.5em;\">\n",
        "<strong>Ejercicio (1 punto):</strong> Explora los datos: \n",
        "\n",
        "<ul>\n",
        "        \n",
        "<li> Indica el tamaño del dataset y el número de variables categóricas y continuas del conjunto de datos</li> \n",
        "<li>   Grafica las distribuciones de las variables categóricas y de las continuas</li>\n",
        "<li>    Genera una tabla de correlaciones de todas las variables usando la librería <code>seaborn</code>, mostrando en cada casilla el valor de la correlación</li>\n",
        "<li>    Genera una tabla (usando la librería <code>seaborn</code>) que muestre únicamente las correlaciones entre el precio y el resto de variables, ordenada de mayor a menor según los valores de correlación</li>\n",
        "<li>  Comenta los resultados de la exploración de datos</li>\n",
        "</ul>\n",
        "\n",
        "</div>"
      ]
    },
    {
      "cell_type": "markdown",
      "metadata": {
        "id": "V10fH2QxP_vg"
      },
      "source": [
        "\n",
        "\n",
        "*   **Variables**\n",
        "\n"
      ]
    },
    {
      "cell_type": "code",
      "execution_count": 5,
      "metadata": {
        "id": "N3TOQ_ko_COF",
        "colab": {
          "base_uri": "https://localhost:8080/"
        },
        "outputId": "c866092d-5d0c-4c59-fa78-bb7b11885eab"
      },
      "outputs": [
        {
          "output_type": "execute_result",
          "data": {
            "text/plain": [
              "<bound method NDFrame.describe of       months_old      km fuel_type  horsepower  metcolor  automatic  \\\n",
              "0             73   97494    Petrol         110         1          0   \n",
              "1             48   89049    Petrol          97         1          0   \n",
              "2             40  161000    Diesel          69         1          0   \n",
              "3             37   38812    Petrol          97         0          0   \n",
              "4             55   33230    Petrol         110         0          0   \n",
              "...          ...     ...       ...         ...       ...        ...   \n",
              "1431          48   78600    Petrol         110         1          0   \n",
              "1432          80   86109    Petrol         110         1          0   \n",
              "1433          77   82103    Petrol          86         1          0   \n",
              "1434          40   38653    Petrol         110         1          0   \n",
              "1435          59   43818    Petrol         110         0          0   \n",
              "\n",
              "      size_engine  doors_num  weight  price  \n",
              "0            1600          5    1085  10950  \n",
              "1            1400          5    1060  13500  \n",
              "2            1900          3    1105  13950  \n",
              "3            1400          3    1025  13450  \n",
              "4            1600          3    1050  13500  \n",
              "...           ...        ...     ...    ...  \n",
              "1431         1600          5    1075  11750  \n",
              "1432         1600          3    1055   8750  \n",
              "1433         1300          3    1015   8950  \n",
              "1434         1600          5    1080  14950  \n",
              "1435         1600          5    1070  11950  \n",
              "\n",
              "[1436 rows x 10 columns]>"
            ]
          },
          "metadata": {},
          "execution_count": 5
        }
      ],
      "source": [
        "#Dataset size\n",
        "df.describe"
      ]
    },
    {
      "cell_type": "code",
      "execution_count": 6,
      "metadata": {
        "id": "i8-SrElyJFy3"
      },
      "outputs": [],
      "source": [
        "#Number of categorical and continuous variables\n",
        "num_categorical_variables = 4\n",
        "num_continuous_variables = 6"
      ]
    },
    {
      "cell_type": "markdown",
      "metadata": {
        "id": "bJvw7JwmQFss"
      },
      "source": [
        "*   **Distribuciones**\n",
        "\n",
        "\n",
        "\n"
      ]
    },
    {
      "cell_type": "code",
      "execution_count": 7,
      "metadata": {
        "id": "Oks_R5EhN5om",
        "colab": {
          "base_uri": "https://localhost:8080/",
          "height": 312
        },
        "outputId": "14a96c58-a99b-4779-c659-94485cef64f3"
      },
      "outputs": [
        {
          "output_type": "display_data",
          "data": {
            "text/plain": [
              "<Figure size 1800x288 with 4 Axes>"
            ],
            "image/png": "[encoded data removed]"
          },
          "metadata": {
            "needs_background": "light"
          }
        }
      ],
      "source": [
        "#Distributions of categorical variables\n",
        "fig, ax = plt.subplots(nrows=1, ncols=num_categorical_variables, figsize=(25,4))\n",
        "\n",
        "feats_to_explore = ['fuel_type', 'metcolor', 'automatic', 'doors_num']\n",
        "for i in range(len(feats_to_explore)):\n",
        "    df[feats_to_explore[i]].value_counts().plot.bar(ax=ax[i])\n",
        "    ax[i].set_title(feats_to_explore[i])\n",
        "    \n",
        "plt.suptitle('Distributions of categorical variables', weight='bold', size=16)\n",
        "fig.subplots_adjust(top=0.8)\n",
        "plt.show()\n"
      ]
    },
    {
      "cell_type": "code",
      "execution_count": 8,
      "metadata": {
        "id": "tv7CULUcPiTc",
        "colab": {
          "base_uri": "https://localhost:8080/",
          "height": 292
        },
        "outputId": "63545d13-fda0-4c22-f770-2743d1d6ca8d"
      },
      "outputs": [
        {
          "output_type": "display_data",
          "data": {
            "text/plain": [
              "<Figure size 1800x288 with 6 Axes>"
            ],
            "image/png": "[encoded data removed]"
          },
          "metadata": {
            "needs_background": "light"
          }
        }
      ],
      "source": [
        "#Distributions continuous variables\n",
        "fig, ax = plt.subplots(nrows=1, ncols=num_continuous_variables, figsize=(25,4))\n",
        "\n",
        "feats_to_explore = ['months_old', 'km', 'horsepower', 'size_engine', 'weight', 'price']\n",
        "for i in range(len(feats_to_explore)):\n",
        "    df.hist(alpha=0.5, column=feats_to_explore[i], ax=ax[i])\n",
        "    \n",
        "plt.suptitle('Coninuous Variables Distributions', weight='bold', size=16)\n",
        "fig.subplots_adjust(top=0.8)\n",
        "plt.show()"
      ]
    },
    {
      "cell_type": "markdown",
      "metadata": {
        "id": "YPbtmbqRASsM"
      },
      "source": [
        "*   **Correlaciones**\n",
        "\n",
        "\n"
      ]
    },
    {
      "cell_type": "code",
      "execution_count": 9,
      "metadata": {
        "id": "LvO4C7ymANXf",
        "colab": {
          "base_uri": "https://localhost:8080/",
          "height": 318
        },
        "outputId": "cc649f81-7082-4123-cb60-0772678049f0"
      },
      "outputs": [
        {
          "output_type": "display_data",
          "data": {
            "text/plain": [
              "<Figure size 432x288 with 2 Axes>"
            ],
            "image/png": "[encoded data removed]"
          },
          "metadata": {
            "needs_background": "light"
          }
        }
      ],
      "source": [
        "#All variables correlations\n",
        "corr = df.corr()\n",
        "ax = sns.heatmap(corr, cmap=\"Blues\", annot=True, linewidths=.5)"
      ]
    },
    {
      "cell_type": "code",
      "execution_count": 10,
      "metadata": {
        "id": "RSJWiWThAQj5",
        "colab": {
          "base_uri": "https://localhost:8080/",
          "height": 269
        },
        "outputId": "e743d89d-ab09-46ce-f788-c218b929c987"
      },
      "outputs": [
        {
          "output_type": "display_data",
          "data": {
            "text/plain": [
              "<Figure size 432x288 with 2 Axes>"
            ],
            "image/png": "[encoded data removed]"
          },
          "metadata": {
            "needs_background": "light"
          }
        }
      ],
      "source": [
        "#Features correlating with Price\n",
        "corr = df.corr()['price'][:]\n",
        "corr = corr.sort_values(ascending=False)\n",
        "corr = corr.to_numpy()\n",
        "ax = sns.heatmap(corr[:, np.newaxis], cmap=\"Blues\", annot=True, linewidths=.5)"
      ]
    },
    {
      "cell_type": "markdown",
      "metadata": {
        "id": "n1GaD4JqQhsJ"
      },
      "source": [
        "\n",
        "\n",
        "*   **Comentarios resultado exploración**\n",
        "\n"
      ]
    },
    {
      "cell_type": "code",
      "execution_count": 11,
      "metadata": {
        "id": "N_8tQfTTQm9Z"
      },
      "outputs": [],
      "source": [
        "#Comments\n"
      ]
    },
    {
      "cell_type": "markdown",
      "metadata": {
        "id": "kdn0ZNWI5HFE"
      },
      "source": [
        "## 2. Red neuronal artificial: Clasificación (4.5 puntos)\n"
      ]
    },
    {
      "cell_type": "markdown",
      "metadata": {
        "id": "3Li5TkOu7tGR"
      },
      "source": [
        "En este apartado entrenaremos un modelo que intente clasificar los coches según su gama de precio. Para ello crearemos una nueva variable como indicador de calidad del coche (gama baja, media o alta), siguiendo las siguientes condiciones:\n",
        "\n",
        "\n",
        "\n",
        "*   _low-end_: precio menor que 11000 euros\n",
        "*   _medium-end_: precio mayor o igual que 11000 euros y menor que 13000\n",
        "*   _high-end_: precio mayor o igual que 13000\n",
        "\n"
      ]
    },
    {
      "cell_type": "markdown",
      "metadata": {
        "id": "zkZrkOkb5QWL"
      },
      "source": [
        "### Pre-procesado\n"
      ]
    },
    {
      "cell_type": "markdown",
      "metadata": {
        "id": "v0z5hx64pNhv"
      },
      "source": [
        "<div style=\"background-color: #EDF7FF; border-color: #7C9DBF; border-left: 5px solid #7C9DBF; padding: 0.5em;\">\n",
        "<strong>Ejercicio (0.75 puntos):</strong> Pre-procesa los datos: \n",
        "\n",
        "<ul>\n",
        "        \n",
        "<li>   Crea una nueva variable <code>quality</code> que incluya la gama del coche, con las condiciones indicadas</li>\n",
        "<li>   Muestra el histograma de la nueva variable <code>quality</code></li>\n",
        "<li>   Crea los vectores de variables dependientes (<i>features</i>) y de la variable independiente (<i>labels</i>)</li>\n",
        "<li>   Normaliza debidamente los datos y binariza el vector de etiquetas (<i>labels</i>) </li>\n",
        "<li>   Divide el conjunto de datos en 80% para entrenamiento y 20% para test, usando la función <code>train_test_split</code></li>\n",
        "<li>   Muestra las dimensiones de los conjuntos de entrenamiento y test</li>\n",
        "</ul>\n",
        "</div>"
      ]
    },
    {
      "cell_type": "code",
      "execution_count": 12,
      "metadata": {
        "id": "GfltZ361AC89",
        "colab": {
          "base_uri": "https://localhost:8080/"
        },
        "outputId": "f7e284f5-f1eb-4dff-a2d0-438dd8b42126"
      },
      "outputs": [
        {
          "output_type": "execute_result",
          "data": {
            "text/plain": [
              "0          low-end\n",
              "1         high-end\n",
              "2         high-end\n",
              "3         high-end\n",
              "4         high-end\n",
              "           ...    \n",
              "1431    medium-end\n",
              "1432       low-end\n",
              "1433       low-end\n",
              "1434      high-end\n",
              "1435    medium-end\n",
              "Name: quality, Length: 1436, dtype: category\n",
              "Categories (3, object): ['low-end' < 'medium-end' < 'high-end']"
            ]
          },
          "metadata": {},
          "execution_count": 12
        }
      ],
      "source": [
        "#Create new variable: quality\n",
        "df['quality'] = pd.cut(df['price'], bins=[0, 11001, 13001, float('Inf')], labels=['low-end', 'medium-end', 'high-end'])\n",
        "df['quality']"
      ]
    },
    {
      "cell_type": "code",
      "execution_count": 13,
      "metadata": {
        "id": "LLcPtn18BlQs",
        "colab": {
          "base_uri": "https://localhost:8080/",
          "height": 352
        },
        "outputId": "76b23934-5d25-4057-84d1-a391ba600bb2"
      },
      "outputs": [
        {
          "output_type": "execute_result",
          "data": {
            "text/plain": [
              "Text(0.5, 1.0, 'quality')"
            ]
          },
          "metadata": {},
          "execution_count": 13
        },
        {
          "output_type": "display_data",
          "data": {
            "text/plain": [
              "<Figure size 432x288 with 1 Axes>"
            ],
            "image/png": "[encoded data removed]"
          },
          "metadata": {
            "needs_background": "light"
          }
        }
      ],
      "source": [
        "#Histogram car quality\n",
        "ax = df['quality'].value_counts().plot.bar()\n",
        "ax.set_title('quality')"
      ]
    },
    {
      "cell_type": "code",
      "execution_count": 14,
      "metadata": {
        "colab": {
          "base_uri": "https://localhost:8080/"
        },
        "id": "sRH6ZfT-ICPi",
        "outputId": "19ca1374-fe49-41e7-c88e-e9f96461a209"
      },
      "outputs": [
        {
          "output_type": "execute_result",
          "data": {
            "text/plain": [
              "<bound method NDFrame.describe of       months_old      km fuel_type  horsepower  metcolor  automatic  \\\n",
              "0             73   97494    Petrol         110         1          0   \n",
              "1             48   89049    Petrol          97         1          0   \n",
              "2             40  161000    Diesel          69         1          0   \n",
              "3             37   38812    Petrol          97         0          0   \n",
              "4             55   33230    Petrol         110         0          0   \n",
              "...          ...     ...       ...         ...       ...        ...   \n",
              "1431          48   78600    Petrol         110         1          0   \n",
              "1432          80   86109    Petrol         110         1          0   \n",
              "1433          77   82103    Petrol          86         1          0   \n",
              "1434          40   38653    Petrol         110         1          0   \n",
              "1435          59   43818    Petrol         110         0          0   \n",
              "\n",
              "      size_engine  doors_num  weight  price     quality  \n",
              "0            1600          5    1085  10950     low-end  \n",
              "1            1400          5    1060  13500    high-end  \n",
              "2            1900          3    1105  13950    high-end  \n",
              "3            1400          3    1025  13450    high-end  \n",
              "4            1600          3    1050  13500    high-end  \n",
              "...           ...        ...     ...    ...         ...  \n",
              "1431         1600          5    1075  11750  medium-end  \n",
              "1432         1600          3    1055   8750     low-end  \n",
              "1433         1300          3    1015   8950     low-end  \n",
              "1434         1600          5    1080  14950    high-end  \n",
              "1435         1600          5    1070  11950  medium-end  \n",
              "\n",
              "[1436 rows x 11 columns]>"
            ]
          },
          "metadata": {},
          "execution_count": 14
        }
      ],
      "source": [
        "df.describe"
      ]
    },
    {
      "cell_type": "code",
      "execution_count": 15,
      "metadata": {
        "id": "whqYSqQEBqjM"
      },
      "outputs": [],
      "source": [
        "#Create features and labels vectors\n",
        "features = df.drop(columns = ['quality', 'price'])\n",
        "labels = df['quality']"
      ]
    },
    {
      "cell_type": "code",
      "source": [
        "features['fuel_type'] = features['fuel_type'].astype('category').cat.codes\n",
        "features['fuel_type']\n",
        "scaler = StandardScaler()\n",
        "scaled_features = scaler.fit_transform(features)\n",
        "scaled_features"
      ],
      "metadata": {
        "colab": {
          "base_uri": "https://localhost:8080/"
        },
        "id": "KApEp7pQ7Gt-",
        "outputId": "36f252d3-5201-4db0-ce50-b8aba1abdbf8"
      },
      "execution_count": 16,
      "outputs": [
        {
          "output_type": "execute_result",
          "data": {
            "text/plain": [
              "array([[ 0.91525566,  0.77242262,  0.3591837 , ...,  0.17461144,\n",
              "         1.014941  ,  0.23427743],\n",
              "       [-0.43109461,  0.5471829 ,  0.3591837 , ..., -0.89385359,\n",
              "         1.014941  , -0.23947685],\n",
              "       [-0.86192669,  2.46621463, -2.3132919 , ...,  1.777309  ,\n",
              "        -1.08513865,  0.61328086],\n",
              "       ...,\n",
              "       [ 1.13067171,  0.36192356,  0.3591837 , ..., -1.42808611,\n",
              "        -1.08513865, -1.09223456],\n",
              "       [-0.86192669, -0.79694746,  0.3591837 , ...,  0.17461144,\n",
              "         1.014941  ,  0.13952657],\n",
              "       [ 0.16129951, -0.65918983,  0.3591837 , ...,  0.17461144,\n",
              "         1.014941  , -0.04997514]])"
            ]
          },
          "metadata": {},
          "execution_count": 16
        }
      ]
    },
    {
      "cell_type": "code",
      "execution_count": 17,
      "metadata": {
        "id": "r8MdGHI7Btjr"
      },
      "outputs": [],
      "source": [
        "##Normalize the corresponding data\n",
        "#features['fuel_type'] = features['fuel_type'].astype('category').cat.codes\n",
        "#features['fuel_type']\n",
        "\n",
        "#scaler = StandardScaler()\n",
        "#scaled_features = scaler.fit_transform(features)\n",
        "\n",
        "\n",
        "## Normalize continuous data\n",
        "## Since data is not normalized we will use Scalar to avoid outliers impact\n",
        "## price is excluded since it will not be used in the model (is somehow the target).\n",
        "#features['months_old'] = scaler.fit_transform(features['months_old'].values.reshape(-1,1))\n",
        "#features['km'] = scaler.fit_transform(features['km'].values.reshape(-1,1))\n",
        "#features['horsepower'] = scaler.fit_transform(features['horsepower'].values.reshape(-1,1))\n",
        "#features['size_engine'] = scaler.fit_transform(features['size_engine'].values.reshape(-1,1))\n",
        "#features['weight'] = scaler.fit_transform(features['weight'].values.reshape(-1,1))\n",
        "\n",
        "#features"
      ]
    },
    {
      "cell_type": "code",
      "execution_count": 18,
      "metadata": {
        "colab": {
          "base_uri": "https://localhost:8080/",
          "height": 319
        },
        "id": "ItVvu7JjICPk",
        "outputId": "dbf7e318-e600-4cc0-a754-f1a6359bdbd2"
      },
      "outputs": [
        {
          "output_type": "display_data",
          "data": {
            "text/plain": [
              "<Figure size 432x288 with 1 Axes>"
            ],
            "image/png": "[encoded data removed]"
          },
          "metadata": {
            "needs_background": "light"
          }
        }
      ],
      "source": [
        "# Check labels distribution\n",
        "ax = labels.value_counts().plot.bar()"
      ]
    },
    {
      "cell_type": "code",
      "execution_count": 19,
      "metadata": {
        "id": "OkVVv7yrBxhc",
        "scrolled": true,
        "colab": {
          "base_uri": "https://localhost:8080/",
          "height": 308
        },
        "outputId": "4c27b013-5b18-4a62-b9b4-02ed7444f429"
      },
      "outputs": [
        {
          "output_type": "display_data",
          "data": {
            "text/plain": [
              "<Figure size 432x288 with 1 Axes>"
            ],
            "image/png": "[encoded data removed]"
          },
          "metadata": {
            "needs_background": "light"
          }
        }
      ],
      "source": [
        "#Binarize the labels\n",
        "binary_labels = pd.get_dummies(labels)\n",
        "# Check labels distribution\n",
        "ax = binary_labels.value_counts().plot.bar()"
      ]
    },
    {
      "cell_type": "code",
      "execution_count": 20,
      "metadata": {
        "id": "JqDRRy2mAgUV"
      },
      "outputs": [],
      "source": [
        "#Train-test split\n",
        "myseed= 38\n",
        "\n",
        "X_train, X_test, y_train, y_test = train_test_split(\n",
        "    scaled_features, binary_labels, test_size=0.8, random_state=myseed)"
      ]
    },
    {
      "cell_type": "code",
      "execution_count": 21,
      "metadata": {
        "id": "j7FJc1POAii4",
        "colab": {
          "base_uri": "https://localhost:8080/"
        },
        "outputId": "9ac6c0dd-52ef-4893-90c3-474f664aafca"
      },
      "outputs": [
        {
          "output_type": "execute_result",
          "data": {
            "text/plain": [
              "((287, 9), (1149, 9), (287, 3), (1149, 3))"
            ]
          },
          "metadata": {},
          "execution_count": 21
        }
      ],
      "source": [
        "#Shapes\n",
        "X_train.shape, X_test.shape, y_train.shape, y_test.shape "
      ]
    },
    {
      "cell_type": "markdown",
      "metadata": {
        "id": "y6YSHMONICPm"
      },
      "source": [
        "|        | X_train   | X_test     | y_train | y_test  |\n",
        "|--------|-----------|------------|---------|---------|\n",
        "| Shapes | (287, 9) | (1149, 9) | (287,3)  | (1149,3) |"
      ]
    },
    {
      "cell_type": "markdown",
      "metadata": {
        "id": "Z60Pf12T5bjF"
      },
      "source": [
        "### Modelo base\n"
      ]
    },
    {
      "cell_type": "markdown",
      "metadata": {
        "id": "w9Dm_WN5rzGt"
      },
      "source": [
        "Empezaremos diseñando un modelo base con 4 capas ocultas.\n",
        " \n",
        "Nota: Para el ajuste del modelo usaremos los datos de test como conjunto de validación."
      ]
    },
    {
      "cell_type": "markdown",
      "metadata": {
        "id": "X-9gUgcQrGk1"
      },
      "source": [
        "<div style=\"background-color: #EDF7FF; border-color: #7C9DBF; border-left: 5px solid #7C9DBF; padding: 0.5em;\">\n",
        "<strong>Ejercicio (1.25 puntos):</strong> Implementa el modelo de red neuronal artificial:\n",
        "<ul>\n",
        "<li>   Diseña la arquitectura para el modelo de clasificación con la función de activación adecuada para la capa de salida y con las siguientes características:</li>\n",
        "   <ul>\n",
        "   <li> 4 capas ocultas con 64, 32, 10, 8 neuronas sucesivamente</li>\n",
        "   <li> Función de activación de las capas intermedias: ReLU</li>\n",
        "   </ul>\n",
        "\n",
        "<li>   Compila el modelo con la función de pérdida más adecuada, el optimizador Adam, una velocidad de aprendizaje de 0.1, y la métrica Accuracy.</li>\n",
        "\n",
        "<li>   Ajusta el modelo con 20 épocas y un tamaño del batch de 64</li>\n",
        "\n",
        "<li>   Muestra las gráficas de accuracy y loss. En cada gráfica debe visualizarse la curva de entrenamiento y la de validación</li>\n",
        "</ul>\n",
        "</div>"
      ]
    },
    {
      "cell_type": "code",
      "execution_count": 22,
      "metadata": {
        "id": "55FNYaQnB8iS"
      },
      "outputs": [],
      "source": [
        "#Create ANN model\n",
        "model = Sequential()\n",
        "\n",
        "# Input layer\n",
        "model.add(keras.Input(shape=(9,)))\n",
        "\n",
        "# Hidden layers\n",
        "model.add(Dense(64, activation=\"relu\"))\n",
        "model.add(Dense(32, activation=\"relu\"))\n",
        "model.add(Dense(10, activation=\"relu\"))\n",
        "model.add(Dense(8, activation=\"relu\"))\n",
        "\n",
        "# Output layer\n",
        "model.add(Dense(3, activation=\"softmax\"))\n",
        "\n",
        "model.build()"
      ]
    },
    {
      "cell_type": "code",
      "execution_count": 23,
      "metadata": {
        "colab": {
          "base_uri": "https://localhost:8080/"
        },
        "id": "eQkxQqCdICPp",
        "outputId": "d3d371be-62ab-49ec-f6f6-3293134b7131"
      },
      "outputs": [
        {
          "output_type": "stream",
          "name": "stdout",
          "text": [
            "Model: \"sequential\"\n",
            "_________________________________________________________________\n",
            " Layer (type)                Output Shape              Param #   \n",
            "=================================================================\n",
            " dense (Dense)               (None, 64)                640       \n",
            "                                                                 \n",
            " dense_1 (Dense)             (None, 32)                2080      \n",
            "                                                                 \n",
            " dense_2 (Dense)             (None, 10)                330       \n",
            "                                                                 \n",
            " dense_3 (Dense)             (None, 8)                 88        \n",
            "                                                                 \n",
            " dense_4 (Dense)             (None, 3)                 27        \n",
            "                                                                 \n",
            "=================================================================\n",
            "Total params: 3,165\n",
            "Trainable params: 3,165\n",
            "Non-trainable params: 0\n",
            "_________________________________________________________________\n"
          ]
        }
      ],
      "source": [
        "model.summary()"
      ]
    },
    {
      "cell_type": "code",
      "execution_count": 24,
      "metadata": {
        "id": "4uZBJAsGqJau"
      },
      "outputs": [],
      "source": [
        "#Compile\n",
        "# Compila el modelo con la función de pérdida más adecuada, \n",
        "  #el optimizador Adam, una velocidad de aprendizaje de 0.1, y la métrica Accuracy.\n",
        "model.compile(Adam(learning_rate=0.1), \"categorical_crossentropy\", metrics=[\"accuracy\"])"
      ]
    },
    {
      "cell_type": "code",
      "execution_count": 25,
      "metadata": {
        "id": "H-k_iYxBqLQK",
        "colab": {
          "base_uri": "https://localhost:8080/"
        },
        "outputId": "5e983df4-1336-4f93-df10-5f1865673044"
      },
      "outputs": [
        {
          "output_type": "stream",
          "name": "stdout",
          "text": [
            "Epoch 1/20\n",
            "5/5 [==============================] - 1s 7ms/step - loss: 0.9350 - accuracy: 0.5679\n",
            "Epoch 2/20\n",
            "5/5 [==============================] - 0s 7ms/step - loss: 0.9123 - accuracy: 0.5645\n",
            "Epoch 3/20\n",
            "5/5 [==============================] - 0s 5ms/step - loss: 0.7772 - accuracy: 0.6655\n",
            "Epoch 4/20\n",
            "5/5 [==============================] - 0s 4ms/step - loss: 0.7876 - accuracy: 0.6237\n",
            "Epoch 5/20\n",
            "5/5 [==============================] - 0s 4ms/step - loss: 0.9491 - accuracy: 0.6376\n",
            "Epoch 6/20\n",
            "5/5 [==============================] - 0s 5ms/step - loss: 0.7578 - accuracy: 0.6446\n",
            "Epoch 7/20\n",
            "5/5 [==============================] - 0s 4ms/step - loss: 0.7413 - accuracy: 0.6516\n",
            "Epoch 8/20\n",
            "5/5 [==============================] - 0s 4ms/step - loss: 0.7255 - accuracy: 0.6655\n",
            "Epoch 9/20\n",
            "5/5 [==============================] - 0s 6ms/step - loss: 0.7232 - accuracy: 0.6690\n",
            "Epoch 10/20\n",
            "5/5 [==============================] - 0s 5ms/step - loss: 0.6905 - accuracy: 0.6794\n",
            "Epoch 11/20\n",
            "5/5 [==============================] - 0s 4ms/step - loss: 0.7409 - accuracy: 0.6551\n",
            "Epoch 12/20\n",
            "5/5 [==============================] - 0s 5ms/step - loss: 0.6947 - accuracy: 0.6655\n",
            "Epoch 13/20\n",
            "5/5 [==============================] - 0s 6ms/step - loss: 0.7162 - accuracy: 0.7073\n",
            "Epoch 14/20\n",
            "5/5 [==============================] - 0s 4ms/step - loss: 0.6725 - accuracy: 0.7003\n",
            "Epoch 15/20\n",
            "5/5 [==============================] - 0s 4ms/step - loss: 0.7245 - accuracy: 0.6620\n",
            "Epoch 16/20\n",
            "5/5 [==============================] - 0s 5ms/step - loss: 0.6826 - accuracy: 0.6829\n",
            "Epoch 17/20\n",
            "5/5 [==============================] - 0s 5ms/step - loss: 0.6722 - accuracy: 0.7143\n",
            "Epoch 18/20\n",
            "5/5 [==============================] - 0s 5ms/step - loss: 0.6859 - accuracy: 0.7247\n",
            "Epoch 19/20\n",
            "5/5 [==============================] - 0s 4ms/step - loss: 0.8384 - accuracy: 0.7213\n",
            "Epoch 20/20\n",
            "5/5 [==============================] - 0s 4ms/step - loss: 0.7390 - accuracy: 0.6620\n"
          ]
        }
      ],
      "source": [
        "#Fit\n",
        "\n",
        "# Encode features\n",
        "history = model.fit(X_train, y_train, epochs=20, batch_size=64)"
      ]
    },
    {
      "cell_type": "code",
      "source": [
        "history.params"
      ],
      "metadata": {
        "colab": {
          "base_uri": "https://localhost:8080/"
        },
        "id": "qnbisLiwPoW8",
        "outputId": "6e6d1f34-3bc0-4c7d-a584-0f60c9379c84"
      },
      "execution_count": 26,
      "outputs": [
        {
          "output_type": "execute_result",
          "data": {
            "text/plain": [
              "{'epochs': 20, 'steps': 5, 'verbose': 1}"
            ]
          },
          "metadata": {},
          "execution_count": 26
        }
      ]
    },
    {
      "cell_type": "code",
      "execution_count": 27,
      "metadata": {
        "id": "Id4u4igDBHtK",
        "colab": {
          "base_uri": "https://localhost:8080/",
          "height": 295
        },
        "outputId": "4c504916-bfe2-45a9-fbef-7a504bb4e541"
      },
      "outputs": [
        {
          "output_type": "display_data",
          "data": {
            "text/plain": [
              "<Figure size 432x288 with 1 Axes>"
            ],
            "image/png": "[encoded data removed]"
          },
          "metadata": {
            "needs_background": "light"
          }
        }
      ],
      "source": [
        "#Plots \n",
        "loss = history.history['loss']\n",
        "accuracy = history.history['accuracy']\n",
        "epochs = range(0,20)\n",
        "\n",
        "plt.plot(epochs, loss, 'g', label='Loss')\n",
        "plt.plot(epochs, accuracy, 'b', label='Accuracy')\n",
        "plt.title('Training Loss and Accuracy')\n",
        "plt.xlabel('Epochs')\n",
        "plt.ylabel('Total')\n",
        "plt.legend()\n",
        "plt.show()"
      ]
    },
    {
      "cell_type": "markdown",
      "metadata": {
        "id": "epfveZ6I5rzR"
      },
      "source": [
        "### Influencia velocidad aprendizaje y optimizador"
      ]
    },
    {
      "cell_type": "markdown",
      "metadata": {
        "id": "Pvt1o-bzDgQs"
      },
      "source": [
        "Una vez tenemos el modelo base, analizaremos la influencia que pueden tener la velocidad de aprendizaje y el tipo de optimizador en la mejora del rendimiento."
      ]
    },
    {
      "cell_type": "markdown",
      "metadata": {
        "id": "k4MKwGwYtBML"
      },
      "source": [
        "<div style=\"background-color: #EDF7FF; border-color: #7C9DBF; border-left: 5px solid #7C9DBF; padding: 0.5em;\">\n",
        "<strong>Ejercicio (1.5 puntos):</strong> Implementa una función para entrenar la arquitectura del ejercicio anterior para 4 optimizadores diferentes: Adam, SGD, Adadelta, Adagrad, y 4 velocidades de aprendizaje: 0.001, 0.01, 0.05, 0.1. \n",
        "Entrena los modelos, y representa dos gráficas:\n",
        " <ul>\n",
        "     <li> Tiempo de entrenamiento vs Velocidad de aprendizaje</li>\n",
        "     <li>  <i>Accuracy</i> vs Velocidad de aprendizaje</li>\n",
        "</ul>   \n",
        "    \n",
        "Cada gráfica debe incluir la evolución obtenida por los cuatro optimizadores para poderlos comparar mejor.\n",
        "    \n",
        "-----------------------------------------------------------------------------------------------------------\n",
        "<b>Importante</b>: para la entrega de la PEC, fijar el parámetro <code>verbose = 0</code> en el entrenamiento de los modelos. La solución únicamente debe mostrar las gráficas resultantes.\n",
        "</div>"
      ]
    },
    {
      "cell_type": "code",
      "execution_count": 37,
      "metadata": {
        "id": "yt72wL7_CauO"
      },
      "outputs": [],
      "source": [
        "#Function to compute several models changing Optimizers and learning rate\n",
        "def compute(model):\n",
        "  rates = [0.001, 0.01, 0.05, 0.1]\n",
        "  optimizers = []\n",
        "  result = []\n",
        "  for r in range(len(rates)):\n",
        "    optimizers.append([Adam(learning_rate=rates[r]), \"Adam\", rates[r]])\n",
        "    optimizers.append([SGD(learning_rate=rates[r]), \"SGD\", rates[r]])\n",
        "    optimizers.append([Adadelta(learning_rate=rates[r]), \"Adadelta\", rates[r]])\n",
        "    optimizers.append([Adagrad(learning_rate=rates[r]), \"Adagrad\", rates[r]])\n",
        "\n",
        "  for i in range(len(optimizers)):\n",
        "    optimizer = optimizers[i]\n",
        "    model.compile(optimizer[0], \"categorical_crossentropy\", metrics=[\"accuracy\"])\n",
        "    t0 = timeit.default_timer()\n",
        "    history = model.fit(X_train, y_train, epochs=20, batch_size=64, verbose=0)\n",
        "    training_time = timeit.default_timer() - t0\n",
        "    print(\"The time difference is :\", training_time)\n",
        "    avg_accuracy = np.mean(history.history['accuracy'])\n",
        "    result.append([optimizer[1], optimizer[2], training_time, avg_accuracy])\n",
        "  return result"
      ]
    },
    {
      "cell_type": "code",
      "execution_count": 38,
      "metadata": {
        "id": "PF9BZo4WCdX6",
        "colab": {
          "base_uri": "https://localhost:8080/"
        },
        "outputId": "0e37f2f5-1b0b-4c18-9802-f05eac6569e7"
      },
      "outputs": [
        {
          "output_type": "stream",
          "name": "stdout",
          "text": [
            "The time difference is : 0.7470417810000072\n",
            "The time difference is : 0.626849004000178\n",
            "The time difference is : 0.674530047999724\n",
            "The time difference is : 0.6371783029990183\n",
            "The time difference is : 1.1205076429996552\n",
            "The time difference is : 0.7616398779991869\n",
            "The time difference is : 0.825449504000062\n",
            "The time difference is : 0.7768255909995787\n",
            "The time difference is : 0.7227368590010883\n",
            "The time difference is : 0.7694264089986973\n",
            "The time difference is : 0.6962969329997577\n",
            "The time difference is : 0.7713414390000253\n",
            "The time difference is : 0.7361320750005689\n",
            "The time difference is : 0.6136702900003002\n",
            "The time difference is : 0.8566282379997574\n",
            "The time difference is : 0.6347689960002754\n"
          ]
        }
      ],
      "source": [
        "#Compute models\n",
        "c = compute(model)\n"
      ]
    },
    {
      "cell_type": "code",
      "execution_count": 57,
      "metadata": {
        "id": "KALAyx3bCgBm",
        "colab": {
          "base_uri": "https://localhost:8080/",
          "height": 132
        },
        "outputId": "a571f509-efec-43df-c4b5-29f42dff3205"
      },
      "outputs": [
        {
          "output_type": "error",
          "ename": "SyntaxError",
          "evalue": "ignored",
          "traceback": [
            "\u001b[0;36m  File \u001b[0;32m\"<ipython-input-57-985cc54def43>\"\u001b[0;36m, line \u001b[0;32m51\u001b[0m\n\u001b[0;31m    ax[0].set_xticks=([0, 5, 10, 20], labels=learning_rates)\u001b[0m\n\u001b[0m                                            ^\u001b[0m\n\u001b[0;31mSyntaxError\u001b[0m\u001b[0;31m:\u001b[0m invalid syntax\n"
          ]
        }
      ],
      "source": [
        "#Plots\n",
        "\n",
        "# distribuir el resultado en variables más legibles\n",
        "opts = []\n",
        "times = []\n",
        "rates = []\n",
        "acc = []\n",
        "for i in range(len(c)):\n",
        "  m = c[i]\n",
        "  opts.append(m[0])\n",
        "  rates.append(m[1])\n",
        "  times.append(m[2]) \n",
        "  acc.append(m[3])\n",
        "\n",
        "# Variables para las coordenadas de las lineas\n",
        "adam_rates = []\n",
        "adam_accuracy = []\n",
        "adam_times = []\n",
        "sgd_rates = []\n",
        "sgd_accuracy = []\n",
        "sgd_times = []\n",
        "adagrad_rates = []\n",
        "adagrad_accuracy = []\n",
        "adagrad_times = []\n",
        "adadelta_rates = []\n",
        "adadelta_accuracy = []\n",
        "adadelta_times = []\n",
        "\n",
        "# Transformacion de variables\n",
        "for i in range(len(times)):\n",
        "  if opts[i] == 'Adam':\n",
        "    adam_rates.append(rates[i])\n",
        "    adam_times.append(times[i])\n",
        "    adam_accuracy.append(acc[i])\n",
        "  elif opts[i] == 'SGD':\n",
        "    sgd_rates.append(rates[i])\n",
        "    sgd_times.append(times[i])\n",
        "    sgd_accuracy.append(acc[i])\n",
        "  elif opts[i] == 'Adagrad':\n",
        "    adagrad_rates.append(rates[i])\n",
        "    adagrad_times.append(times[i])\n",
        "    adagrad_accuracy.append(acc[i])\n",
        "  elif opts[i] == 'Adadelta':\n",
        "    adadelta_rates.append(rates[i])\n",
        "    adadelta_times.append(times[i]) \n",
        "    adadelta_accuracy.append(acc[i])\n",
        "\n",
        "fig, ax = plt.subplots(1,2, figsize=(15,8))\n",
        "\n",
        "learning_rates = [0.001, 0.01, 0.05, 0.1]\n",
        "ax[0].set_xticks=([0, 5, 10, 20], labels=learning_rates)\n",
        "#ax[0].set_xticklabels(learning_rates)\n",
        "\n",
        "ax[0].plot(adam_rates, adam_times, linestyle='--', marker='o', color='g', label='Adam')\n",
        "ax[0].plot(sgd_rates, sgd_times, linestyle='--', marker='o', color='y', label='SGD')\n",
        "ax[0].plot(adagrad_rates, adagrad_times, linestyle='--', marker='o', color='b', label='Adagrad')\n",
        "ax[0].plot(adadelta_rates, adadelta_times, linestyle='--', marker='o', color='r', label='Adadelta')\n",
        "ax[0].set_title('Training Time vs Learning Rates')\n",
        "ax[0].set_xlabel('Learning Rates')\n",
        "ax[0].set_ylabel('Training Time')\n",
        "\n",
        "ax[1].set_xticklabels(learning_rates, minor=False)\n",
        "ax[1].plot(adam_rates, adam_accuracy, linestyle='--', marker='o', color='g', label='Adam')\n",
        "ax[1].plot(sgd_rates, sgd_accuracy, linestyle='--', marker='o', color='y', label='SGD')\n",
        "ax[1].plot(adagrad_rates, adagrad_accuracy, linestyle='--', marker='o', color='b', label='Adagrad')\n",
        "ax[1].plot(adadelta_rates, adadelta_accuracy, linestyle='--', marker='o', color='r', label='Adadelta')\n",
        "ax[1].set_title('Accuracy vs Learning Rates')\n",
        "ax[1].set_xlabel('Learning Rates')\n",
        "ax[1].set_ylabel('Accuracy')\n",
        "plt.legend()\n",
        "plt.show()"
      ]
    },
    {
      "cell_type": "markdown",
      "metadata": {
        "id": "3FFT0HcW5yzD"
      },
      "source": [
        "### Elección del mejor modelo"
      ]
    },
    {
      "cell_type": "markdown",
      "metadata": {
        "id": "nxM_49dxuC1L"
      },
      "source": [
        "<div style=\"background-color: #EDF7FF; border-color: #7C9DBF; border-left: 5px solid #7C9DBF; padding: 0.5em;\">\n",
        "<strong>Ejercicio (1 punto):</strong> Identifica el valor de la velocidad de aprendizaje y del optimizador que mejor rendimiento dan al modelo, según los resultados del ejercicio anterior:\n",
        "<ul>\n",
        "    \n",
        "<li>   Justifica la elección</li>\n",
        "<li>   Compila y entrena el modelo elegido</li>\n",
        "<li>   Muestra las correspondientes gráficas de <i>Accuracy</i> y <i>Loss</i> de los conjuntos de entrenamiento y validación, e indica el <i>Accuracy</i> del modelo </li>\n",
        "<li>   Muestra la matriz de confusión multi-clase con las etiquetas originales de <code>quality</code> (<i>low-end</i>, <i>medium-end</i>, <i>high-end</i>)</li>\n",
        "<li>   Muestra la precisión, recall y F1-score resultantes para cada etiqueta</li>\n",
        "<li>   Comenta los resultados obtenidos</li>\n",
        "</ul>\n",
        "</div>"
      ]
    },
    {
      "cell_type": "code",
      "execution_count": null,
      "metadata": {
        "id": "4oiJyrGL6Ntb"
      },
      "outputs": [],
      "source": [
        "#Best model justification\n"
      ]
    },
    {
      "cell_type": "code",
      "execution_count": null,
      "metadata": {
        "id": "8Dwvn_0JCt9A"
      },
      "outputs": [],
      "source": [
        "#Create, compile and fit ANN BEST model\n"
      ]
    },
    {
      "cell_type": "code",
      "execution_count": null,
      "metadata": {
        "id": "7KvpGJi4C1fD"
      },
      "outputs": [],
      "source": [
        "#Plots\n"
      ]
    },
    {
      "cell_type": "code",
      "execution_count": null,
      "metadata": {
        "id": "rgUdskZ7Fz4n"
      },
      "outputs": [],
      "source": [
        "#Confusion matrix\n"
      ]
    },
    {
      "cell_type": "code",
      "execution_count": null,
      "metadata": {
        "id": "qWMB7Sq1hHdy"
      },
      "outputs": [],
      "source": [
        "#Accuracy\n"
      ]
    },
    {
      "cell_type": "code",
      "execution_count": null,
      "metadata": {
        "id": "FyVOsMOJISLp"
      },
      "outputs": [],
      "source": [
        "#Precision, Recall and F1-score for each label\n"
      ]
    },
    {
      "cell_type": "code",
      "execution_count": null,
      "metadata": {
        "id": "GlmpoPbzE5k0"
      },
      "outputs": [],
      "source": [
        "#Comment results\n"
      ]
    },
    {
      "cell_type": "markdown",
      "metadata": {
        "id": "LY6fFoV955e3"
      },
      "source": [
        "## 3. Red neuronal artificial: Regresión (4.5 puntos)"
      ]
    },
    {
      "cell_type": "markdown",
      "metadata": {
        "id": "vMTilNAuwN4X"
      },
      "source": [
        "En este apartado resolveremos un problema de regresión intentando predecir el precio de re-venta según las características de los coches. Partiremos del conjunto de datos original."
      ]
    },
    {
      "cell_type": "markdown",
      "metadata": {
        "id": "tKTYsFI45_rW"
      },
      "source": [
        "### Pre-procesado\n",
        "\n",
        "\n"
      ]
    },
    {
      "cell_type": "markdown",
      "metadata": {
        "id": "eSp_nZX3wQDT"
      },
      "source": [
        "<div style=\"background-color: #EDF7FF; border-color: #7C9DBF; border-left: 5px solid #7C9DBF; padding: 0.5em;\">\n",
        "<strong>Ejercicio (0.5 puntos):</strong> Pre-procesa los datos: \n",
        "<ul>\n",
        "<li>   Crea los vectores de variables dependientes (<i>features</i>) y de la variable independiente (<i>target</i>)</li>\n",
        "<li>   Normaliza debidamente los datos</li>\n",
        "<li>   Divide el conjunto de datos en 70% para entrenamiento y 30% para test, usando la función <code>train_test_split</code></li>\n",
        "<li>   Muestra las dimensiones de los conjuntos de entrenamiento y test</li>\n",
        "</ul>\n",
        "</div>"
      ]
    },
    {
      "cell_type": "code",
      "execution_count": null,
      "metadata": {
        "id": "2ZFhPX92wqB7"
      },
      "outputs": [],
      "source": [
        "#Create features and target vectors\n",
        "features = None\n",
        "target = None"
      ]
    },
    {
      "cell_type": "code",
      "execution_count": null,
      "metadata": {
        "id": "hUi95MvbAa-u"
      },
      "outputs": [],
      "source": [
        "#Normalizing the data\n"
      ]
    },
    {
      "cell_type": "code",
      "execution_count": null,
      "metadata": {
        "id": "_vUVcRn_wdQx"
      },
      "outputs": [],
      "source": [
        "#Split train-test\n"
      ]
    },
    {
      "cell_type": "code",
      "execution_count": null,
      "metadata": {
        "id": "Ca_Zk7PfwkPE"
      },
      "outputs": [],
      "source": [
        "#Dimensions\n"
      ]
    },
    {
      "cell_type": "markdown",
      "metadata": {
        "id": "6Q7VJZn_6Eru"
      },
      "source": [
        "### Modelo base"
      ]
    },
    {
      "cell_type": "markdown",
      "metadata": {
        "id": "aI1qOtftx4J0"
      },
      "source": [
        "En primer lugar diseñaremos un modelo base con tres capas ocultas.\n",
        "\n",
        "Nota: Para el ajuste del modelo usaremos los datos de test como conjunto de validación."
      ]
    },
    {
      "cell_type": "markdown",
      "metadata": {
        "id": "0AhiMwVZw13D"
      },
      "source": [
        "<div style=\"background-color: #EDF7FF; border-color: #7C9DBF; border-left: 5px solid #7C9DBF; padding: 0.5em;\">\n",
        "<strong>Ejercicio (1 punto):</strong> Implementa el modelo de red neuronal artificial:\n",
        "<ul>\n",
        "<li>Diseña la arquitectura para el modelo de regresión con las siguientes características:</li>\n",
        "    <ul>\n",
        "   <li>1 primera capa oculta completamente conectada de 128 neuronas y activación ReLU</li>\n",
        "   <li>2 capas ocultas de 32 y 16 neuronas y activación tangencial</li>\n",
        "   <li>Todas las capas deben tener <code>kernel_initizalizer</code> en modo 'normal'</li>\n",
        "   </ul>\n",
        "<li>Compila el modelo con la función de pérdida más adecuada y el optimizador Adam</li>\n",
        "\n",
        "<li>Ajusta el modelo con 50 épocas y un tamaño del batch de 32</li>\n",
        "\n",
        "<li>Muestra la gráfica de pérdida. En la gráfica debe visualizarse la curva de entrenamiento y la de validación</li>\n",
        "</ul>\n",
        "</div>"
      ]
    },
    {
      "cell_type": "code",
      "execution_count": null,
      "metadata": {
        "id": "KJaRnNOcAyNi"
      },
      "outputs": [],
      "source": [
        "#Create ANN model\n"
      ]
    },
    {
      "cell_type": "code",
      "execution_count": null,
      "metadata": {
        "id": "nvu-prE3radd"
      },
      "outputs": [],
      "source": [
        "#Compiling the model\n"
      ]
    },
    {
      "cell_type": "code",
      "execution_count": null,
      "metadata": {
        "id": "W6zQWqGjrb54"
      },
      "outputs": [],
      "source": [
        "#Fit model\n"
      ]
    },
    {
      "cell_type": "code",
      "execution_count": null,
      "metadata": {
        "id": "uJdhQfZlDlXj"
      },
      "outputs": [],
      "source": [
        "#Plots\n"
      ]
    },
    {
      "cell_type": "markdown",
      "metadata": {
        "id": "3_rxKFH96Jeb"
      },
      "source": [
        "### Búsqueda hiperparámetros"
      ]
    },
    {
      "cell_type": "markdown",
      "metadata": {
        "id": "CqVgHOUoF3hN"
      },
      "source": [
        "Una vez tenemos el modelo base nos interesa buscar la configuración de hiperparámetros que nos proporcione una mejor predicción del precio de re-venta de los coches. En este apartado haremos una búsqueda de hiperparámetros, recorriendo varios valores de número de capas, número de neuronas, tamaño del batch y épocas."
      ]
    },
    {
      "cell_type": "markdown",
      "metadata": {
        "id": "DtiaTO_LyC6p"
      },
      "source": [
        "<div style=\"background-color: #EDF7FF; border-color: #7C9DBF; border-left: 5px solid #7C9DBF; padding: 0.5em;\">\n",
        "<strong>Ejercicio (1.75 puntos):</strong> Implementa una función que evalúe distintos modelos combinando las siguientes características:\n",
        "<ul>    \n",
        "   <li>Tres arquitecturas diferentes con las siguientes configuraciones de número de capas ocultas (completamente conectadas) y número de neuronas en cada capa:</li>\n",
        "        <ul>\n",
        "        <li>[128, 64, 16]</li>\n",
        "        <li>[16, 4]</li>\n",
        "        <li>[4, 4]</li>\n",
        "        </ul> \n",
        "   <li>Tamaño del batch de 16 y 32</li>\n",
        "   <li>Épocas de 20, 50 y 100</li>\n",
        "</ul>   \n",
        "    \n",
        "    \n",
        "Como en el ejercicio anterior, la primera capa oculta tendrá siempre activación ReLU y las demás activación tangencial. El inicializador de kernel estará en modo 'normal' y usaremos el optimizador Adam.\n",
        "\n",
        "    \n",
        "La función deberá proporcionar una tabla con los siguientes campos: arquitectura de la red seleccionada, épocas, tamaño del batch, tiempo de entrenamiento, y raíz del error cuadrático medio (RMSE) del modelo \n",
        "\n",
        "-----------------------------------------------------------------------------------------------------------\n",
        "<b>Importante</b>: para la entrega de la PEC, fijar el parámetro <code>verbose = 0</code> en el entrenamiento de los modelos. La solución únicamente debe mostrar la tabla resultante.\n",
        "</div>"
      ]
    },
    {
      "cell_type": "code",
      "execution_count": null,
      "metadata": {
        "id": "2KkKLxm6dyyE"
      },
      "outputs": [],
      "source": [
        "#Hiperparameter search function\n"
      ]
    },
    {
      "cell_type": "code",
      "execution_count": null,
      "metadata": {
        "id": "Mb0zgnA4eTr1"
      },
      "outputs": [],
      "source": [
        "#Compute search\n"
      ]
    },
    {
      "cell_type": "markdown",
      "metadata": {
        "id": "rqrm7yA24NnA"
      },
      "source": [
        "<div style=\"background-color: #EDF7FF; border-color: #7C9DBF; border-left: 5px solid #7C9DBF; padding: 0.5em;\">\n",
        "<strong>Ejercicio (0.25 puntos):</strong> Representa en un gráfico el RMSE vs la configuración de los modelos \n",
        "\n",
        "</div>"
      ]
    },
    {
      "cell_type": "code",
      "execution_count": null,
      "metadata": {
        "id": "o2P1ljcIzmEY"
      },
      "outputs": [],
      "source": [
        "#Plot\n"
      ]
    },
    {
      "cell_type": "markdown",
      "metadata": {
        "id": "t4N_tg0l6QKu"
      },
      "source": [
        "### Elección mejor modelo y predicción"
      ]
    },
    {
      "cell_type": "markdown",
      "metadata": {
        "id": "AEZsFSi34t-9"
      },
      "source": [
        "<div style=\"background-color: #EDF7FF; border-color: #7C9DBF; border-left: 5px solid #7C9DBF; padding: 0.5em;\">\n",
        "<strong>Ejercicio (1 punto):</strong> Identifica la configuración que proporciona mejores resultados:\n",
        "<ul> \n",
        "<li>Justifica la elección del modelo</li>\n",
        "<li>Compila y entrena el modelo elegido. Nota: para la entrega, presentar con verbose=0</li>\n",
        "<li>Muestra la correspondiente gráfica de pérdida de los conjuntos de entrenamiento y validación</li>\n",
        "<li>Calcula las predicciones del precio y muestra en una tabla el Precio original (<code>price</code>) y el Precio predicho (<code>predicted_price</code>) para las 10 primeras filas del conjunto de test</li>\n",
        "<li>Comenta los resultados obtenidos</li>\n",
        "</ul> \n",
        "</div>"
      ]
    },
    {
      "cell_type": "code",
      "execution_count": null,
      "metadata": {
        "id": "yTfD3bP25nlO"
      },
      "outputs": [],
      "source": [
        "#Best configuration justification\n"
      ]
    },
    {
      "cell_type": "code",
      "execution_count": null,
      "metadata": {
        "id": "HX-ArM1vFNhX"
      },
      "outputs": [],
      "source": [
        "#Create, compile and fit ANN best model\n"
      ]
    },
    {
      "cell_type": "code",
      "execution_count": null,
      "metadata": {
        "id": "NuBBa_vgk7Ci"
      },
      "outputs": [],
      "source": [
        "#Plot\n"
      ]
    },
    {
      "cell_type": "code",
      "execution_count": null,
      "metadata": {
        "id": "ID7eKLDdF0P4"
      },
      "outputs": [],
      "source": [
        "#Generate Predictions on testing data\n"
      ]
    },
    {
      "cell_type": "code",
      "execution_count": null,
      "metadata": {
        "id": "7gqSXyS8511-"
      },
      "outputs": [],
      "source": [
        "#Comment results\n"
      ]
    }
  ],
  "metadata": {
    "colab": {
      "collapsed_sections": [],
      "name": "20212_M2_875_PEC1_Enunciado.ipynb",
      "provenance": [],
      "toc_visible": true
    },
    "kernelspec": {
      "display_name": "Python 3 (ipykernel)",
      "language": "python",
      "name": "python3"
    },
    "language_info": {
      "codemirror_mode": {
        "name": "ipython",
        "version": 3
      },
      "file_extension": ".py",
      "mimetype": "text/x-python",
      "name": "python",
      "nbconvert_exporter": "python",
      "pygments_lexer": "ipython3",
      "version": "3.9.1"
    }
  },
  "nbformat": 4,
  "nbformat_minor": 0
}